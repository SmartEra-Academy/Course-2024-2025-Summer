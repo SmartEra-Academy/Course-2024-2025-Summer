{
  "nbformat": 4,
  "nbformat_minor": 0,
  "metadata": {
    "colab": {
      "provenance": [],
      "toc_visible": true,
      "mount_file_id": "1wTOWGZWbmIpsLXvHxKhlzbsoLphGGTbA",
      "authorship_tag": "ABX9TyPT3iTXsNNgfkid8rXNeTNR",
      "include_colab_link": true
    },
    "kernelspec": {
      "name": "python3",
      "display_name": "Python 3"
    },
    "language_info": {
      "name": "python"
    }
  },
  "cells": [
    {
      "cell_type": "markdown",
      "metadata": {
        "id": "view-in-github",
        "colab_type": "text"
      },
      "source": [
        "<a href=\"https://colab.research.google.com/github/tahmasbi1996/Course-2024-2025-Summer/blob/Sessions/TaTa.ipynb\" target=\"_parent\"><img src=\"https://colab.research.google.com/assets/colab-badge.svg\" alt=\"Open In Colab\"/></a>"
      ]
    },
    {
      "cell_type": "code",
      "source": [
        "%%capture\n",
        "!pip install qiskit"
      ],
      "metadata": {
        "id": "ODp4-FB9s2-H"
      },
      "execution_count": 82,
      "outputs": []
    },
    {
      "cell_type": "code",
      "execution_count": 83,
      "metadata": {
        "id": "32PwxUnmsMiQ"
      },
      "outputs": [],
      "source": [
        "# Essential libraries for math in AI\n",
        "import numpy as np  # Fundamental package for scientific computing\n",
        "import scipy as sp  # Library for scientific and technical computing\n",
        "import pandas as pd  # Data analysis and manipulation library\n",
        "\n",
        "# Visualization libraries\n",
        "import matplotlib.pyplot as plt  # Plotting library\n",
        "import seaborn as sns  # Statistical data visualization library\n",
        "import plotly.express as px  # Interactive visualization library\n",
        "\n",
        "# Linear algebra libraries\n",
        "import torch # Popular deep learning framework\n",
        "import tensorflow as tf  # Another popular deep learning framework\n",
        "\n",
        "# Optimization libraries\n",
        "import cvxpy as cp  # Convex optimization library\n",
        "import qiskit as qk  # Quantum computing library"
      ]
    },
    {
      "cell_type": "code",
      "source": [
        "np.random.seed(42)  # For reproducibility\n",
        "data = {\n",
        "    'Math': np.random.randint(0, 100, 50),\n",
        "    'Science': np.random.randint(0, 100, 50),\n",
        "    'English': np.random.randint(0, 100, 50)\n",
        "}\n",
        "df = pd.DataFrame(data)\n",
        "df.head()"
      ],
      "metadata": {
        "colab": {
          "base_uri": "https://localhost:8080/",
          "height": 206
        },
        "id": "b3KHQ0AutTBP",
        "outputId": "556e95c8-cb18-49e6-cdf0-77bc979ed914"
      },
      "execution_count": 100,
      "outputs": [
        {
          "output_type": "execute_result",
          "data": {
            "text/plain": [
              "   Math  Science  English\n",
              "0    51       17       25\n",
              "1    92        3       88\n",
              "2    14       88       59\n",
              "3    71       59       40\n",
              "4    60       13       28"
            ],
            "text/html": [
              "\n",
              "  <div id=\"df-0f92d741-a860-4533-a2be-d495627d54fa\" class=\"colab-df-container\">\n",
              "    <div>\n",
              "<style scoped>\n",
              "    .dataframe tbody tr th:only-of-type {\n",
              "        vertical-align: middle;\n",
              "    }\n",
              "\n",
              "    .dataframe tbody tr th {\n",
              "        vertical-align: top;\n",
              "    }\n",
              "\n",
              "    .dataframe thead th {\n",
              "        text-align: right;\n",
              "    }\n",
              "</style>\n",
              "<table border=\"1\" class=\"dataframe\">\n",
              "  <thead>\n",
              "    <tr style=\"text-align: right;\">\n",
              "      <th></th>\n",
              "      <th>Math</th>\n",
              "      <th>Science</th>\n",
              "      <th>English</th>\n",
              "    </tr>\n",
              "  </thead>\n",
              "  <tbody>\n",
              "    <tr>\n",
              "      <th>0</th>\n",
              "      <td>51</td>\n",
              "      <td>17</td>\n",
              "      <td>25</td>\n",
              "    </tr>\n",
              "    <tr>\n",
              "      <th>1</th>\n",
              "      <td>92</td>\n",
              "      <td>3</td>\n",
              "      <td>88</td>\n",
              "    </tr>\n",
              "    <tr>\n",
              "      <th>2</th>\n",
              "      <td>14</td>\n",
              "      <td>88</td>\n",
              "      <td>59</td>\n",
              "    </tr>\n",
              "    <tr>\n",
              "      <th>3</th>\n",
              "      <td>71</td>\n",
              "      <td>59</td>\n",
              "      <td>40</td>\n",
              "    </tr>\n",
              "    <tr>\n",
              "      <th>4</th>\n",
              "      <td>60</td>\n",
              "      <td>13</td>\n",
              "      <td>28</td>\n",
              "    </tr>\n",
              "  </tbody>\n",
              "</table>\n",
              "</div>\n",
              "    <div class=\"colab-df-buttons\">\n",
              "\n",
              "  <div class=\"colab-df-container\">\n",
              "    <button class=\"colab-df-convert\" onclick=\"convertToInteractive('df-0f92d741-a860-4533-a2be-d495627d54fa')\"\n",
              "            title=\"Convert this dataframe to an interactive table.\"\n",
              "            style=\"display:none;\">\n",
              "\n",
              "  <svg xmlns=\"http://www.w3.org/2000/svg\" height=\"24px\" viewBox=\"0 -960 960 960\">\n",
              "    <path d=\"M120-120v-720h720v720H120Zm60-500h600v-160H180v160Zm220 220h160v-160H400v160Zm0 220h160v-160H400v160ZM180-400h160v-160H180v160Zm440 0h160v-160H620v160ZM180-180h160v-160H180v160Zm440 0h160v-160H620v160Z\"/>\n",
              "  </svg>\n",
              "    </button>\n",
              "\n",
              "  <style>\n",
              "    .colab-df-container {\n",
              "      display:flex;\n",
              "      gap: 12px;\n",
              "    }\n",
              "\n",
              "    .colab-df-convert {\n",
              "      background-color: #E8F0FE;\n",
              "      border: none;\n",
              "      border-radius: 50%;\n",
              "      cursor: pointer;\n",
              "      display: none;\n",
              "      fill: #1967D2;\n",
              "      height: 32px;\n",
              "      padding: 0 0 0 0;\n",
              "      width: 32px;\n",
              "    }\n",
              "\n",
              "    .colab-df-convert:hover {\n",
              "      background-color: #E2EBFA;\n",
              "      box-shadow: 0px 1px 2px rgba(60, 64, 67, 0.3), 0px 1px 3px 1px rgba(60, 64, 67, 0.15);\n",
              "      fill: #174EA6;\n",
              "    }\n",
              "\n",
              "    .colab-df-buttons div {\n",
              "      margin-bottom: 4px;\n",
              "    }\n",
              "\n",
              "    [theme=dark] .colab-df-convert {\n",
              "      background-color: #3B4455;\n",
              "      fill: #D2E3FC;\n",
              "    }\n",
              "\n",
              "    [theme=dark] .colab-df-convert:hover {\n",
              "      background-color: #434B5C;\n",
              "      box-shadow: 0px 1px 3px 1px rgba(0, 0, 0, 0.15);\n",
              "      filter: drop-shadow(0px 1px 2px rgba(0, 0, 0, 0.3));\n",
              "      fill: #FFFFFF;\n",
              "    }\n",
              "  </style>\n",
              "\n",
              "    <script>\n",
              "      const buttonEl =\n",
              "        document.querySelector('#df-0f92d741-a860-4533-a2be-d495627d54fa button.colab-df-convert');\n",
              "      buttonEl.style.display =\n",
              "        google.colab.kernel.accessAllowed ? 'block' : 'none';\n",
              "\n",
              "      async function convertToInteractive(key) {\n",
              "        const element = document.querySelector('#df-0f92d741-a860-4533-a2be-d495627d54fa');\n",
              "        const dataTable =\n",
              "          await google.colab.kernel.invokeFunction('convertToInteractive',\n",
              "                                                    [key], {});\n",
              "        if (!dataTable) return;\n",
              "\n",
              "        const docLinkHtml = 'Like what you see? Visit the ' +\n",
              "          '<a target=\"_blank\" href=https://colab.research.google.com/notebooks/data_table.ipynb>data table notebook</a>'\n",
              "          + ' to learn more about interactive tables.';\n",
              "        element.innerHTML = '';\n",
              "        dataTable['output_type'] = 'display_data';\n",
              "        await google.colab.output.renderOutput(dataTable, element);\n",
              "        const docLink = document.createElement('div');\n",
              "        docLink.innerHTML = docLinkHtml;\n",
              "        element.appendChild(docLink);\n",
              "      }\n",
              "    </script>\n",
              "  </div>\n",
              "\n",
              "\n",
              "<div id=\"df-a2330032-c384-41d8-8324-effd4918a99e\">\n",
              "  <button class=\"colab-df-quickchart\" onclick=\"quickchart('df-a2330032-c384-41d8-8324-effd4918a99e')\"\n",
              "            title=\"Suggest charts\"\n",
              "            style=\"display:none;\">\n",
              "\n",
              "<svg xmlns=\"http://www.w3.org/2000/svg\" height=\"24px\"viewBox=\"0 0 24 24\"\n",
              "     width=\"24px\">\n",
              "    <g>\n",
              "        <path d=\"M19 3H5c-1.1 0-2 .9-2 2v14c0 1.1.9 2 2 2h14c1.1 0 2-.9 2-2V5c0-1.1-.9-2-2-2zM9 17H7v-7h2v7zm4 0h-2V7h2v10zm4 0h-2v-4h2v4z\"/>\n",
              "    </g>\n",
              "</svg>\n",
              "  </button>\n",
              "\n",
              "<style>\n",
              "  .colab-df-quickchart {\n",
              "      --bg-color: #E8F0FE;\n",
              "      --fill-color: #1967D2;\n",
              "      --hover-bg-color: #E2EBFA;\n",
              "      --hover-fill-color: #174EA6;\n",
              "      --disabled-fill-color: #AAA;\n",
              "      --disabled-bg-color: #DDD;\n",
              "  }\n",
              "\n",
              "  [theme=dark] .colab-df-quickchart {\n",
              "      --bg-color: #3B4455;\n",
              "      --fill-color: #D2E3FC;\n",
              "      --hover-bg-color: #434B5C;\n",
              "      --hover-fill-color: #FFFFFF;\n",
              "      --disabled-bg-color: #3B4455;\n",
              "      --disabled-fill-color: #666;\n",
              "  }\n",
              "\n",
              "  .colab-df-quickchart {\n",
              "    background-color: var(--bg-color);\n",
              "    border: none;\n",
              "    border-radius: 50%;\n",
              "    cursor: pointer;\n",
              "    display: none;\n",
              "    fill: var(--fill-color);\n",
              "    height: 32px;\n",
              "    padding: 0;\n",
              "    width: 32px;\n",
              "  }\n",
              "\n",
              "  .colab-df-quickchart:hover {\n",
              "    background-color: var(--hover-bg-color);\n",
              "    box-shadow: 0 1px 2px rgba(60, 64, 67, 0.3), 0 1px 3px 1px rgba(60, 64, 67, 0.15);\n",
              "    fill: var(--button-hover-fill-color);\n",
              "  }\n",
              "\n",
              "  .colab-df-quickchart-complete:disabled,\n",
              "  .colab-df-quickchart-complete:disabled:hover {\n",
              "    background-color: var(--disabled-bg-color);\n",
              "    fill: var(--disabled-fill-color);\n",
              "    box-shadow: none;\n",
              "  }\n",
              "\n",
              "  .colab-df-spinner {\n",
              "    border: 2px solid var(--fill-color);\n",
              "    border-color: transparent;\n",
              "    border-bottom-color: var(--fill-color);\n",
              "    animation:\n",
              "      spin 1s steps(1) infinite;\n",
              "  }\n",
              "\n",
              "  @keyframes spin {\n",
              "    0% {\n",
              "      border-color: transparent;\n",
              "      border-bottom-color: var(--fill-color);\n",
              "      border-left-color: var(--fill-color);\n",
              "    }\n",
              "    20% {\n",
              "      border-color: transparent;\n",
              "      border-left-color: var(--fill-color);\n",
              "      border-top-color: var(--fill-color);\n",
              "    }\n",
              "    30% {\n",
              "      border-color: transparent;\n",
              "      border-left-color: var(--fill-color);\n",
              "      border-top-color: var(--fill-color);\n",
              "      border-right-color: var(--fill-color);\n",
              "    }\n",
              "    40% {\n",
              "      border-color: transparent;\n",
              "      border-right-color: var(--fill-color);\n",
              "      border-top-color: var(--fill-color);\n",
              "    }\n",
              "    60% {\n",
              "      border-color: transparent;\n",
              "      border-right-color: var(--fill-color);\n",
              "    }\n",
              "    80% {\n",
              "      border-color: transparent;\n",
              "      border-right-color: var(--fill-color);\n",
              "      border-bottom-color: var(--fill-color);\n",
              "    }\n",
              "    90% {\n",
              "      border-color: transparent;\n",
              "      border-bottom-color: var(--fill-color);\n",
              "    }\n",
              "  }\n",
              "</style>\n",
              "\n",
              "  <script>\n",
              "    async function quickchart(key) {\n",
              "      const quickchartButtonEl =\n",
              "        document.querySelector('#' + key + ' button');\n",
              "      quickchartButtonEl.disabled = true;  // To prevent multiple clicks.\n",
              "      quickchartButtonEl.classList.add('colab-df-spinner');\n",
              "      try {\n",
              "        const charts = await google.colab.kernel.invokeFunction(\n",
              "            'suggestCharts', [key], {});\n",
              "      } catch (error) {\n",
              "        console.error('Error during call to suggestCharts:', error);\n",
              "      }\n",
              "      quickchartButtonEl.classList.remove('colab-df-spinner');\n",
              "      quickchartButtonEl.classList.add('colab-df-quickchart-complete');\n",
              "    }\n",
              "    (() => {\n",
              "      let quickchartButtonEl =\n",
              "        document.querySelector('#df-a2330032-c384-41d8-8324-effd4918a99e button');\n",
              "      quickchartButtonEl.style.display =\n",
              "        google.colab.kernel.accessAllowed ? 'block' : 'none';\n",
              "    })();\n",
              "  </script>\n",
              "</div>\n",
              "    </div>\n",
              "  </div>\n"
            ],
            "application/vnd.google.colaboratory.intrinsic+json": {
              "type": "dataframe",
              "variable_name": "df",
              "summary": "{\n  \"name\": \"df\",\n  \"rows\": 50,\n  \"fields\": [\n    {\n      \"column\": \"Math\",\n      \"properties\": {\n        \"dtype\": \"number\",\n        \"std\": 28,\n        \"min\": 1,\n        \"max\": 99,\n        \"num_unique_values\": 37,\n        \"samples\": [\n          37,\n          21,\n          60\n        ],\n        \"semantic_type\": \"\",\n        \"description\": \"\"\n      }\n    },\n    {\n      \"column\": \"Science\",\n      \"properties\": {\n        \"dtype\": \"number\",\n        \"std\": 30,\n        \"min\": 1,\n        \"max\": 99,\n        \"num_unique_values\": 38,\n        \"samples\": [\n          39,\n          81,\n          13\n        ],\n        \"semantic_type\": \"\",\n        \"description\": \"\"\n      }\n    },\n    {\n      \"column\": \"English\",\n      \"properties\": {\n        \"dtype\": \"number\",\n        \"std\": 31,\n        \"min\": 0,\n        \"max\": 98,\n        \"num_unique_values\": 38,\n        \"samples\": [\n          46,\n          89,\n          28\n        ],\n        \"semantic_type\": \"\",\n        \"description\": \"\"\n      }\n    }\n  ]\n}"
            }
          },
          "metadata": {},
          "execution_count": 100
        }
      ]
    },
    {
      "cell_type": "code",
      "source": [
        "data"
      ],
      "metadata": {
        "colab": {
          "base_uri": "https://localhost:8080/"
        },
        "id": "hpJ3QITwud3H",
        "outputId": "7b64d57b-3acd-40c6-be53-f65a1492c909"
      },
      "execution_count": 101,
      "outputs": [
        {
          "output_type": "execute_result",
          "data": {
            "text/plain": [
              "{'Math': array([51, 92, 14, 71, 60, 20, 82, 86, 74, 74, 87, 99, 23,  2, 21, 52,  1,\n",
              "        87, 29, 37,  1, 63, 59, 20, 32, 75, 57, 21, 88, 48, 90, 58, 41, 91,\n",
              "        59, 79, 14, 61, 61, 46, 61, 50, 54, 63,  2, 50,  6, 20, 72, 38]),\n",
              " 'Science': array([17,  3, 88, 59, 13,  8, 89, 52,  1, 83, 91, 59, 70, 43,  7, 46, 34,\n",
              "        77, 80, 35, 49,  3,  1,  5, 53,  3, 53, 92, 62, 17, 89, 43, 33, 73,\n",
              "        61, 99, 13, 94, 47, 14, 71, 77, 86, 61, 39, 84, 79, 81, 52, 23]),\n",
              " 'English': array([25, 88, 59, 40, 28, 14, 44, 64, 88, 70,  8, 87,  0,  7, 87, 62, 10,\n",
              "        80,  7, 34, 34, 32,  4, 40, 27,  6, 72, 71, 11, 33, 32, 47, 22, 61,\n",
              "        87, 36, 98, 43, 85, 90, 34, 64, 98, 46, 77,  2,  0,  4, 89, 13])}"
            ]
          },
          "metadata": {},
          "execution_count": 101
        }
      ]
    },
    {
      "cell_type": "code",
      "source": [
        "df"
      ],
      "metadata": {
        "colab": {
          "base_uri": "https://localhost:8080/",
          "height": 1000
        },
        "id": "5Y9lpu-nushc",
        "outputId": "99a0ec22-5f7a-4c16-c0d0-fea2ff4912c9"
      },
      "execution_count": 102,
      "outputs": [
        {
          "output_type": "execute_result",
          "data": {
            "text/plain": [
              "    Math  Science  English\n",
              "0     51       17       25\n",
              "1     92        3       88\n",
              "2     14       88       59\n",
              "3     71       59       40\n",
              "4     60       13       28\n",
              "5     20        8       14\n",
              "6     82       89       44\n",
              "7     86       52       64\n",
              "8     74        1       88\n",
              "9     74       83       70\n",
              "10    87       91        8\n",
              "11    99       59       87\n",
              "12    23       70        0\n",
              "13     2       43        7\n",
              "14    21        7       87\n",
              "15    52       46       62\n",
              "16     1       34       10\n",
              "17    87       77       80\n",
              "18    29       80        7\n",
              "19    37       35       34\n",
              "20     1       49       34\n",
              "21    63        3       32\n",
              "22    59        1        4\n",
              "23    20        5       40\n",
              "24    32       53       27\n",
              "25    75        3        6\n",
              "26    57       53       72\n",
              "27    21       92       71\n",
              "28    88       62       11\n",
              "29    48       17       33\n",
              "30    90       89       32\n",
              "31    58       43       47\n",
              "32    41       33       22\n",
              "33    91       73       61\n",
              "34    59       61       87\n",
              "35    79       99       36\n",
              "36    14       13       98\n",
              "37    61       94       43\n",
              "38    61       47       85\n",
              "39    46       14       90\n",
              "40    61       71       34\n",
              "41    50       77       64\n",
              "42    54       86       98\n",
              "43    63       61       46\n",
              "44     2       39       77\n",
              "45    50       84        2\n",
              "46     6       79        0\n",
              "47    20       81        4\n",
              "48    72       52       89\n",
              "49    38       23       13"
            ],
            "text/html": [
              "\n",
              "  <div id=\"df-2d9f8e0d-5994-44f9-b9e8-499a3fd9a349\" class=\"colab-df-container\">\n",
              "    <div>\n",
              "<style scoped>\n",
              "    .dataframe tbody tr th:only-of-type {\n",
              "        vertical-align: middle;\n",
              "    }\n",
              "\n",
              "    .dataframe tbody tr th {\n",
              "        vertical-align: top;\n",
              "    }\n",
              "\n",
              "    .dataframe thead th {\n",
              "        text-align: right;\n",
              "    }\n",
              "</style>\n",
              "<table border=\"1\" class=\"dataframe\">\n",
              "  <thead>\n",
              "    <tr style=\"text-align: right;\">\n",
              "      <th></th>\n",
              "      <th>Math</th>\n",
              "      <th>Science</th>\n",
              "      <th>English</th>\n",
              "    </tr>\n",
              "  </thead>\n",
              "  <tbody>\n",
              "    <tr>\n",
              "      <th>0</th>\n",
              "      <td>51</td>\n",
              "      <td>17</td>\n",
              "      <td>25</td>\n",
              "    </tr>\n",
              "    <tr>\n",
              "      <th>1</th>\n",
              "      <td>92</td>\n",
              "      <td>3</td>\n",
              "      <td>88</td>\n",
              "    </tr>\n",
              "    <tr>\n",
              "      <th>2</th>\n",
              "      <td>14</td>\n",
              "      <td>88</td>\n",
              "      <td>59</td>\n",
              "    </tr>\n",
              "    <tr>\n",
              "      <th>3</th>\n",
              "      <td>71</td>\n",
              "      <td>59</td>\n",
              "      <td>40</td>\n",
              "    </tr>\n",
              "    <tr>\n",
              "      <th>4</th>\n",
              "      <td>60</td>\n",
              "      <td>13</td>\n",
              "      <td>28</td>\n",
              "    </tr>\n",
              "    <tr>\n",
              "      <th>5</th>\n",
              "      <td>20</td>\n",
              "      <td>8</td>\n",
              "      <td>14</td>\n",
              "    </tr>\n",
              "    <tr>\n",
              "      <th>6</th>\n",
              "      <td>82</td>\n",
              "      <td>89</td>\n",
              "      <td>44</td>\n",
              "    </tr>\n",
              "    <tr>\n",
              "      <th>7</th>\n",
              "      <td>86</td>\n",
              "      <td>52</td>\n",
              "      <td>64</td>\n",
              "    </tr>\n",
              "    <tr>\n",
              "      <th>8</th>\n",
              "      <td>74</td>\n",
              "      <td>1</td>\n",
              "      <td>88</td>\n",
              "    </tr>\n",
              "    <tr>\n",
              "      <th>9</th>\n",
              "      <td>74</td>\n",
              "      <td>83</td>\n",
              "      <td>70</td>\n",
              "    </tr>\n",
              "    <tr>\n",
              "      <th>10</th>\n",
              "      <td>87</td>\n",
              "      <td>91</td>\n",
              "      <td>8</td>\n",
              "    </tr>\n",
              "    <tr>\n",
              "      <th>11</th>\n",
              "      <td>99</td>\n",
              "      <td>59</td>\n",
              "      <td>87</td>\n",
              "    </tr>\n",
              "    <tr>\n",
              "      <th>12</th>\n",
              "      <td>23</td>\n",
              "      <td>70</td>\n",
              "      <td>0</td>\n",
              "    </tr>\n",
              "    <tr>\n",
              "      <th>13</th>\n",
              "      <td>2</td>\n",
              "      <td>43</td>\n",
              "      <td>7</td>\n",
              "    </tr>\n",
              "    <tr>\n",
              "      <th>14</th>\n",
              "      <td>21</td>\n",
              "      <td>7</td>\n",
              "      <td>87</td>\n",
              "    </tr>\n",
              "    <tr>\n",
              "      <th>15</th>\n",
              "      <td>52</td>\n",
              "      <td>46</td>\n",
              "      <td>62</td>\n",
              "    </tr>\n",
              "    <tr>\n",
              "      <th>16</th>\n",
              "      <td>1</td>\n",
              "      <td>34</td>\n",
              "      <td>10</td>\n",
              "    </tr>\n",
              "    <tr>\n",
              "      <th>17</th>\n",
              "      <td>87</td>\n",
              "      <td>77</td>\n",
              "      <td>80</td>\n",
              "    </tr>\n",
              "    <tr>\n",
              "      <th>18</th>\n",
              "      <td>29</td>\n",
              "      <td>80</td>\n",
              "      <td>7</td>\n",
              "    </tr>\n",
              "    <tr>\n",
              "      <th>19</th>\n",
              "      <td>37</td>\n",
              "      <td>35</td>\n",
              "      <td>34</td>\n",
              "    </tr>\n",
              "    <tr>\n",
              "      <th>20</th>\n",
              "      <td>1</td>\n",
              "      <td>49</td>\n",
              "      <td>34</td>\n",
              "    </tr>\n",
              "    <tr>\n",
              "      <th>21</th>\n",
              "      <td>63</td>\n",
              "      <td>3</td>\n",
              "      <td>32</td>\n",
              "    </tr>\n",
              "    <tr>\n",
              "      <th>22</th>\n",
              "      <td>59</td>\n",
              "      <td>1</td>\n",
              "      <td>4</td>\n",
              "    </tr>\n",
              "    <tr>\n",
              "      <th>23</th>\n",
              "      <td>20</td>\n",
              "      <td>5</td>\n",
              "      <td>40</td>\n",
              "    </tr>\n",
              "    <tr>\n",
              "      <th>24</th>\n",
              "      <td>32</td>\n",
              "      <td>53</td>\n",
              "      <td>27</td>\n",
              "    </tr>\n",
              "    <tr>\n",
              "      <th>25</th>\n",
              "      <td>75</td>\n",
              "      <td>3</td>\n",
              "      <td>6</td>\n",
              "    </tr>\n",
              "    <tr>\n",
              "      <th>26</th>\n",
              "      <td>57</td>\n",
              "      <td>53</td>\n",
              "      <td>72</td>\n",
              "    </tr>\n",
              "    <tr>\n",
              "      <th>27</th>\n",
              "      <td>21</td>\n",
              "      <td>92</td>\n",
              "      <td>71</td>\n",
              "    </tr>\n",
              "    <tr>\n",
              "      <th>28</th>\n",
              "      <td>88</td>\n",
              "      <td>62</td>\n",
              "      <td>11</td>\n",
              "    </tr>\n",
              "    <tr>\n",
              "      <th>29</th>\n",
              "      <td>48</td>\n",
              "      <td>17</td>\n",
              "      <td>33</td>\n",
              "    </tr>\n",
              "    <tr>\n",
              "      <th>30</th>\n",
              "      <td>90</td>\n",
              "      <td>89</td>\n",
              "      <td>32</td>\n",
              "    </tr>\n",
              "    <tr>\n",
              "      <th>31</th>\n",
              "      <td>58</td>\n",
              "      <td>43</td>\n",
              "      <td>47</td>\n",
              "    </tr>\n",
              "    <tr>\n",
              "      <th>32</th>\n",
              "      <td>41</td>\n",
              "      <td>33</td>\n",
              "      <td>22</td>\n",
              "    </tr>\n",
              "    <tr>\n",
              "      <th>33</th>\n",
              "      <td>91</td>\n",
              "      <td>73</td>\n",
              "      <td>61</td>\n",
              "    </tr>\n",
              "    <tr>\n",
              "      <th>34</th>\n",
              "      <td>59</td>\n",
              "      <td>61</td>\n",
              "      <td>87</td>\n",
              "    </tr>\n",
              "    <tr>\n",
              "      <th>35</th>\n",
              "      <td>79</td>\n",
              "      <td>99</td>\n",
              "      <td>36</td>\n",
              "    </tr>\n",
              "    <tr>\n",
              "      <th>36</th>\n",
              "      <td>14</td>\n",
              "      <td>13</td>\n",
              "      <td>98</td>\n",
              "    </tr>\n",
              "    <tr>\n",
              "      <th>37</th>\n",
              "      <td>61</td>\n",
              "      <td>94</td>\n",
              "      <td>43</td>\n",
              "    </tr>\n",
              "    <tr>\n",
              "      <th>38</th>\n",
              "      <td>61</td>\n",
              "      <td>47</td>\n",
              "      <td>85</td>\n",
              "    </tr>\n",
              "    <tr>\n",
              "      <th>39</th>\n",
              "      <td>46</td>\n",
              "      <td>14</td>\n",
              "      <td>90</td>\n",
              "    </tr>\n",
              "    <tr>\n",
              "      <th>40</th>\n",
              "      <td>61</td>\n",
              "      <td>71</td>\n",
              "      <td>34</td>\n",
              "    </tr>\n",
              "    <tr>\n",
              "      <th>41</th>\n",
              "      <td>50</td>\n",
              "      <td>77</td>\n",
              "      <td>64</td>\n",
              "    </tr>\n",
              "    <tr>\n",
              "      <th>42</th>\n",
              "      <td>54</td>\n",
              "      <td>86</td>\n",
              "      <td>98</td>\n",
              "    </tr>\n",
              "    <tr>\n",
              "      <th>43</th>\n",
              "      <td>63</td>\n",
              "      <td>61</td>\n",
              "      <td>46</td>\n",
              "    </tr>\n",
              "    <tr>\n",
              "      <th>44</th>\n",
              "      <td>2</td>\n",
              "      <td>39</td>\n",
              "      <td>77</td>\n",
              "    </tr>\n",
              "    <tr>\n",
              "      <th>45</th>\n",
              "      <td>50</td>\n",
              "      <td>84</td>\n",
              "      <td>2</td>\n",
              "    </tr>\n",
              "    <tr>\n",
              "      <th>46</th>\n",
              "      <td>6</td>\n",
              "      <td>79</td>\n",
              "      <td>0</td>\n",
              "    </tr>\n",
              "    <tr>\n",
              "      <th>47</th>\n",
              "      <td>20</td>\n",
              "      <td>81</td>\n",
              "      <td>4</td>\n",
              "    </tr>\n",
              "    <tr>\n",
              "      <th>48</th>\n",
              "      <td>72</td>\n",
              "      <td>52</td>\n",
              "      <td>89</td>\n",
              "    </tr>\n",
              "    <tr>\n",
              "      <th>49</th>\n",
              "      <td>38</td>\n",
              "      <td>23</td>\n",
              "      <td>13</td>\n",
              "    </tr>\n",
              "  </tbody>\n",
              "</table>\n",
              "</div>\n",
              "    <div class=\"colab-df-buttons\">\n",
              "\n",
              "  <div class=\"colab-df-container\">\n",
              "    <button class=\"colab-df-convert\" onclick=\"convertToInteractive('df-2d9f8e0d-5994-44f9-b9e8-499a3fd9a349')\"\n",
              "            title=\"Convert this dataframe to an interactive table.\"\n",
              "            style=\"display:none;\">\n",
              "\n",
              "  <svg xmlns=\"http://www.w3.org/2000/svg\" height=\"24px\" viewBox=\"0 -960 960 960\">\n",
              "    <path d=\"M120-120v-720h720v720H120Zm60-500h600v-160H180v160Zm220 220h160v-160H400v160Zm0 220h160v-160H400v160ZM180-400h160v-160H180v160Zm440 0h160v-160H620v160ZM180-180h160v-160H180v160Zm440 0h160v-160H620v160Z\"/>\n",
              "  </svg>\n",
              "    </button>\n",
              "\n",
              "  <style>\n",
              "    .colab-df-container {\n",
              "      display:flex;\n",
              "      gap: 12px;\n",
              "    }\n",
              "\n",
              "    .colab-df-convert {\n",
              "      background-color: #E8F0FE;\n",
              "      border: none;\n",
              "      border-radius: 50%;\n",
              "      cursor: pointer;\n",
              "      display: none;\n",
              "      fill: #1967D2;\n",
              "      height: 32px;\n",
              "      padding: 0 0 0 0;\n",
              "      width: 32px;\n",
              "    }\n",
              "\n",
              "    .colab-df-convert:hover {\n",
              "      background-color: #E2EBFA;\n",
              "      box-shadow: 0px 1px 2px rgba(60, 64, 67, 0.3), 0px 1px 3px 1px rgba(60, 64, 67, 0.15);\n",
              "      fill: #174EA6;\n",
              "    }\n",
              "\n",
              "    .colab-df-buttons div {\n",
              "      margin-bottom: 4px;\n",
              "    }\n",
              "\n",
              "    [theme=dark] .colab-df-convert {\n",
              "      background-color: #3B4455;\n",
              "      fill: #D2E3FC;\n",
              "    }\n",
              "\n",
              "    [theme=dark] .colab-df-convert:hover {\n",
              "      background-color: #434B5C;\n",
              "      box-shadow: 0px 1px 3px 1px rgba(0, 0, 0, 0.15);\n",
              "      filter: drop-shadow(0px 1px 2px rgba(0, 0, 0, 0.3));\n",
              "      fill: #FFFFFF;\n",
              "    }\n",
              "  </style>\n",
              "\n",
              "    <script>\n",
              "      const buttonEl =\n",
              "        document.querySelector('#df-2d9f8e0d-5994-44f9-b9e8-499a3fd9a349 button.colab-df-convert');\n",
              "      buttonEl.style.display =\n",
              "        google.colab.kernel.accessAllowed ? 'block' : 'none';\n",
              "\n",
              "      async function convertToInteractive(key) {\n",
              "        const element = document.querySelector('#df-2d9f8e0d-5994-44f9-b9e8-499a3fd9a349');\n",
              "        const dataTable =\n",
              "          await google.colab.kernel.invokeFunction('convertToInteractive',\n",
              "                                                    [key], {});\n",
              "        if (!dataTable) return;\n",
              "\n",
              "        const docLinkHtml = 'Like what you see? Visit the ' +\n",
              "          '<a target=\"_blank\" href=https://colab.research.google.com/notebooks/data_table.ipynb>data table notebook</a>'\n",
              "          + ' to learn more about interactive tables.';\n",
              "        element.innerHTML = '';\n",
              "        dataTable['output_type'] = 'display_data';\n",
              "        await google.colab.output.renderOutput(dataTable, element);\n",
              "        const docLink = document.createElement('div');\n",
              "        docLink.innerHTML = docLinkHtml;\n",
              "        element.appendChild(docLink);\n",
              "      }\n",
              "    </script>\n",
              "  </div>\n",
              "\n",
              "\n",
              "<div id=\"df-5e692890-bcfc-4988-addd-a83deaa67e08\">\n",
              "  <button class=\"colab-df-quickchart\" onclick=\"quickchart('df-5e692890-bcfc-4988-addd-a83deaa67e08')\"\n",
              "            title=\"Suggest charts\"\n",
              "            style=\"display:none;\">\n",
              "\n",
              "<svg xmlns=\"http://www.w3.org/2000/svg\" height=\"24px\"viewBox=\"0 0 24 24\"\n",
              "     width=\"24px\">\n",
              "    <g>\n",
              "        <path d=\"M19 3H5c-1.1 0-2 .9-2 2v14c0 1.1.9 2 2 2h14c1.1 0 2-.9 2-2V5c0-1.1-.9-2-2-2zM9 17H7v-7h2v7zm4 0h-2V7h2v10zm4 0h-2v-4h2v4z\"/>\n",
              "    </g>\n",
              "</svg>\n",
              "  </button>\n",
              "\n",
              "<style>\n",
              "  .colab-df-quickchart {\n",
              "      --bg-color: #E8F0FE;\n",
              "      --fill-color: #1967D2;\n",
              "      --hover-bg-color: #E2EBFA;\n",
              "      --hover-fill-color: #174EA6;\n",
              "      --disabled-fill-color: #AAA;\n",
              "      --disabled-bg-color: #DDD;\n",
              "  }\n",
              "\n",
              "  [theme=dark] .colab-df-quickchart {\n",
              "      --bg-color: #3B4455;\n",
              "      --fill-color: #D2E3FC;\n",
              "      --hover-bg-color: #434B5C;\n",
              "      --hover-fill-color: #FFFFFF;\n",
              "      --disabled-bg-color: #3B4455;\n",
              "      --disabled-fill-color: #666;\n",
              "  }\n",
              "\n",
              "  .colab-df-quickchart {\n",
              "    background-color: var(--bg-color);\n",
              "    border: none;\n",
              "    border-radius: 50%;\n",
              "    cursor: pointer;\n",
              "    display: none;\n",
              "    fill: var(--fill-color);\n",
              "    height: 32px;\n",
              "    padding: 0;\n",
              "    width: 32px;\n",
              "  }\n",
              "\n",
              "  .colab-df-quickchart:hover {\n",
              "    background-color: var(--hover-bg-color);\n",
              "    box-shadow: 0 1px 2px rgba(60, 64, 67, 0.3), 0 1px 3px 1px rgba(60, 64, 67, 0.15);\n",
              "    fill: var(--button-hover-fill-color);\n",
              "  }\n",
              "\n",
              "  .colab-df-quickchart-complete:disabled,\n",
              "  .colab-df-quickchart-complete:disabled:hover {\n",
              "    background-color: var(--disabled-bg-color);\n",
              "    fill: var(--disabled-fill-color);\n",
              "    box-shadow: none;\n",
              "  }\n",
              "\n",
              "  .colab-df-spinner {\n",
              "    border: 2px solid var(--fill-color);\n",
              "    border-color: transparent;\n",
              "    border-bottom-color: var(--fill-color);\n",
              "    animation:\n",
              "      spin 1s steps(1) infinite;\n",
              "  }\n",
              "\n",
              "  @keyframes spin {\n",
              "    0% {\n",
              "      border-color: transparent;\n",
              "      border-bottom-color: var(--fill-color);\n",
              "      border-left-color: var(--fill-color);\n",
              "    }\n",
              "    20% {\n",
              "      border-color: transparent;\n",
              "      border-left-color: var(--fill-color);\n",
              "      border-top-color: var(--fill-color);\n",
              "    }\n",
              "    30% {\n",
              "      border-color: transparent;\n",
              "      border-left-color: var(--fill-color);\n",
              "      border-top-color: var(--fill-color);\n",
              "      border-right-color: var(--fill-color);\n",
              "    }\n",
              "    40% {\n",
              "      border-color: transparent;\n",
              "      border-right-color: var(--fill-color);\n",
              "      border-top-color: var(--fill-color);\n",
              "    }\n",
              "    60% {\n",
              "      border-color: transparent;\n",
              "      border-right-color: var(--fill-color);\n",
              "    }\n",
              "    80% {\n",
              "      border-color: transparent;\n",
              "      border-right-color: var(--fill-color);\n",
              "      border-bottom-color: var(--fill-color);\n",
              "    }\n",
              "    90% {\n",
              "      border-color: transparent;\n",
              "      border-bottom-color: var(--fill-color);\n",
              "    }\n",
              "  }\n",
              "</style>\n",
              "\n",
              "  <script>\n",
              "    async function quickchart(key) {\n",
              "      const quickchartButtonEl =\n",
              "        document.querySelector('#' + key + ' button');\n",
              "      quickchartButtonEl.disabled = true;  // To prevent multiple clicks.\n",
              "      quickchartButtonEl.classList.add('colab-df-spinner');\n",
              "      try {\n",
              "        const charts = await google.colab.kernel.invokeFunction(\n",
              "            'suggestCharts', [key], {});\n",
              "      } catch (error) {\n",
              "        console.error('Error during call to suggestCharts:', error);\n",
              "      }\n",
              "      quickchartButtonEl.classList.remove('colab-df-spinner');\n",
              "      quickchartButtonEl.classList.add('colab-df-quickchart-complete');\n",
              "    }\n",
              "    (() => {\n",
              "      let quickchartButtonEl =\n",
              "        document.querySelector('#df-5e692890-bcfc-4988-addd-a83deaa67e08 button');\n",
              "      quickchartButtonEl.style.display =\n",
              "        google.colab.kernel.accessAllowed ? 'block' : 'none';\n",
              "    })();\n",
              "  </script>\n",
              "</div>\n",
              "    </div>\n",
              "  </div>\n"
            ],
            "application/vnd.google.colaboratory.intrinsic+json": {
              "type": "dataframe",
              "variable_name": "df",
              "summary": "{\n  \"name\": \"df\",\n  \"rows\": 50,\n  \"fields\": [\n    {\n      \"column\": \"Math\",\n      \"properties\": {\n        \"dtype\": \"number\",\n        \"std\": 28,\n        \"min\": 1,\n        \"max\": 99,\n        \"num_unique_values\": 37,\n        \"samples\": [\n          37,\n          21,\n          60\n        ],\n        \"semantic_type\": \"\",\n        \"description\": \"\"\n      }\n    },\n    {\n      \"column\": \"Science\",\n      \"properties\": {\n        \"dtype\": \"number\",\n        \"std\": 30,\n        \"min\": 1,\n        \"max\": 99,\n        \"num_unique_values\": 38,\n        \"samples\": [\n          39,\n          81,\n          13\n        ],\n        \"semantic_type\": \"\",\n        \"description\": \"\"\n      }\n    },\n    {\n      \"column\": \"English\",\n      \"properties\": {\n        \"dtype\": \"number\",\n        \"std\": 31,\n        \"min\": 0,\n        \"max\": 98,\n        \"num_unique_values\": 38,\n        \"samples\": [\n          46,\n          89,\n          28\n        ],\n        \"semantic_type\": \"\",\n        \"description\": \"\"\n      }\n    }\n  ]\n}"
            }
          },
          "metadata": {},
          "execution_count": 102
        }
      ]
    },
    {
      "cell_type": "code",
      "source": [
        "# @title Math\n",
        "\n",
        "from matplotlib import pyplot as plt\n",
        "df['Math'].plot(kind='hist', bins=20, title='Math')\n",
        "plt.gca().spines[['top', 'right',]].set_visible(False)"
      ],
      "metadata": {
        "colab": {
          "base_uri": "https://localhost:8080/",
          "height": 452
        },
        "id": "klPqKQyhwwws",
        "outputId": "6b5598f8-be95-40e6-bca7-b946b4f2f76b"
      },
      "execution_count": 103,
      "outputs": [
        {
          "output_type": "display_data",
          "data": {
            "text/plain": [
              "<Figure size 640x480 with 1 Axes>"
            ],
            "image/png": "[encoded data removed]"
          },
          "metadata": {}
        }
      ]
    },
    {
      "cell_type": "code",
      "source": [
        "# Mean\n",
        "mean_math = df['Math'].mean()\n",
        "print(f\"Mean of Math scores: {mean_math}\")\n",
        "\n",
        "# Median\n",
        "median_math = df['Math'].median()\n",
        "print(f\"Median of Math scores: {median_math}\")\n",
        "\n",
        "# Mode\n",
        "mode_math = df['Math'].mode()[0]\n",
        "print(f\"Mode of Math scores: {mode_math}\")\n",
        "\n",
        "# Standard Deviation\n",
        "std_math = df['Math'].std()\n",
        "print(f\"Standard Deviation of Math scores: {std_math}\")"
      ],
      "metadata": {
        "colab": {
          "base_uri": "https://localhost:8080/"
        },
        "id": "kQp08B9ixeKG",
        "outputId": "a3eb5015-b3f1-4c71-8711-3bcb79aecb88"
      },
      "execution_count": 104,
      "outputs": [
        {
          "output_type": "stream",
          "name": "stdout",
          "text": [
            "Mean of Math scores: 50.84\n",
            "Median of Math scores: 55.5\n",
            "Mode of Math scores: 20\n",
            "Standard Deviation of Math scores: 28.132601467090144\n"
          ]
        }
      ]
    },
    {
      "cell_type": "code",
      "source": [
        "# Convert DataFrame column to NumPy array\n",
        "math_scores = df['Math'].to_numpy()\n",
        "\n",
        "# Mean\n",
        "mean_math = np.mean(math_scores)\n",
        "print(f\"Mean of Math scores: {mean_math}\")\n",
        "\n",
        "# Median\n",
        "median_math = np.median(math_scores)\n",
        "print(f\"Median of Math scores: {median_math}\")\n",
        "\n",
        "# Mode using SciPy\n",
        "mode_math = sp.stats.mode(math_scores)[0]\n",
        "print(f\"Mode of Math scores: {mode_math}\")\n",
        "\n",
        "# Standard Deviation\n",
        "std_math = np.std(math_scores)\n",
        "print(f\"Standard Deviation of Math scores: {std_math}\")"
      ],
      "metadata": {
        "colab": {
          "base_uri": "https://localhost:8080/"
        },
        "id": "ZvNjbPCvxkiL",
        "outputId": "ea0957ee-1597-4cef-8ecb-2280afd69e1c"
      },
      "execution_count": 105,
      "outputs": [
        {
          "output_type": "stream",
          "name": "stdout",
          "text": [
            "Mean of Math scores: 50.84\n",
            "Median of Math scores: 55.5\n",
            "Mode of Math scores: 20\n",
            "Standard Deviation of Math scores: 27.849854577717277\n"
          ]
        }
      ]
    },
    {
      "cell_type": "code",
      "source": [
        "# Histogram for Math scores\n",
        "sns.histplot(df['Math'], bins=10, kde=True)\n",
        "plt.title('Histogram of Math Scores')\n",
        "plt.xlabel('Scores')\n",
        "plt.ylabel('Frequency')\n",
        "plt.show()\n",
        "\n",
        "# Boxplot for Math scores\n",
        "sns.boxplot(data=df, x='Math')\n",
        "plt.title('Boxplot of Math Scores')\n",
        "plt.ylabel('Scores')\n",
        "plt.show()"
      ],
      "metadata": {
        "colab": {
          "base_uri": "https://localhost:8080/",
          "height": 927
        },
        "id": "f_7qaupDxqiN",
        "outputId": "6ea56b9a-99ef-42e3-9c73-87cfe26a1120"
      },
      "execution_count": 106,
      "outputs": [
        {
          "output_type": "display_data",
          "data": {
            "text/plain": [
              "<Figure size 640x480 with 1 Axes>"
            ],
            "image/png": "[encoded data removed]"
          },
          "metadata": {}
        },
        {
          "output_type": "display_data",
          "data": {
            "text/plain": [
              "<Figure size 640x480 with 1 Axes>"
            ],
            "image/png": "[encoded data removed]"
          },
          "metadata": {}
        }
      ]
    },
    {
      "cell_type": "code",
      "source": [
        "fig = px.histogram(df, x='Math', nbins=10, title='Interactive Histogram of Math Scores', marginal=\"box\", histnorm='probability')\n",
        "fig.show()"
      ],
      "metadata": {
        "colab": {
          "base_uri": "https://localhost:8080/",
          "height": 542
        },
        "id": "m0izn7NyxwUc",
        "outputId": "9b6e9dd4-8519-476d-fb32-41757e944a88"
      },
      "execution_count": 107,
      "outputs": [
        {
          "output_type": "display_data",
          "data": {
            "text/html": [
              "<html>\n",
              "<head><meta charset=\"utf-8\" /></head>\n",
              "<body>\n",
              "    <div>            <script src=\"https://cdnjs.cloudflare.com/ajax/libs/mathjax/2.7.5/MathJax.js?config=TeX-AMS-MML_SVG\"></script><script type=\"text/javascript\">if (window.MathJax && window.MathJax.Hub && window.MathJax.Hub.Config) {window.MathJax.Hub.Config({SVG: {font: \"STIX-Web\"}});}</script>                <script type=\"text/javascript\">window.PlotlyConfig = {MathJaxConfig: 'local'};</script>\n",
              "        <script charset=\"utf-8\" src=\"https://cdn.plot.ly/plotly-2.24.1.min.js\"></script>                <div id=\"d7f3bc0b-087c-450f-8644-6d38ead3e45d\" class=\"plotly-graph-div\" style=\"height:525px; width:100%;\"></div>            <script type=\"text/javascript\">                                    window.PLOTLYENV=window.PLOTLYENV || {};                                    if (document.getElementById(\"d7f3bc0b-087c-450f-8644-6d38ead3e45d\")) {                    Plotly.newPlot(                        \"d7f3bc0b-087c-450f-8644-6d38ead3e45d\",                        [{\"alignmentgroup\":\"True\",\"bingroup\":\"x\",\"histnorm\":\"probability\",\"hovertemplate\":\"Math=%{x}\\u003cbr\\u003eprobability=%{y}\\u003cextra\\u003e\\u003c\\u002fextra\\u003e\",\"legendgroup\":\"\",\"marker\":{\"color\":\"#636efa\",\"pattern\":{\"shape\":\"\"}},\"name\":\"\",\"nbinsx\":10,\"offsetgroup\":\"\",\"orientation\":\"v\",\"showlegend\":false,\"x\":[51,92,14,71,60,20,82,86,74,74,87,99,23,2,21,52,1,87,29,37,1,63,59,20,32,75,57,21,88,48,90,58,41,91,59,79,14,61,61,46,61,50,54,63,2,50,6,20,72,38],\"xaxis\":\"x\",\"yaxis\":\"y\",\"type\":\"histogram\"},{\"alignmentgroup\":\"True\",\"hovertemplate\":\"Math=%{x}\\u003cextra\\u003e\\u003c\\u002fextra\\u003e\",\"legendgroup\":\"\",\"marker\":{\"color\":\"#636efa\"},\"name\":\"\",\"notched\":true,\"offsetgroup\":\"\",\"showlegend\":false,\"x\":[51,92,14,71,60,20,82,86,74,74,87,99,23,2,21,52,1,87,29,37,1,63,59,20,32,75,57,21,88,48,90,58,41,91,59,79,14,61,61,46,61,50,54,63,2,50,6,20,72,38],\"xaxis\":\"x2\",\"yaxis\":\"y2\",\"type\":\"box\"}],                        {\"template\":{\"data\":{\"histogram2dcontour\":[{\"type\":\"histogram2dcontour\",\"colorbar\":{\"outlinewidth\":0,\"ticks\":\"\"},\"colorscale\":[[0.0,\"#0d0887\"],[0.1111111111111111,\"#46039f\"],[0.2222222222222222,\"#7201a8\"],[0.3333333333333333,\"#9c179e\"],[0.4444444444444444,\"#bd3786\"],[0.5555555555555556,\"#d8576b\"],[0.6666666666666666,\"#ed7953\"],[0.7777777777777778,\"#fb9f3a\"],[0.8888888888888888,\"#fdca26\"],[1.0,\"#f0f921\"]]}],\"choropleth\":[{\"type\":\"choropleth\",\"colorbar\":{\"outlinewidth\":0,\"ticks\":\"\"}}],\"histogram2d\":[{\"type\":\"histogram2d\",\"colorbar\":{\"outlinewidth\":0,\"ticks\":\"\"},\"colorscale\":[[0.0,\"#0d0887\"],[0.1111111111111111,\"#46039f\"],[0.2222222222222222,\"#7201a8\"],[0.3333333333333333,\"#9c179e\"],[0.4444444444444444,\"#bd3786\"],[0.5555555555555556,\"#d8576b\"],[0.6666666666666666,\"#ed7953\"],[0.7777777777777778,\"#fb9f3a\"],[0.8888888888888888,\"#fdca26\"],[1.0,\"#f0f921\"]]}],\"heatmap\":[{\"type\":\"heatmap\",\"colorbar\":{\"outlinewidth\":0,\"ticks\":\"\"},\"colorscale\":[[0.0,\"#0d0887\"],[0.1111111111111111,\"#46039f\"],[0.2222222222222222,\"#7201a8\"],[0.3333333333333333,\"#9c179e\"],[0.4444444444444444,\"#bd3786\"],[0.5555555555555556,\"#d8576b\"],[0.6666666666666666,\"#ed7953\"],[0.7777777777777778,\"#fb9f3a\"],[0.8888888888888888,\"#fdca26\"],[1.0,\"#f0f921\"]]}],\"heatmapgl\":[{\"type\":\"heatmapgl\",\"colorbar\":{\"outlinewidth\":0,\"ticks\":\"\"},\"colorscale\":[[0.0,\"#0d0887\"],[0.1111111111111111,\"#46039f\"],[0.2222222222222222,\"#7201a8\"],[0.3333333333333333,\"#9c179e\"],[0.4444444444444444,\"#bd3786\"],[0.5555555555555556,\"#d8576b\"],[0.6666666666666666,\"#ed7953\"],[0.7777777777777778,\"#fb9f3a\"],[0.8888888888888888,\"#fdca26\"],[1.0,\"#f0f921\"]]}],\"contourcarpet\":[{\"type\":\"contourcarpet\",\"colorbar\":{\"outlinewidth\":0,\"ticks\":\"\"}}],\"contour\":[{\"type\":\"contour\",\"colorbar\":{\"outlinewidth\":0,\"ticks\":\"\"},\"colorscale\":[[0.0,\"#0d0887\"],[0.1111111111111111,\"#46039f\"],[0.2222222222222222,\"#7201a8\"],[0.3333333333333333,\"#9c179e\"],[0.4444444444444444,\"#bd3786\"],[0.5555555555555556,\"#d8576b\"],[0.6666666666666666,\"#ed7953\"],[0.7777777777777778,\"#fb9f3a\"],[0.8888888888888888,\"#fdca26\"],[1.0,\"#f0f921\"]]}],\"surface\":[{\"type\":\"surface\",\"colorbar\":{\"outlinewidth\":0,\"ticks\":\"\"},\"colorscale\":[[0.0,\"#0d0887\"],[0.1111111111111111,\"#46039f\"],[0.2222222222222222,\"#7201a8\"],[0.3333333333333333,\"#9c179e\"],[0.4444444444444444,\"#bd3786\"],[0.5555555555555556,\"#d8576b\"],[0.6666666666666666,\"#ed7953\"],[0.7777777777777778,\"#fb9f3a\"],[0.8888888888888888,\"#fdca26\"],[1.0,\"#f0f921\"]]}],\"mesh3d\":[{\"type\":\"mesh3d\",\"colorbar\":{\"outlinewidth\":0,\"ticks\":\"\"}}],\"scatter\":[{\"fillpattern\":{\"fillmode\":\"overlay\",\"size\":10,\"solidity\":0.2},\"type\":\"scatter\"}],\"parcoords\":[{\"type\":\"parcoords\",\"line\":{\"colorbar\":{\"outlinewidth\":0,\"ticks\":\"\"}}}],\"scatterpolargl\":[{\"type\":\"scatterpolargl\",\"marker\":{\"colorbar\":{\"outlinewidth\":0,\"ticks\":\"\"}}}],\"bar\":[{\"error_x\":{\"color\":\"#2a3f5f\"},\"error_y\":{\"color\":\"#2a3f5f\"},\"marker\":{\"line\":{\"color\":\"#E5ECF6\",\"width\":0.5},\"pattern\":{\"fillmode\":\"overlay\",\"size\":10,\"solidity\":0.2}},\"type\":\"bar\"}],\"scattergeo\":[{\"type\":\"scattergeo\",\"marker\":{\"colorbar\":{\"outlinewidth\":0,\"ticks\":\"\"}}}],\"scatterpolar\":[{\"type\":\"scatterpolar\",\"marker\":{\"colorbar\":{\"outlinewidth\":0,\"ticks\":\"\"}}}],\"histogram\":[{\"marker\":{\"pattern\":{\"fillmode\":\"overlay\",\"size\":10,\"solidity\":0.2}},\"type\":\"histogram\"}],\"scattergl\":[{\"type\":\"scattergl\",\"marker\":{\"colorbar\":{\"outlinewidth\":0,\"ticks\":\"\"}}}],\"scatter3d\":[{\"type\":\"scatter3d\",\"line\":{\"colorbar\":{\"outlinewidth\":0,\"ticks\":\"\"}},\"marker\":{\"colorbar\":{\"outlinewidth\":0,\"ticks\":\"\"}}}],\"scattermapbox\":[{\"type\":\"scattermapbox\",\"marker\":{\"colorbar\":{\"outlinewidth\":0,\"ticks\":\"\"}}}],\"scatterternary\":[{\"type\":\"scatterternary\",\"marker\":{\"colorbar\":{\"outlinewidth\":0,\"ticks\":\"\"}}}],\"scattercarpet\":[{\"type\":\"scattercarpet\",\"marker\":{\"colorbar\":{\"outlinewidth\":0,\"ticks\":\"\"}}}],\"carpet\":[{\"aaxis\":{\"endlinecolor\":\"#2a3f5f\",\"gridcolor\":\"white\",\"linecolor\":\"white\",\"minorgridcolor\":\"white\",\"startlinecolor\":\"#2a3f5f\"},\"baxis\":{\"endlinecolor\":\"#2a3f5f\",\"gridcolor\":\"white\",\"linecolor\":\"white\",\"minorgridcolor\":\"white\",\"startlinecolor\":\"#2a3f5f\"},\"type\":\"carpet\"}],\"table\":[{\"cells\":{\"fill\":{\"color\":\"#EBF0F8\"},\"line\":{\"color\":\"white\"}},\"header\":{\"fill\":{\"color\":\"#C8D4E3\"},\"line\":{\"color\":\"white\"}},\"type\":\"table\"}],\"barpolar\":[{\"marker\":{\"line\":{\"color\":\"#E5ECF6\",\"width\":0.5},\"pattern\":{\"fillmode\":\"overlay\",\"size\":10,\"solidity\":0.2}},\"type\":\"barpolar\"}],\"pie\":[{\"automargin\":true,\"type\":\"pie\"}]},\"layout\":{\"autotypenumbers\":\"strict\",\"colorway\":[\"#636efa\",\"#EF553B\",\"#00cc96\",\"#ab63fa\",\"#FFA15A\",\"#19d3f3\",\"#FF6692\",\"#B6E880\",\"#FF97FF\",\"#FECB52\"],\"font\":{\"color\":\"#2a3f5f\"},\"hovermode\":\"closest\",\"hoverlabel\":{\"align\":\"left\"},\"paper_bgcolor\":\"white\",\"plot_bgcolor\":\"#E5ECF6\",\"polar\":{\"bgcolor\":\"#E5ECF6\",\"angularaxis\":{\"gridcolor\":\"white\",\"linecolor\":\"white\",\"ticks\":\"\"},\"radialaxis\":{\"gridcolor\":\"white\",\"linecolor\":\"white\",\"ticks\":\"\"}},\"ternary\":{\"bgcolor\":\"#E5ECF6\",\"aaxis\":{\"gridcolor\":\"white\",\"linecolor\":\"white\",\"ticks\":\"\"},\"baxis\":{\"gridcolor\":\"white\",\"linecolor\":\"white\",\"ticks\":\"\"},\"caxis\":{\"gridcolor\":\"white\",\"linecolor\":\"white\",\"ticks\":\"\"}},\"coloraxis\":{\"colorbar\":{\"outlinewidth\":0,\"ticks\":\"\"}},\"colorscale\":{\"sequential\":[[0.0,\"#0d0887\"],[0.1111111111111111,\"#46039f\"],[0.2222222222222222,\"#7201a8\"],[0.3333333333333333,\"#9c179e\"],[0.4444444444444444,\"#bd3786\"],[0.5555555555555556,\"#d8576b\"],[0.6666666666666666,\"#ed7953\"],[0.7777777777777778,\"#fb9f3a\"],[0.8888888888888888,\"#fdca26\"],[1.0,\"#f0f921\"]],\"sequentialminus\":[[0.0,\"#0d0887\"],[0.1111111111111111,\"#46039f\"],[0.2222222222222222,\"#7201a8\"],[0.3333333333333333,\"#9c179e\"],[0.4444444444444444,\"#bd3786\"],[0.5555555555555556,\"#d8576b\"],[0.6666666666666666,\"#ed7953\"],[0.7777777777777778,\"#fb9f3a\"],[0.8888888888888888,\"#fdca26\"],[1.0,\"#f0f921\"]],\"diverging\":[[0,\"#8e0152\"],[0.1,\"#c51b7d\"],[0.2,\"#de77ae\"],[0.3,\"#f1b6da\"],[0.4,\"#fde0ef\"],[0.5,\"#f7f7f7\"],[0.6,\"#e6f5d0\"],[0.7,\"#b8e186\"],[0.8,\"#7fbc41\"],[0.9,\"#4d9221\"],[1,\"#276419\"]]},\"xaxis\":{\"gridcolor\":\"white\",\"linecolor\":\"white\",\"ticks\":\"\",\"title\":{\"standoff\":15},\"zerolinecolor\":\"white\",\"automargin\":true,\"zerolinewidth\":2},\"yaxis\":{\"gridcolor\":\"white\",\"linecolor\":\"white\",\"ticks\":\"\",\"title\":{\"standoff\":15},\"zerolinecolor\":\"white\",\"automargin\":true,\"zerolinewidth\":2},\"scene\":{\"xaxis\":{\"backgroundcolor\":\"#E5ECF6\",\"gridcolor\":\"white\",\"linecolor\":\"white\",\"showbackground\":true,\"ticks\":\"\",\"zerolinecolor\":\"white\",\"gridwidth\":2},\"yaxis\":{\"backgroundcolor\":\"#E5ECF6\",\"gridcolor\":\"white\",\"linecolor\":\"white\",\"showbackground\":true,\"ticks\":\"\",\"zerolinecolor\":\"white\",\"gridwidth\":2},\"zaxis\":{\"backgroundcolor\":\"#E5ECF6\",\"gridcolor\":\"white\",\"linecolor\":\"white\",\"showbackground\":true,\"ticks\":\"\",\"zerolinecolor\":\"white\",\"gridwidth\":2}},\"shapedefaults\":{\"line\":{\"color\":\"#2a3f5f\"}},\"annotationdefaults\":{\"arrowcolor\":\"#2a3f5f\",\"arrowhead\":0,\"arrowwidth\":1},\"geo\":{\"bgcolor\":\"white\",\"landcolor\":\"#E5ECF6\",\"subunitcolor\":\"white\",\"showland\":true,\"showlakes\":true,\"lakecolor\":\"white\"},\"title\":{\"x\":0.05},\"mapbox\":{\"style\":\"light\"}}},\"xaxis\":{\"anchor\":\"y\",\"domain\":[0.0,1.0],\"title\":{\"text\":\"Math\"}},\"yaxis\":{\"anchor\":\"x\",\"domain\":[0.0,0.8316],\"title\":{\"text\":\"probability\"}},\"xaxis2\":{\"anchor\":\"y2\",\"domain\":[0.0,1.0],\"matches\":\"x\",\"showticklabels\":false,\"showgrid\":true},\"yaxis2\":{\"anchor\":\"x2\",\"domain\":[0.8416,1.0],\"matches\":\"y2\",\"showticklabels\":false,\"showline\":false,\"ticks\":\"\",\"showgrid\":false},\"legend\":{\"tracegroupgap\":0},\"title\":{\"text\":\"Interactive Histogram of Math Scores\"},\"barmode\":\"relative\"},                        {\"responsive\": true}                    ).then(function(){\n",
              "                            \n",
              "var gd = document.getElementById('d7f3bc0b-087c-450f-8644-6d38ead3e45d');\n",
              "var x = new MutationObserver(function (mutations, observer) {{\n",
              "        var display = window.getComputedStyle(gd).display;\n",
              "        if (!display || display === 'none') {{\n",
              "            console.log([gd, 'removed!']);\n",
              "            Plotly.purge(gd);\n",
              "            observer.disconnect();\n",
              "        }}\n",
              "}});\n",
              "\n",
              "// Listen for the removal of the full notebook cells\n",
              "var notebookContainer = gd.closest('#notebook-container');\n",
              "if (notebookContainer) {{\n",
              "    x.observe(notebookContainer, {childList: true});\n",
              "}}\n",
              "\n",
              "// Listen for the clearing of the current output cell\n",
              "var outputEl = gd.closest('.output');\n",
              "if (outputEl) {{\n",
              "    x.observe(outputEl, {childList: true});\n",
              "}}\n",
              "\n",
              "                        })                };                            </script>        </div>\n",
              "</body>\n",
              "</html>"
            ]
          },
          "metadata": {}
        }
      ]
    },
    {
      "cell_type": "markdown",
      "source": [
        "FM 1 : Calculate Statistical Parameters For Other Features And Write Explain About That Feature 🧑"
      ],
      "metadata": {
        "id": "0ZNjUi01zcE7"
      }
    },
    {
      "cell_type": "code",
      "source": [
        "# @title English\n",
        "df['English'].plot(kind='hist', bins=20, title='English')\n",
        "plt.gca().spines[['top', 'right',]].set_visible(False)"
      ],
      "metadata": {
        "colab": {
          "base_uri": "https://localhost:8080/",
          "height": 452
        },
        "id": "gVBJPsOY7y1Q",
        "outputId": "08c6ca1c-c020-4711-e661-5038acf0d4b8"
      },
      "execution_count": 109,
      "outputs": [
        {
          "output_type": "display_data",
          "data": {
            "text/plain": [
              "<Figure size 640x480 with 1 Axes>"
            ],
            "image/png": "[encoded data removed]"
          },
          "metadata": {}
        }
      ]
    },
    {
      "cell_type": "code",
      "source": [
        "# Mean\n",
        "mean_English = df['English'].mean()\n",
        "print(f\"Mean of English scores: {mean_English}\")\n",
        "\n",
        "# Median\n",
        "median_English = df['English'].median()\n",
        "print(f\"Median of English scores: {median_English}\")\n",
        "\n",
        "# Mode\n",
        "mode_English = df['English'].mode()[0]\n",
        "print(f\"Mode of English scores: {mode_English}\")\n",
        "\n",
        "# Standard Deviation\n",
        "std_English = df['English'].std()\n",
        "print(f\"Standard Deviation of English scores: {std_English}\")"
      ],
      "metadata": {
        "colab": {
          "base_uri": "https://localhost:8080/"
        },
        "id": "K8wrOq7f9vyY",
        "outputId": "92059fd3-a7b1-4d5b-9490-397b0385d481"
      },
      "execution_count": 110,
      "outputs": [
        {
          "output_type": "stream",
          "name": "stdout",
          "text": [
            "Mean of English scores: 45.2\n",
            "Median of English scores: 40.0\n",
            "Mode of English scores: 34\n",
            "Standard Deviation of English scores: 31.246877395009818\n"
          ]
        }
      ]
    },
    {
      "cell_type": "code",
      "source": [
        "# Convert DataFrame column to NumPy array\n",
        "English_scores = df['English'].to_numpy()\n",
        "\n",
        "# Mean\n",
        "mean_English = np.mean(math_scores)\n",
        "print(f\"Mean of English scores: {mean_English}\")\n",
        "\n",
        "# Median\n",
        "median_English = np.median(math_scores)\n",
        "print(f\"Median of English scores: {median_English}\")\n",
        "\n",
        "# Mode using SciPy\n",
        "mode_English = sp.stats.mode(math_scores)[0]\n",
        "print(f\"Mode of English scores: {mode_English}\")\n",
        "\n",
        "# Standard Deviation\n",
        "std_English = np.std(English_scores)\n",
        "print(f\"Standard Deviation of English scores: {std_English}\")"
      ],
      "metadata": {
        "colab": {
          "base_uri": "https://localhost:8080/"
        },
        "id": "dRjhNCb1BbGe",
        "outputId": "8d5d795c-a2f7-4c07-9cad-3b6213d10be2"
      },
      "execution_count": 111,
      "outputs": [
        {
          "output_type": "stream",
          "name": "stdout",
          "text": [
            "Mean of English scores: 50.84\n",
            "Median of English scores: 55.5\n",
            "Mode of English scores: 20\n",
            "Standard Deviation of English scores: 30.93283045568252\n"
          ]
        }
      ]
    },
    {
      "cell_type": "code",
      "source": [
        "# Histogram for English scores\n",
        "sns.histplot(df['English'], bins=10, kde=True)\n",
        "plt.title('Histogram of English Scores')\n",
        "plt.xlabel('Scores')\n",
        "plt.ylabel('Frequency')\n",
        "plt.show()\n",
        "\n",
        "# Boxplot for English scores\n",
        "sns.boxplot(data=df, x='English')\n",
        "plt.title('Boxplot of English Scores')\n",
        "plt.ylabel('Scores')\n",
        "plt.show()"
      ],
      "metadata": {
        "colab": {
          "base_uri": "https://localhost:8080/",
          "height": 927
        },
        "id": "CVs7CnOxD-il",
        "outputId": "e964d84f-894e-421d-fd33-6eb425b50c79"
      },
      "execution_count": 112,
      "outputs": [
        {
          "output_type": "display_data",
          "data": {
            "text/plain": [
              "<Figure size 640x480 with 1 Axes>"
            ],
            "image/png": "[encoded data removed]"
          },
          "metadata": {}
        },
        {
          "output_type": "display_data",
          "data": {
            "text/plain": [
              "<Figure size 640x480 with 1 Axes>"
            ],
            "image/png": "[encoded data removed]"
          },
          "metadata": {}
        }
      ]
    },
    {
      "cell_type": "markdown",
      "source": [
        "FM 2: why numpy std and pandas std is difference?\n",
        "In a nutshell, neither is \"incorrect\". Pandas uses the unbiased estimator (N-1 in the denominator), whereas Numpy by default does not.\n",
        "To make them behave the same, pass ddof=1 to numpy.std()."
      ],
      "metadata": {
        "id": "M5b7IYAUzy2b"
      }
    },
    {
      "cell_type": "code",
      "source": [
        "normal_data = np.random.normal(loc=0, scale=1, size=1000)"
      ],
      "metadata": {
        "id": "IA_9wVzXz4ks"
      },
      "execution_count": null,
      "outputs": []
    },
    {
      "cell_type": "code",
      "source": [
        "mean_normal = np.mean(normal_data)\n",
        "std_normal = np.std(normal_data)\n",
        "print(f\"Mean of normal distribution: {mean_normal}\")\n",
        "print(f\"Standard Deviation of normal distribution: {std_normal}\")"
      ],
      "metadata": {
        "colab": {
          "base_uri": "https://localhost:8080/"
        },
        "id": "vR5GnXla0F7r",
        "outputId": "70c622ea-6d6d-4d97-e031-8570c5d205f9"
      },
      "execution_count": null,
      "outputs": [
        {
          "output_type": "stream",
          "name": "stdout",
          "text": [
            "Mean of normal distribution: -0.03628641559879813\n",
            "Standard Deviation of normal distribution: 1.0429735348560978\n"
          ]
        }
      ]
    },
    {
      "cell_type": "code",
      "source": [
        "sns.histplot(normal_data, bins=30, kde=True)\n",
        "plt.title('Histogram of Normal Distribution')\n",
        "plt.xlabel('Value')\n",
        "plt.ylabel('Frequency')\n",
        "plt.show()"
      ],
      "metadata": {
        "colab": {
          "base_uri": "https://localhost:8080/",
          "height": 472
        },
        "id": "l7hGZvF60Wqq",
        "outputId": "a8177af1-827f-4531-a8eb-7f13dbcdc6ce"
      },
      "execution_count": null,
      "outputs": [
        {
          "output_type": "display_data",
          "data": {
            "text/plain": [
              "<Figure size 640x480 with 1 Axes>"
            ],
            "image/png": "[encoded data removed]"
          },
          "metadata": {}
        }
      ]
    },
    {
      "cell_type": "code",
      "source": [
        "quantiles = df['Math'].quantile([0.05,0.1,0.25, 0.5, 0.75])\n",
        "print(f\"Quantiles of Math scores:\\n{quantiles}\")"
      ],
      "metadata": {
        "colab": {
          "base_uri": "https://localhost:8080/"
        },
        "id": "eSFah8ia0Zrq",
        "outputId": "e3a9fc6c-5fe5-483d-818b-6a9770f06fab"
      },
      "execution_count": null,
      "outputs": [
        {
          "output_type": "stream",
          "name": "stdout",
          "text": [
            "Quantiles of Math scores:\n",
            "0.05     2.0\n",
            "0.10    13.2\n",
            "0.25    24.5\n",
            "0.50    55.5\n",
            "0.75    73.5\n",
            "Name: Math, dtype: float64\n"
          ]
        }
      ]
    },
    {
      "cell_type": "code",
      "source": [
        "sns.boxplot(data=df, x='Math')\n",
        "plt.title('Boxplot of Math Scores')\n",
        "plt.ylabel('Scores')\n",
        "plt.show()"
      ],
      "metadata": {
        "colab": {
          "base_uri": "https://localhost:8080/",
          "height": 472
        },
        "id": "Gup4R5Ay0hiR",
        "outputId": "e446c2e4-b3fe-450d-9303-616e2fe3215c"
      },
      "execution_count": null,
      "outputs": [
        {
          "output_type": "display_data",
          "data": {
            "text/plain": [
              "<Figure size 640x480 with 1 Axes>"
            ],
            "image/png": "[encoded data removed]"
          },
          "metadata": {}
        }
      ]
    },
    {
      "cell_type": "code",
      "source": [
        "sns.histplot(df['Math'], bins=10, kde=True)\n",
        "plt.title('Histogram of Math Scores')\n",
        "plt.xlabel('Scores')\n",
        "plt.ylabel('Frequency')\n",
        "plt.show()"
      ],
      "metadata": {
        "colab": {
          "base_uri": "https://localhost:8080/",
          "height": 472
        },
        "id": "Y73QUw-o0l7a",
        "outputId": "f36ecc68-a705-493d-f57c-7fa9c79838b6"
      },
      "execution_count": null,
      "outputs": [
        {
          "output_type": "display_data",
          "data": {
            "text/plain": [
              "<Figure size 640x480 with 1 Axes>"
            ],
            "image/png": "[encoded data removed]"
          },
          "metadata": {}
        }
      ]
    },
    {
      "cell_type": "code",
      "source": [
        "fig = px.box(data, title='Boxplot with Plotly')\n",
        "fig.show()"
      ],
      "metadata": {
        "colab": {
          "base_uri": "https://localhost:8080/",
          "height": 542
        },
        "id": "nxZsI7hM0quy",
        "outputId": "e2a8e505-dbf3-43c6-fc14-6bd85e087a2e"
      },
      "execution_count": null,
      "outputs": [
        {
          "output_type": "display_data",
          "data": {
            "text/html": [
              "<html>\n",
              "<head><meta charset=\"utf-8\" /></head>\n",
              "<body>\n",
              "    <div>            <script src=\"https://cdnjs.cloudflare.com/ajax/libs/mathjax/2.7.5/MathJax.js?config=TeX-AMS-MML_SVG\"></script><script type=\"text/javascript\">if (window.MathJax && window.MathJax.Hub && window.MathJax.Hub.Config) {window.MathJax.Hub.Config({SVG: {font: \"STIX-Web\"}});}</script>                <script type=\"text/javascript\">window.PlotlyConfig = {MathJaxConfig: 'local'};</script>\n",
              "        <script charset=\"utf-8\" src=\"https://cdn.plot.ly/plotly-2.24.1.min.js\"></script>                <div id=\"6032a31a-b7ef-47d1-82a4-ef52514de36f\" class=\"plotly-graph-div\" style=\"height:525px; width:100%;\"></div>            <script type=\"text/javascript\">                                    window.PLOTLYENV=window.PLOTLYENV || {};                                    if (document.getElementById(\"6032a31a-b7ef-47d1-82a4-ef52514de36f\")) {                    Plotly.newPlot(                        \"6032a31a-b7ef-47d1-82a4-ef52514de36f\",                        [{\"alignmentgroup\":\"True\",\"hovertemplate\":\"variable=%{x}\\u003cbr\\u003evalue=%{y}\\u003cextra\\u003e\\u003c\\u002fextra\\u003e\",\"legendgroup\":\"\",\"marker\":{\"color\":\"#636efa\"},\"name\":\"\",\"notched\":false,\"offsetgroup\":\"\",\"orientation\":\"v\",\"showlegend\":false,\"x\":[\"Math\",\"Math\",\"Math\",\"Math\",\"Math\",\"Math\",\"Math\",\"Math\",\"Math\",\"Math\",\"Math\",\"Math\",\"Math\",\"Math\",\"Math\",\"Math\",\"Math\",\"Math\",\"Math\",\"Math\",\"Math\",\"Math\",\"Math\",\"Math\",\"Math\",\"Math\",\"Math\",\"Math\",\"Math\",\"Math\",\"Math\",\"Math\",\"Math\",\"Math\",\"Math\",\"Math\",\"Math\",\"Math\",\"Math\",\"Math\",\"Math\",\"Math\",\"Math\",\"Math\",\"Math\",\"Math\",\"Math\",\"Math\",\"Math\",\"Math\",\"Science\",\"Science\",\"Science\",\"Science\",\"Science\",\"Science\",\"Science\",\"Science\",\"Science\",\"Science\",\"Science\",\"Science\",\"Science\",\"Science\",\"Science\",\"Science\",\"Science\",\"Science\",\"Science\",\"Science\",\"Science\",\"Science\",\"Science\",\"Science\",\"Science\",\"Science\",\"Science\",\"Science\",\"Science\",\"Science\",\"Science\",\"Science\",\"Science\",\"Science\",\"Science\",\"Science\",\"Science\",\"Science\",\"Science\",\"Science\",\"Science\",\"Science\",\"Science\",\"Science\",\"Science\",\"Science\",\"Science\",\"Science\",\"Science\",\"Science\",\"English\",\"English\",\"English\",\"English\",\"English\",\"English\",\"English\",\"English\",\"English\",\"English\",\"English\",\"English\",\"English\",\"English\",\"English\",\"English\",\"English\",\"English\",\"English\",\"English\",\"English\",\"English\",\"English\",\"English\",\"English\",\"English\",\"English\",\"English\",\"English\",\"English\",\"English\",\"English\",\"English\",\"English\",\"English\",\"English\",\"English\",\"English\",\"English\",\"English\",\"English\",\"English\",\"English\",\"English\",\"English\",\"English\",\"English\",\"English\",\"English\",\"English\"],\"x0\":\" \",\"xaxis\":\"x\",\"y\":[51,92,14,71,60,20,82,86,74,74,87,99,23,2,21,52,1,87,29,37,1,63,59,20,32,75,57,21,88,48,90,58,41,91,59,79,14,61,61,46,61,50,54,63,2,50,6,20,72,38,17,3,88,59,13,8,89,52,1,83,91,59,70,43,7,46,34,77,80,35,49,3,1,5,53,3,53,92,62,17,89,43,33,73,61,99,13,94,47,14,71,77,86,61,39,84,79,81,52,23,25,88,59,40,28,14,44,64,88,70,8,87,0,7,87,62,10,80,7,34,34,32,4,40,27,6,72,71,11,33,32,47,22,61,87,36,98,43,85,90,34,64,98,46,77,2,0,4,89,13],\"y0\":\" \",\"yaxis\":\"y\",\"type\":\"box\"}],                        {\"template\":{\"data\":{\"histogram2dcontour\":[{\"type\":\"histogram2dcontour\",\"colorbar\":{\"outlinewidth\":0,\"ticks\":\"\"},\"colorscale\":[[0.0,\"#0d0887\"],[0.1111111111111111,\"#46039f\"],[0.2222222222222222,\"#7201a8\"],[0.3333333333333333,\"#9c179e\"],[0.4444444444444444,\"#bd3786\"],[0.5555555555555556,\"#d8576b\"],[0.6666666666666666,\"#ed7953\"],[0.7777777777777778,\"#fb9f3a\"],[0.8888888888888888,\"#fdca26\"],[1.0,\"#f0f921\"]]}],\"choropleth\":[{\"type\":\"choropleth\",\"colorbar\":{\"outlinewidth\":0,\"ticks\":\"\"}}],\"histogram2d\":[{\"type\":\"histogram2d\",\"colorbar\":{\"outlinewidth\":0,\"ticks\":\"\"},\"colorscale\":[[0.0,\"#0d0887\"],[0.1111111111111111,\"#46039f\"],[0.2222222222222222,\"#7201a8\"],[0.3333333333333333,\"#9c179e\"],[0.4444444444444444,\"#bd3786\"],[0.5555555555555556,\"#d8576b\"],[0.6666666666666666,\"#ed7953\"],[0.7777777777777778,\"#fb9f3a\"],[0.8888888888888888,\"#fdca26\"],[1.0,\"#f0f921\"]]}],\"heatmap\":[{\"type\":\"heatmap\",\"colorbar\":{\"outlinewidth\":0,\"ticks\":\"\"},\"colorscale\":[[0.0,\"#0d0887\"],[0.1111111111111111,\"#46039f\"],[0.2222222222222222,\"#7201a8\"],[0.3333333333333333,\"#9c179e\"],[0.4444444444444444,\"#bd3786\"],[0.5555555555555556,\"#d8576b\"],[0.6666666666666666,\"#ed7953\"],[0.7777777777777778,\"#fb9f3a\"],[0.8888888888888888,\"#fdca26\"],[1.0,\"#f0f921\"]]}],\"heatmapgl\":[{\"type\":\"heatmapgl\",\"colorbar\":{\"outlinewidth\":0,\"ticks\":\"\"},\"colorscale\":[[0.0,\"#0d0887\"],[0.1111111111111111,\"#46039f\"],[0.2222222222222222,\"#7201a8\"],[0.3333333333333333,\"#9c179e\"],[0.4444444444444444,\"#bd3786\"],[0.5555555555555556,\"#d8576b\"],[0.6666666666666666,\"#ed7953\"],[0.7777777777777778,\"#fb9f3a\"],[0.8888888888888888,\"#fdca26\"],[1.0,\"#f0f921\"]]}],\"contourcarpet\":[{\"type\":\"contourcarpet\",\"colorbar\":{\"outlinewidth\":0,\"ticks\":\"\"}}],\"contour\":[{\"type\":\"contour\",\"colorbar\":{\"outlinewidth\":0,\"ticks\":\"\"},\"colorscale\":[[0.0,\"#0d0887\"],[0.1111111111111111,\"#46039f\"],[0.2222222222222222,\"#7201a8\"],[0.3333333333333333,\"#9c179e\"],[0.4444444444444444,\"#bd3786\"],[0.5555555555555556,\"#d8576b\"],[0.6666666666666666,\"#ed7953\"],[0.7777777777777778,\"#fb9f3a\"],[0.8888888888888888,\"#fdca26\"],[1.0,\"#f0f921\"]]}],\"surface\":[{\"type\":\"surface\",\"colorbar\":{\"outlinewidth\":0,\"ticks\":\"\"},\"colorscale\":[[0.0,\"#0d0887\"],[0.1111111111111111,\"#46039f\"],[0.2222222222222222,\"#7201a8\"],[0.3333333333333333,\"#9c179e\"],[0.4444444444444444,\"#bd3786\"],[0.5555555555555556,\"#d8576b\"],[0.6666666666666666,\"#ed7953\"],[0.7777777777777778,\"#fb9f3a\"],[0.8888888888888888,\"#fdca26\"],[1.0,\"#f0f921\"]]}],\"mesh3d\":[{\"type\":\"mesh3d\",\"colorbar\":{\"outlinewidth\":0,\"ticks\":\"\"}}],\"scatter\":[{\"fillpattern\":{\"fillmode\":\"overlay\",\"size\":10,\"solidity\":0.2},\"type\":\"scatter\"}],\"parcoords\":[{\"type\":\"parcoords\",\"line\":{\"colorbar\":{\"outlinewidth\":0,\"ticks\":\"\"}}}],\"scatterpolargl\":[{\"type\":\"scatterpolargl\",\"marker\":{\"colorbar\":{\"outlinewidth\":0,\"ticks\":\"\"}}}],\"bar\":[{\"error_x\":{\"color\":\"#2a3f5f\"},\"error_y\":{\"color\":\"#2a3f5f\"},\"marker\":{\"line\":{\"color\":\"#E5ECF6\",\"width\":0.5},\"pattern\":{\"fillmode\":\"overlay\",\"size\":10,\"solidity\":0.2}},\"type\":\"bar\"}],\"scattergeo\":[{\"type\":\"scattergeo\",\"marker\":{\"colorbar\":{\"outlinewidth\":0,\"ticks\":\"\"}}}],\"scatterpolar\":[{\"type\":\"scatterpolar\",\"marker\":{\"colorbar\":{\"outlinewidth\":0,\"ticks\":\"\"}}}],\"histogram\":[{\"marker\":{\"pattern\":{\"fillmode\":\"overlay\",\"size\":10,\"solidity\":0.2}},\"type\":\"histogram\"}],\"scattergl\":[{\"type\":\"scattergl\",\"marker\":{\"colorbar\":{\"outlinewidth\":0,\"ticks\":\"\"}}}],\"scatter3d\":[{\"type\":\"scatter3d\",\"line\":{\"colorbar\":{\"outlinewidth\":0,\"ticks\":\"\"}},\"marker\":{\"colorbar\":{\"outlinewidth\":0,\"ticks\":\"\"}}}],\"scattermapbox\":[{\"type\":\"scattermapbox\",\"marker\":{\"colorbar\":{\"outlinewidth\":0,\"ticks\":\"\"}}}],\"scatterternary\":[{\"type\":\"scatterternary\",\"marker\":{\"colorbar\":{\"outlinewidth\":0,\"ticks\":\"\"}}}],\"scattercarpet\":[{\"type\":\"scattercarpet\",\"marker\":{\"colorbar\":{\"outlinewidth\":0,\"ticks\":\"\"}}}],\"carpet\":[{\"aaxis\":{\"endlinecolor\":\"#2a3f5f\",\"gridcolor\":\"white\",\"linecolor\":\"white\",\"minorgridcolor\":\"white\",\"startlinecolor\":\"#2a3f5f\"},\"baxis\":{\"endlinecolor\":\"#2a3f5f\",\"gridcolor\":\"white\",\"linecolor\":\"white\",\"minorgridcolor\":\"white\",\"startlinecolor\":\"#2a3f5f\"},\"type\":\"carpet\"}],\"table\":[{\"cells\":{\"fill\":{\"color\":\"#EBF0F8\"},\"line\":{\"color\":\"white\"}},\"header\":{\"fill\":{\"color\":\"#C8D4E3\"},\"line\":{\"color\":\"white\"}},\"type\":\"table\"}],\"barpolar\":[{\"marker\":{\"line\":{\"color\":\"#E5ECF6\",\"width\":0.5},\"pattern\":{\"fillmode\":\"overlay\",\"size\":10,\"solidity\":0.2}},\"type\":\"barpolar\"}],\"pie\":[{\"automargin\":true,\"type\":\"pie\"}]},\"layout\":{\"autotypenumbers\":\"strict\",\"colorway\":[\"#636efa\",\"#EF553B\",\"#00cc96\",\"#ab63fa\",\"#FFA15A\",\"#19d3f3\",\"#FF6692\",\"#B6E880\",\"#FF97FF\",\"#FECB52\"],\"font\":{\"color\":\"#2a3f5f\"},\"hovermode\":\"closest\",\"hoverlabel\":{\"align\":\"left\"},\"paper_bgcolor\":\"white\",\"plot_bgcolor\":\"#E5ECF6\",\"polar\":{\"bgcolor\":\"#E5ECF6\",\"angularaxis\":{\"gridcolor\":\"white\",\"linecolor\":\"white\",\"ticks\":\"\"},\"radialaxis\":{\"gridcolor\":\"white\",\"linecolor\":\"white\",\"ticks\":\"\"}},\"ternary\":{\"bgcolor\":\"#E5ECF6\",\"aaxis\":{\"gridcolor\":\"white\",\"linecolor\":\"white\",\"ticks\":\"\"},\"baxis\":{\"gridcolor\":\"white\",\"linecolor\":\"white\",\"ticks\":\"\"},\"caxis\":{\"gridcolor\":\"white\",\"linecolor\":\"white\",\"ticks\":\"\"}},\"coloraxis\":{\"colorbar\":{\"outlinewidth\":0,\"ticks\":\"\"}},\"colorscale\":{\"sequential\":[[0.0,\"#0d0887\"],[0.1111111111111111,\"#46039f\"],[0.2222222222222222,\"#7201a8\"],[0.3333333333333333,\"#9c179e\"],[0.4444444444444444,\"#bd3786\"],[0.5555555555555556,\"#d8576b\"],[0.6666666666666666,\"#ed7953\"],[0.7777777777777778,\"#fb9f3a\"],[0.8888888888888888,\"#fdca26\"],[1.0,\"#f0f921\"]],\"sequentialminus\":[[0.0,\"#0d0887\"],[0.1111111111111111,\"#46039f\"],[0.2222222222222222,\"#7201a8\"],[0.3333333333333333,\"#9c179e\"],[0.4444444444444444,\"#bd3786\"],[0.5555555555555556,\"#d8576b\"],[0.6666666666666666,\"#ed7953\"],[0.7777777777777778,\"#fb9f3a\"],[0.8888888888888888,\"#fdca26\"],[1.0,\"#f0f921\"]],\"diverging\":[[0,\"#8e0152\"],[0.1,\"#c51b7d\"],[0.2,\"#de77ae\"],[0.3,\"#f1b6da\"],[0.4,\"#fde0ef\"],[0.5,\"#f7f7f7\"],[0.6,\"#e6f5d0\"],[0.7,\"#b8e186\"],[0.8,\"#7fbc41\"],[0.9,\"#4d9221\"],[1,\"#276419\"]]},\"xaxis\":{\"gridcolor\":\"white\",\"linecolor\":\"white\",\"ticks\":\"\",\"title\":{\"standoff\":15},\"zerolinecolor\":\"white\",\"automargin\":true,\"zerolinewidth\":2},\"yaxis\":{\"gridcolor\":\"white\",\"linecolor\":\"white\",\"ticks\":\"\",\"title\":{\"standoff\":15},\"zerolinecolor\":\"white\",\"automargin\":true,\"zerolinewidth\":2},\"scene\":{\"xaxis\":{\"backgroundcolor\":\"#E5ECF6\",\"gridcolor\":\"white\",\"linecolor\":\"white\",\"showbackground\":true,\"ticks\":\"\",\"zerolinecolor\":\"white\",\"gridwidth\":2},\"yaxis\":{\"backgroundcolor\":\"#E5ECF6\",\"gridcolor\":\"white\",\"linecolor\":\"white\",\"showbackground\":true,\"ticks\":\"\",\"zerolinecolor\":\"white\",\"gridwidth\":2},\"zaxis\":{\"backgroundcolor\":\"#E5ECF6\",\"gridcolor\":\"white\",\"linecolor\":\"white\",\"showbackground\":true,\"ticks\":\"\",\"zerolinecolor\":\"white\",\"gridwidth\":2}},\"shapedefaults\":{\"line\":{\"color\":\"#2a3f5f\"}},\"annotationdefaults\":{\"arrowcolor\":\"#2a3f5f\",\"arrowhead\":0,\"arrowwidth\":1},\"geo\":{\"bgcolor\":\"white\",\"landcolor\":\"#E5ECF6\",\"subunitcolor\":\"white\",\"showland\":true,\"showlakes\":true,\"lakecolor\":\"white\"},\"title\":{\"x\":0.05},\"mapbox\":{\"style\":\"light\"}}},\"xaxis\":{\"anchor\":\"y\",\"domain\":[0.0,1.0],\"title\":{\"text\":\"variable\"}},\"yaxis\":{\"anchor\":\"x\",\"domain\":[0.0,1.0],\"title\":{\"text\":\"value\"}},\"legend\":{\"tracegroupgap\":0},\"title\":{\"text\":\"Boxplot with Plotly\"},\"boxmode\":\"group\"},                        {\"responsive\": true}                    ).then(function(){\n",
              "                            \n",
              "var gd = document.getElementById('6032a31a-b7ef-47d1-82a4-ef52514de36f');\n",
              "var x = new MutationObserver(function (mutations, observer) {{\n",
              "        var display = window.getComputedStyle(gd).display;\n",
              "        if (!display || display === 'none') {{\n",
              "            console.log([gd, 'removed!']);\n",
              "            Plotly.purge(gd);\n",
              "            observer.disconnect();\n",
              "        }}\n",
              "}});\n",
              "\n",
              "// Listen for the removal of the full notebook cells\n",
              "var notebookContainer = gd.closest('#notebook-container');\n",
              "if (notebookContainer) {{\n",
              "    x.observe(notebookContainer, {childList: true});\n",
              "}}\n",
              "\n",
              "// Listen for the clearing of the current output cell\n",
              "var outputEl = gd.closest('.output');\n",
              "if (outputEl) {{\n",
              "    x.observe(outputEl, {childList: true});\n",
              "}}\n",
              "\n",
              "                        })                };                            </script>        </div>\n",
              "</body>\n",
              "</html>"
            ]
          },
          "metadata": {}
        }
      ]
    },
    {
      "cell_type": "code",
      "source": [
        "for column in df.select_dtypes(include=[np.number]).columns:\n",
        "    print(f\"Analyzing column: {column}\")\n",
        "\n",
        "    # Descriptive statistics\n",
        "    mean_col = df[column].mean()\n",
        "    median_col = df[column].median()\n",
        "    std_col = df[column].std()\n",
        "    skewness_col = df[column].skew()\n",
        "    print(f\"Mean: {mean_col}\")\n",
        "    print(f\"Median: {median_col}\")\n",
        "    print(f\"Standard Deviation: {std_col}\")\n",
        "    print(f\"Skewness: {skewness_col}\")\n",
        "\n",
        "    # Histogram\n",
        "    plt.figure(figsize=(10, 5))\n",
        "    plt.subplot(1, 2, 1)\n",
        "    sns.histplot(df[column], kde=True)\n",
        "    plt.title(f\"Histogram of {column}\")\n",
        "\n",
        "    # Box plot\n",
        "    plt.subplot(1, 2, 2)\n",
        "    sns.boxplot(y=df[column])\n",
        "    plt.title(f\"Box Plot of {column}\")\n",
        "    plt.show()"
      ],
      "metadata": {
        "colab": {
          "base_uri": "https://localhost:8080/",
          "height": 1000
        },
        "id": "VYwrI4W20w0z",
        "outputId": "5943afc1-c937-4de9-e83c-cfc84cef58db"
      },
      "execution_count": null,
      "outputs": [
        {
          "output_type": "stream",
          "name": "stdout",
          "text": [
            "Analyzing column: Math\n",
            "Mean: 50.84\n",
            "Median: 55.5\n",
            "Standard Deviation: 28.132601467090144\n",
            "Skewness: -0.23144905777680605\n"
          ]
        },
        {
          "output_type": "display_data",
          "data": {
            "text/plain": [
              "<Figure size 1000x500 with 2 Axes>"
            ],
            "image/png": "[encoded data removed]"
          },
          "metadata": {}
        },
        {
          "output_type": "stream",
          "name": "stdout",
          "text": [
            "Analyzing column: Science\n",
            "Mean: 50.24\n",
            "Median: 52.5\n",
            "Standard Deviation: 30.94864739387174\n",
            "Skewness: -0.20234317022427395\n"
          ]
        },
        {
          "output_type": "display_data",
          "data": {
            "text/plain": [
              "<Figure size 1000x500 with 2 Axes>"
            ],
            "image/png": "[encoded data removed]"
          },
          "metadata": {}
        },
        {
          "output_type": "stream",
          "name": "stdout",
          "text": [
            "Analyzing column: English\n",
            "Mean: 45.2\n",
            "Median: 40.0\n",
            "Standard Deviation: 31.246877395009818\n",
            "Skewness: 0.1662404313768301\n"
          ]
        },
        {
          "output_type": "display_data",
          "data": {
            "text/plain": [
              "<Figure size 1000x500 with 2 Axes>"
            ],
            "image/png": "[encoded data removed]"
          },
          "metadata": {}
        }
      ]
    },
    {
      "cell_type": "code",
      "source": [
        "corr, _ = sp.stats.pearsonr(df['Math'], df['Science'])\n",
        "print(f\"Pearson correlation between Math and Science scores: {corr}\")"
      ],
      "metadata": {
        "colab": {
          "base_uri": "https://localhost:8080/"
        },
        "id": "8bcFKd_41BYh",
        "outputId": "aff7eb8a-9803-41e3-990b-1e4e4085009a"
      },
      "execution_count": null,
      "outputs": [
        {
          "output_type": "stream",
          "name": "stdout",
          "text": [
            "Pearson correlation between Math and Science scores: 0.1563175935834571\n"
          ]
        }
      ]
    },
    {
      "cell_type": "code",
      "source": [
        "corr = df.corr()\n",
        "sns.heatmap(corr, annot=True)"
      ],
      "metadata": {
        "colab": {
          "base_uri": "https://localhost:8080/",
          "height": 452
        },
        "id": "sPonVe5F1Nuk",
        "outputId": "710bc20a-b306-4d8f-fb5f-79abda9bc0cb"
      },
      "execution_count": null,
      "outputs": [
        {
          "output_type": "execute_result",
          "data": {
            "text/plain": [
              "<Axes: >"
            ]
          },
          "metadata": {},
          "execution_count": 40
        },
        {
          "output_type": "display_data",
          "data": {
            "text/plain": [
              "<Figure size 640x480 with 2 Axes>"
            ],
            "image/png": "[encoded data removed]"
          },
          "metadata": {}
        }
      ]
    },
    {
      "cell_type": "code",
      "source": [
        "# Creating a vector\n",
        "# Creating a vector with NumPy\n",
        "v_np = np.array([1, 2, 3])\n",
        "print(\"NumPy Vector v:\", v_np)\n",
        "\n",
        "# Creating a vector with PyTorch\n",
        "v_pt = torch.tensor([1, 2, 3])\n",
        "print(\"PyTorch Vector v:\", v_pt)\n",
        "\n",
        "# Creating a vector with TensorFlow\n",
        "v_tf = tf.constant([1, 2, 3])\n",
        "print(\"TensorFlow Vector v:\", v_tf)"
      ],
      "metadata": {
        "colab": {
          "base_uri": "https://localhost:8080/"
        },
        "id": "KPsyJ4k81QHb",
        "outputId": "4264e6c6-660e-44be-9801-5f8984ce3ea3"
      },
      "execution_count": null,
      "outputs": [
        {
          "output_type": "stream",
          "name": "stdout",
          "text": [
            "NumPy Vector v: [1 2 3]\n",
            "PyTorch Vector v: tensor([1, 2, 3])\n",
            "TensorFlow Vector v: tf.Tensor([1 2 3], shape=(3,), dtype=int32)\n"
          ]
        }
      ]
    },
    {
      "cell_type": "code",
      "source": [
        "# Creating a matrix with NumPy\n",
        "A_np = np.array([[1, 2, 3], [4, 5, 6], [7, 8, 9]])\n",
        "print(\"NumPy Matrix A:\\n\", A_np, '\\n')\n",
        "\n",
        "# Creating a matrix with PyTorch\n",
        "A_pt = torch.tensor([[1, 2, 3], [4, 5, 6], [7, 8, 9]])\n",
        "print(\"PyTorch Matrix A:\\n\", A_pt, '\\n')\n",
        "\n",
        "# Creating a matrix with TensorFlow\n",
        "A_tf = tf.constant([[1, 2, 3], [4, 5, 6], [7, 8, 9]])\n",
        "print(\"TensorFlow Matrix A:\\n\", A_tf, '\\n')"
      ],
      "metadata": {
        "colab": {
          "base_uri": "https://localhost:8080/"
        },
        "id": "uVcw7jH81Ycd",
        "outputId": "dd3ef2bf-b64c-4562-89da-b1cc740d6371"
      },
      "execution_count": null,
      "outputs": [
        {
          "output_type": "stream",
          "name": "stdout",
          "text": [
            "NumPy Matrix A:\n",
            " [[1 2 3]\n",
            " [4 5 6]\n",
            " [7 8 9]] \n",
            "\n",
            "PyTorch Matrix A:\n",
            " tensor([[1, 2, 3],\n",
            "        [4, 5, 6],\n",
            "        [7, 8, 9]]) \n",
            "\n",
            "TensorFlow Matrix A:\n",
            " tf.Tensor(\n",
            "[[1 2 3]\n",
            " [4 5 6]\n",
            " [7 8 9]], shape=(3, 3), dtype=int32) \n",
            "\n"
          ]
        }
      ]
    },
    {
      "cell_type": "code",
      "source": [
        "# Vector addition with NumPy\n",
        "v1_np = np.array([1, 2, 3])\n",
        "v2_np = np.array([4, 5, 6])\n",
        "v_add_np = v1_np + v2_np\n",
        "print(\"NumPy Vector addition:\", v_add_np)\n",
        "\n",
        "# Vector addition with PyTorch\n",
        "v1_pt = torch.tensor([1, 2, 3])\n",
        "v2_pt = torch.tensor([4, 5, 6])\n",
        "v_add_pt = v1_pt + v2_pt\n",
        "print(\"PyTorch Vector addition:\", v_add_pt)\n",
        "\n",
        "# Vector addition with TensorFlow\n",
        "v1_tf = tf.constant([1, 2, 3])\n",
        "v2_tf = tf.constant([4, 5, 6])\n",
        "v_add_tf = v1_tf + v2_tf\n",
        "print(\"TensorFlow Vector addition:\", v_add_tf)"
      ],
      "metadata": {
        "colab": {
          "base_uri": "https://localhost:8080/"
        },
        "id": "zD1NaHPI1gFD",
        "outputId": "2585a6d0-bf04-4b30-bb70-a3390d74e1d3"
      },
      "execution_count": null,
      "outputs": [
        {
          "output_type": "stream",
          "name": "stdout",
          "text": [
            "NumPy Vector addition: [5 7 9]\n",
            "PyTorch Vector addition: tensor([5, 7, 9])\n",
            "TensorFlow Vector addition: tf.Tensor([5 7 9], shape=(3,), dtype=int32)\n"
          ]
        }
      ]
    },
    {
      "cell_type": "code",
      "source": [
        "# Vector subtraction with NumPy\n",
        "v_sub_np = v1_np - v2_np\n",
        "print(\"NumPy Vector subtraction:\", v_sub_np)\n",
        "\n",
        "# Vector subtraction with PyTorch\n",
        "v_sub_pt = v1_pt - v2_pt\n",
        "print(\"PyTorch Vector subtraction:\", v_sub_pt)\n",
        "\n",
        "# Vector subtraction with TensorFlow\n",
        "v_sub_tf = v1_tf - v2_tf\n",
        "print(\"TensorFlow Vector subtraction:\", v_sub_tf)"
      ],
      "metadata": {
        "colab": {
          "base_uri": "https://localhost:8080/"
        },
        "id": "WEv_NyP11m5R",
        "outputId": "5d0a93ea-f14c-4336-d676-fdc5dd6237c0"
      },
      "execution_count": null,
      "outputs": [
        {
          "output_type": "stream",
          "name": "stdout",
          "text": [
            "NumPy Vector subtraction: [-3 -3 -3]\n",
            "PyTorch Vector subtraction: tensor([-3, -3, -3])\n",
            "TensorFlow Vector subtraction: tf.Tensor([-3 -3 -3], shape=(3,), dtype=int32)\n"
          ]
        }
      ]
    },
    {
      "cell_type": "code",
      "source": [
        "# Matrix addition with NumPy\n",
        "A_np = np.array([[1, 2], [3, 4]])\n",
        "B_np = np.array([[5, 6], [7, 8]])\n",
        "C_add_np = A_np + B_np\n",
        "print(\"NumPy Matrix addition:\\n\", C_add_np)\n",
        "\n",
        "# Matrix addition with PyTorch\n",
        "A_pt = torch.tensor([[1, 2], [3, 4]])\n",
        "B_pt = torch.tensor([[5, 6], [7, 8]])\n",
        "C_add_pt = A_pt + B_pt\n",
        "print(\"PyTorch Matrix addition:\\n\", C_add_pt)\n",
        "\n",
        "# Matrix addition with TensorFlow\n",
        "A_tf = tf.constant([[1, 2], [3, 4]])\n",
        "B_tf = tf.constant([[5, 6], [7, 8]])\n",
        "C_add_tf = A_tf + B_tf\n",
        "print(\"TensorFlow Matrix addition:\\n\", C_add_tf)"
      ],
      "metadata": {
        "colab": {
          "base_uri": "https://localhost:8080/"
        },
        "id": "sYfLpu7g1r-R",
        "outputId": "34a57c7f-0062-4741-be3e-db671cfa6c70"
      },
      "execution_count": null,
      "outputs": [
        {
          "output_type": "stream",
          "name": "stdout",
          "text": [
            "NumPy Matrix addition:\n",
            " [[ 6  8]\n",
            " [10 12]]\n",
            "PyTorch Matrix addition:\n",
            " tensor([[ 6,  8],\n",
            "        [10, 12]])\n",
            "TensorFlow Matrix addition:\n",
            " tf.Tensor(\n",
            "[[ 6  8]\n",
            " [10 12]], shape=(2, 2), dtype=int32)\n"
          ]
        }
      ]
    },
    {
      "cell_type": "code",
      "source": [
        "# Matrix multiplication with NumPy\n",
        "C_mul_np = np.dot(A_np, B_np)\n",
        "print(\"NumPy Matrix multiplication:\\n\", C_mul_np)\n",
        "\n",
        "# Matrix multiplication with PyTorch\n",
        "C_mul_pt = torch.matmul(A_pt, B_pt)\n",
        "print(\"PyTorch Matrix multiplication:\\n\", C_mul_pt)\n",
        "\n",
        "# Matrix multiplication with TensorFlow\n",
        "C_mul_tf = tf.matmul(A_tf, B_tf)\n",
        "print(\"TensorFlow Matrix multiplication:\\n\", C_mul_tf)"
      ],
      "metadata": {
        "colab": {
          "base_uri": "https://localhost:8080/"
        },
        "id": "GY3HderT1yAY",
        "outputId": "90b60e5d-2405-4630-c6fd-f502250965ba"
      },
      "execution_count": null,
      "outputs": [
        {
          "output_type": "stream",
          "name": "stdout",
          "text": [
            "NumPy Matrix multiplication:\n",
            " [[19 22]\n",
            " [43 50]]\n",
            "PyTorch Matrix multiplication:\n",
            " tensor([[19, 22],\n",
            "        [43, 50]])\n",
            "TensorFlow Matrix multiplication:\n",
            " tf.Tensor(\n",
            "[[19 22]\n",
            " [43 50]], shape=(2, 2), dtype=int32)\n"
          ]
        }
      ]
    },
    {
      "cell_type": "code",
      "source": [
        "# Element-wise multiplication with NumPy\n",
        "C_elem_mul_np = A_np * B_np\n",
        "print(\"NumPy Element-wise multiplication:\\n\", C_elem_mul_np)\n",
        "\n",
        "# Element-wise multiplication with PyTorch\n",
        "C_elem_mul_pt = A_pt * B_pt\n",
        "print(\"PyTorch Element-wise multiplication:\\n\", C_elem_mul_pt)\n",
        "\n",
        "# Element-wise multiplication with TensorFlow\n",
        "C_elem_mul_tf = A_tf * B_tf\n",
        "print(\"TensorFlow Element-wise multiplication:\\n\", C_elem_mul_tf)"
      ],
      "metadata": {
        "colab": {
          "base_uri": "https://localhost:8080/"
        },
        "id": "D61iqhU713ux",
        "outputId": "ed5b7981-037f-4c2b-9405-79c60064ad56"
      },
      "execution_count": null,
      "outputs": [
        {
          "output_type": "stream",
          "name": "stdout",
          "text": [
            "NumPy Element-wise multiplication:\n",
            " [[ 5 12]\n",
            " [21 32]]\n",
            "PyTorch Element-wise multiplication:\n",
            " tensor([[ 5, 12],\n",
            "        [21, 32]])\n",
            "TensorFlow Element-wise multiplication:\n",
            " tf.Tensor(\n",
            "[[ 5 12]\n",
            " [21 32]], shape=(2, 2), dtype=int32)\n"
          ]
        }
      ]
    },
    {
      "cell_type": "code",
      "source": [
        "# Transpose of a matrix with NumPy\n",
        "A_T_np = A_np.T\n",
        "print(\"NumPy Transpose of A:\\n\", A_T_np)\n",
        "\n",
        "# Transpose of a matrix with PyTorch\n",
        "A_T_pt = A_pt.T\n",
        "print(\"PyTorch Transpose of A:\\n\", A_T_pt)\n",
        "\n",
        "# Transpose of a matrix with TensorFlow\n",
        "A_T_tf = tf.transpose(A_tf)\n",
        "print(\"TensorFlow Transpose of A:\\n\", A_T_tf)"
      ],
      "metadata": {
        "colab": {
          "base_uri": "https://localhost:8080/"
        },
        "id": "qvcX0veL2KRx",
        "outputId": "88b3d237-130e-451b-ddd6-7c6e15c3b5bc"
      },
      "execution_count": null,
      "outputs": [
        {
          "output_type": "stream",
          "name": "stdout",
          "text": [
            "NumPy Transpose of A:\n",
            " [[1 3]\n",
            " [2 4]]\n",
            "PyTorch Transpose of A:\n",
            " tensor([[1, 3],\n",
            "        [2, 4]])\n",
            "TensorFlow Transpose of A:\n",
            " tf.Tensor(\n",
            "[[1 3]\n",
            " [2 4]], shape=(2, 2), dtype=int32)\n"
          ]
        }
      ]
    },
    {
      "cell_type": "code",
      "source": [
        "# Dot product with NumPy\n",
        "dot_product_np = np.dot(v1_np, v2_np)\n",
        "print(\"NumPy Dot product:\", dot_product_np)\n",
        "\n",
        "# Dot product with PyTorch\n",
        "dot_product_pt = torch.dot(v1_pt, v2_pt)\n",
        "print(\"PyTorch Dot product:\", dot_product_pt)\n",
        "\n",
        "# Dot product with TensorFlow\n",
        "dot_product_tf = tf.tensordot(v1_tf, v2_tf, axes=1)\n",
        "print(\"TensorFlow Dot product:\", dot_product_tf)"
      ],
      "metadata": {
        "colab": {
          "base_uri": "https://localhost:8080/"
        },
        "id": "ZVxXgkOA2Q3x",
        "outputId": "30e7643d-046e-4d08-9041-7dc3cf86d5a8"
      },
      "execution_count": null,
      "outputs": [
        {
          "output_type": "stream",
          "name": "stdout",
          "text": [
            "NumPy Dot product: 32\n",
            "PyTorch Dot product: tensor(32)\n",
            "TensorFlow Dot product: tf.Tensor(32, shape=(), dtype=int32)\n"
          ]
        }
      ]
    },
    {
      "cell_type": "code",
      "source": [
        "# Cross product with NumPy\n",
        "cross_product_np = np.cross(v1_np, v2_np)\n",
        "print(\"NumPy Cross product:\", cross_product_np)\n",
        "\n",
        "# Cross product with PyTorch\n",
        "cross_product_pt = torch.cross(v1_pt, v2_pt)\n",
        "print(\"PyTorch Cross product:\", cross_product_pt)\n",
        "\n",
        "# Cross product with TensorFlow\n",
        "cross_product_tf = tf.linalg.cross(v1_tf, v2_tf)\n",
        "print(\"TensorFlow Cross product:\", cross_product_tf)"
      ],
      "metadata": {
        "colab": {
          "base_uri": "https://localhost:8080/"
        },
        "id": "YkFKc_BM2Zyx",
        "outputId": "c40cdf76-ebfa-48ae-ea9a-fcff5451aad1"
      },
      "execution_count": null,
      "outputs": [
        {
          "output_type": "stream",
          "name": "stdout",
          "text": [
            "NumPy Cross product: [-3  6 -3]\n",
            "PyTorch Cross product: tensor([-3,  6, -3])\n",
            "TensorFlow Cross product: tf.Tensor([-3  6 -3], shape=(3,), dtype=int32)\n"
          ]
        },
        {
          "output_type": "stream",
          "name": "stderr",
          "text": [
            "<ipython-input-50-2147d624f619>:6: UserWarning:\n",
            "\n",
            "Using torch.cross without specifying the dim arg is deprecated.\n",
            "Please either pass the dim explicitly or simply use torch.linalg.cross.\n",
            "The default value of dim will change to agree with that of linalg.cross in a future release. (Triggered internally at ../aten/src/ATen/native/Cross.cpp:62.)\n",
            "\n"
          ]
        }
      ]
    },
    {
      "cell_type": "code",
      "source": [
        "# Identity matrix with NumPy\n",
        "I_np = np.eye(3)\n",
        "print(\"NumPy Identity matrix:\\n\", I_np)\n",
        "\n",
        "# Identity matrix with PyTorch\n",
        "I_pt = torch.eye(3)\n",
        "print(\"PyTorch Identity matrix:\\n\", I_pt)\n",
        "\n",
        "# Identity matrix with TensorFlow\n",
        "I_tf = tf.eye(3)\n",
        "print(\"TensorFlow Identity matrix:\\n\", I_tf)"
      ],
      "metadata": {
        "colab": {
          "base_uri": "https://localhost:8080/"
        },
        "id": "jZ8Fa8rO2iBa",
        "outputId": "e85c60e7-095c-46da-8341-da814e2085ba"
      },
      "execution_count": null,
      "outputs": [
        {
          "output_type": "stream",
          "name": "stdout",
          "text": [
            "NumPy Identity matrix:\n",
            " [[1. 0. 0.]\n",
            " [0. 1. 0.]\n",
            " [0. 0. 1.]]\n",
            "PyTorch Identity matrix:\n",
            " tensor([[1., 0., 0.],\n",
            "        [0., 1., 0.],\n",
            "        [0., 0., 1.]])\n",
            "TensorFlow Identity matrix:\n",
            " tf.Tensor(\n",
            "[[1. 0. 0.]\n",
            " [0. 1. 0.]\n",
            " [0. 0. 1.]], shape=(3, 3), dtype=float32)\n"
          ]
        }
      ]
    },
    {
      "cell_type": "code",
      "source": [
        "A_pt = torch.tensor([[1, 2], [3, 4]], dtype=torch.float32)\n",
        "A_tf = tf.constant([[1, 2], [3, 4]], dtype=tf.float32)\n",
        "\n",
        "# Inverse of a matrix with NumPy\n",
        "A_inv_np = np.linalg.inv(A_np)\n",
        "print(\"NumPy Inverse of A:\\n\", A_inv_np)\n",
        "\n",
        "# Inverse of a matrix with PyTorch\n",
        "A_inv_pt = torch.linalg.inv(A_pt)\n",
        "print(\"PyTorch Inverse of A:\\n\", A_inv_pt)\n",
        "\n",
        "# Inverse of a matrix with TensorFlow\n",
        "A_inv_tf = tf.linalg.inv(A_tf)\n",
        "print(\"TensorFlow Inverse of A:\\n\", A_inv_tf)"
      ],
      "metadata": {
        "colab": {
          "base_uri": "https://localhost:8080/"
        },
        "id": "NadKFyKC2nW5",
        "outputId": "f781f6bc-7d5a-4d2b-98d7-6a7911b9961a"
      },
      "execution_count": null,
      "outputs": [
        {
          "output_type": "stream",
          "name": "stdout",
          "text": [
            "NumPy Inverse of A:\n",
            " [[-2.   1. ]\n",
            " [ 1.5 -0.5]]\n",
            "PyTorch Inverse of A:\n",
            " tensor([[-2.0000,  1.0000],\n",
            "        [ 1.5000, -0.5000]])\n",
            "TensorFlow Inverse of A:\n",
            " tf.Tensor(\n",
            "[[-2.0000002   1.0000001 ]\n",
            " [ 1.5000001  -0.50000006]], shape=(2, 2), dtype=float32)\n"
          ]
        }
      ]
    },
    {
      "cell_type": "code",
      "source": [
        "# Determinant of a matrix with NumPy\n",
        "det_A_np = np.linalg.det(A_np)\n",
        "print(\"NumPy Determinant of A:\", det_A_np)\n",
        "\n",
        "# Determinant of a matrix with PyTorch\n",
        "det_A_pt = torch.det(A_pt)\n",
        "print(\"PyTorch Determinant of A:\", det_A_pt)\n",
        "\n",
        "# Determinant of a matrix with TensorFlow\n",
        "det_A_tf = tf.linalg.det(A_tf)\n",
        "print(\"TensorFlow Determinant of A:\", det_A_tf)"
      ],
      "metadata": {
        "colab": {
          "base_uri": "https://localhost:8080/"
        },
        "id": "ZZwyMWja2tHC",
        "outputId": "2880d276-9b84-4a75-9d45-3b60c9f7e37a"
      },
      "execution_count": null,
      "outputs": [
        {
          "output_type": "stream",
          "name": "stdout",
          "text": [
            "NumPy Determinant of A: -2.0000000000000004\n",
            "PyTorch Determinant of A: tensor(-2.)\n",
            "TensorFlow Determinant of A: tf.Tensor(-2.0, shape=(), dtype=float32)\n"
          ]
        }
      ]
    },
    {
      "cell_type": "code",
      "source": [
        "import scipy.linalg as linalg\n",
        "\n",
        "# LU Decomposition with NumPy/Scipy\n",
        "P, L, U = linalg.lu(A_np)\n",
        "print(\"NumPy/Scipy LU Decomposition:\")\n",
        "print(\"P:\\n\", P)\n",
        "print(\"L:\\n\", L)\n",
        "print(\"U:\\n\", U)\n",
        "\n",
        "# LU Decomposition with PyTorch\n",
        "# PyTorch does not have a built-in LU decomposition function\n",
        "\n",
        "# LU Decomposition with TensorFlow\n",
        "L_tf, U_tf = tf.linalg.lu(A_tf)\n",
        "print(\"TensorFlow LU Decomposition:\")\n",
        "print(\"L:\\n\", L_tf)\n",
        "print(\"U:\\n\", U_tf)\n"
      ],
      "metadata": {
        "colab": {
          "base_uri": "https://localhost:8080/"
        },
        "id": "6lB82VB02yHg",
        "outputId": "3de0453d-7c8f-4753-852f-799835403355"
      },
      "execution_count": null,
      "outputs": [
        {
          "output_type": "stream",
          "name": "stdout",
          "text": [
            "NumPy/Scipy LU Decomposition:\n",
            "P:\n",
            " [[0. 1.]\n",
            " [1. 0.]]\n",
            "L:\n",
            " [[1.         0.        ]\n",
            " [0.33333333 1.        ]]\n",
            "U:\n",
            " [[3.         4.        ]\n",
            " [0.         0.66666667]]\n",
            "TensorFlow LU Decomposition:\n",
            "L:\n",
            " tf.Tensor(\n",
            "[[3.         4.        ]\n",
            " [0.33333334 0.6666666 ]], shape=(2, 2), dtype=float32)\n",
            "U:\n",
            " tf.Tensor([1 0], shape=(2,), dtype=int32)\n"
          ]
        }
      ]
    },
    {
      "cell_type": "code",
      "source": [
        "# QR Decomposition with NumPy\n",
        "Q_np, R_np = np.linalg.qr(A_np)\n",
        "print(\"NumPy QR Decomposition:\")\n",
        "print(\"Q:\\n\", Q_np)\n",
        "print(\"R:\\n\", R_np)\n",
        "\n",
        "# QR Decomposition with PyTorch\n",
        "Q_pt, R_pt = torch.qr(A_pt)\n",
        "print(\"PyTorch QR Decomposition:\")\n",
        "print(\"Q:\\n\", Q_pt)\n",
        "print(\"R:\\n\", R_pt)\n",
        "\n",
        "# QR Decomposition with TensorFlow\n",
        "Q_tf, R_tf = tf.linalg.qr(A_tf)\n",
        "print(\"TensorFlow QR Decomposition:\")\n",
        "print(\"Q:\\n\", Q_tf)\n",
        "print(\"R:\\n\", R_tf)\n"
      ],
      "metadata": {
        "colab": {
          "base_uri": "https://localhost:8080/"
        },
        "id": "Pga5ccrs23Iw",
        "outputId": "7f69c737-9df2-4392-f5b9-c6f86bf4985f"
      },
      "execution_count": null,
      "outputs": [
        {
          "output_type": "stream",
          "name": "stdout",
          "text": [
            "NumPy QR Decomposition:\n",
            "Q:\n",
            " [[-0.31622777 -0.9486833 ]\n",
            " [-0.9486833   0.31622777]]\n",
            "R:\n",
            " [[-3.16227766 -4.42718872]\n",
            " [ 0.         -0.63245553]]\n",
            "PyTorch QR Decomposition:\n",
            "Q:\n",
            " tensor([[-0.3162, -0.9487],\n",
            "        [-0.9487,  0.3162]])\n",
            "R:\n",
            " tensor([[-3.1623, -4.4272],\n",
            "        [ 0.0000, -0.6325]])\n",
            "TensorFlow QR Decomposition:\n",
            "Q:\n",
            " tf.Tensor(\n",
            "[[-0.3162278  -0.9486833 ]\n",
            " [-0.9486833   0.31622773]], shape=(2, 2), dtype=float32)\n",
            "R:\n",
            " tf.Tensor(\n",
            "[[-3.1622777  -4.4271884 ]\n",
            " [ 0.         -0.63245535]], shape=(2, 2), dtype=float32)\n"
          ]
        },
        {
          "output_type": "stream",
          "name": "stderr",
          "text": [
            "<ipython-input-55-6d7847586ea7>:8: UserWarning:\n",
            "\n",
            "torch.qr is deprecated in favor of torch.linalg.qr and will be removed in a future PyTorch release.\n",
            "The boolean parameter 'some' has been replaced with a string parameter 'mode'.\n",
            "Q, R = torch.qr(A, some)\n",
            "should be replaced with\n",
            "Q, R = torch.linalg.qr(A, 'reduced' if some else 'complete') (Triggered internally at ../aten/src/ATen/native/BatchLinearAlgebra.cpp:2416.)\n",
            "\n"
          ]
        }
      ]
    },
    {
      "cell_type": "code",
      "source": [
        "# SVD with NumPy\n",
        "U_np, S_np, V_np = np.linalg.svd(A_np)\n",
        "print(\"NumPy SVD Decomposition:\")\n",
        "print(\"U:\\n\", U_np)\n",
        "print(\"S:\\n\", S_np)\n",
        "print(\"V:\\n\", V_np)\n",
        "\n",
        "# SVD with PyTorch\n",
        "U_pt, S_pt, V_pt = torch.svd(A_pt)\n",
        "print(\"PyTorch SVD Decomposition:\")\n",
        "print(\"U:\\n\", U_pt)\n",
        "print(\"S:\\n\", S_pt)\n",
        "print(\"V:\\n\", V_pt)\n",
        "\n",
        "# SVD with TensorFlow\n",
        "S_tf, U_tf, V_tf = tf.linalg.svd(A_tf, full_matrices=False)\n",
        "print(\"TensorFlow SVD Decomposition:\")\n",
        "print(\"U:\\n\", U_tf)\n",
        "print(\"S:\\n\", S_tf)\n",
        "print(\"V:\\n\", V_tf)"
      ],
      "metadata": {
        "colab": {
          "base_uri": "https://localhost:8080/"
        },
        "id": "xrqkBkmT2-ZJ",
        "outputId": "70c1ad45-5a0c-4587-ddfb-27716b38667e"
      },
      "execution_count": null,
      "outputs": [
        {
          "output_type": "stream",
          "name": "stdout",
          "text": [
            "NumPy SVD Decomposition:\n",
            "U:\n",
            " [[-0.40455358 -0.9145143 ]\n",
            " [-0.9145143   0.40455358]]\n",
            "S:\n",
            " [5.4649857  0.36596619]\n",
            "V:\n",
            " [[-0.57604844 -0.81741556]\n",
            " [ 0.81741556 -0.57604844]]\n",
            "PyTorch SVD Decomposition:\n",
            "U:\n",
            " tensor([[-0.4046, -0.9145],\n",
            "        [-0.9145,  0.4046]])\n",
            "S:\n",
            " tensor([5.4650, 0.3660])\n",
            "V:\n",
            " tensor([[-0.5760,  0.8174],\n",
            "        [-0.8174, -0.5760]])\n",
            "TensorFlow SVD Decomposition:\n",
            "U:\n",
            " tf.Tensor(\n",
            "[[ 0.4045535 -0.9145143]\n",
            " [ 0.9145143  0.4045535]], shape=(2, 2), dtype=float32)\n",
            "S:\n",
            " tf.Tensor([5.4649854  0.36596614], shape=(2,), dtype=float32)\n",
            "V:\n",
            " tf.Tensor(\n",
            "[[ 0.5760484  0.8174156]\n",
            " [ 0.8174156 -0.5760484]], shape=(2, 2), dtype=float32)\n"
          ]
        }
      ]
    },
    {
      "cell_type": "code",
      "source": [
        "# Eigenvalues and eigenvectors with NumPy\n",
        "eigvals_np, eigvecs_np = np.linalg.eig(A_np)\n",
        "print(\"NumPy Eigenvalues:\", eigvals_np)\n",
        "print(\"NumPy Eigenvectors:\\n\", eigvecs_np)\n",
        "\n",
        "# Eigenvalues and eigenvectors with PyTorch\n",
        "eigvals_pt, eigvecs_pt = torch.linalg.eig(A_pt)\n",
        "print(\"PyTorch Eigenvalues:\", eigvals_pt)\n",
        "print(\"PyTorch Eigenvectors:\\n\", eigvecs_pt)\n",
        "\n",
        "# Eigenvalues and eigenvectors with TensorFlow\n",
        "eigvals_tf, eigvecs_tf = tf.linalg.eigh(A_tf)\n",
        "print(\"TensorFlow Eigenvalues:\", eigvals_tf)\n",
        "print(\"TensorFlow Eigenvectors:\\n\", eigvecs_tf)"
      ],
      "metadata": {
        "colab": {
          "base_uri": "https://localhost:8080/"
        },
        "id": "3fuAhdCb3ExC",
        "outputId": "87d132d2-86e0-4a25-be92-095f11829260"
      },
      "execution_count": null,
      "outputs": [
        {
          "output_type": "stream",
          "name": "stdout",
          "text": [
            "NumPy Eigenvalues: [-0.37228132  5.37228132]\n",
            "NumPy Eigenvectors:\n",
            " [[-0.82456484 -0.41597356]\n",
            " [ 0.56576746 -0.90937671]]\n",
            "PyTorch Eigenvalues: tensor([-0.3723+0.j,  5.3723+0.j])\n",
            "PyTorch Eigenvectors:\n",
            " tensor([[-0.8246+0.j, -0.4160+0.j],\n",
            "        [ 0.5658+0.j, -0.9094+0.j]])\n",
            "TensorFlow Eigenvalues: tf.Tensor([-0.8541021  5.854102 ], shape=(2,), dtype=float32)\n",
            "TensorFlow Eigenvectors:\n",
            " tf.Tensor(\n",
            "[[-0.85065085 -0.5257311 ]\n",
            " [ 0.5257311  -0.85065085]], shape=(2, 2), dtype=float32)\n"
          ]
        }
      ]
    },
    {
      "cell_type": "code",
      "source": [
        "from sklearn.decomposition import PCA\n",
        "\n",
        "# Assuming data is a matrix with shape (n_samples, n_features)\n",
        "data = np.random.rand(100, 3)  # Example data\n",
        "df = pd.DataFrame(data)\n",
        "print(df.head())\n",
        "pca = PCA(n_components=2)\n",
        "reduced_data = pca.fit_transform(data)\n",
        "print(\"Reduced data:\\n\", reduced_data)"
      ],
      "metadata": {
        "colab": {
          "base_uri": "https://localhost:8080/"
        },
        "id": "KJ1NIU783LuK",
        "outputId": "8a3cb053-993b-41dc-bfb2-d565088dae07"
      },
      "execution_count": null,
      "outputs": [
        {
          "output_type": "stream",
          "name": "stdout",
          "text": [
            "          0         1         2\n",
            "0  0.214007  0.475527  0.318175\n",
            "1  0.266703  0.966985  0.160074\n",
            "2  0.787326  0.984165  0.019901\n",
            "3  0.699027  0.252912  0.040488\n",
            "4  0.402890  0.935218  0.011765\n",
            "Reduced data:\n",
            " [[-0.20131753  0.09913685]\n",
            " [-0.56871305 -0.0289691 ]\n",
            " [-0.41716562  0.25086841]\n",
            " [-0.01356729  0.60177059]\n",
            " [-0.57950973  0.14911083]\n",
            " [ 0.32198055 -0.20759534]\n",
            " [-0.15310983 -0.33445975]\n",
            " [ 0.06774263 -0.3805017 ]\n",
            " [-0.23057244 -0.01952768]\n",
            " [-0.09792716  0.09557751]\n",
            " [-0.54182708  0.07683581]\n",
            " [ 0.33554961  0.11138689]\n",
            " [ 0.23740025  0.29175147]\n",
            " [ 0.34424555 -0.24095602]\n",
            " [ 0.17811206  0.67387857]\n",
            " [ 0.3192402   0.14931137]\n",
            " [-0.46340147  0.28627137]\n",
            " [-0.16425078 -0.10110861]\n",
            " [-0.04107756  0.11880058]\n",
            " [-0.12006178 -0.6134638 ]\n",
            " [ 0.73603027 -0.01811438]\n",
            " [ 0.05294115 -0.47042212]\n",
            " [-0.45270562 -0.12187897]\n",
            " [ 0.69199231 -0.01299057]\n",
            " [-0.27961876 -0.24730228]\n",
            " [ 0.32523401  0.03296482]\n",
            " [-0.30016071  0.09851951]\n",
            " [ 0.34604408  0.69203474]\n",
            " [-0.20625779  0.20763646]\n",
            " [-0.04842732 -0.32003964]\n",
            " [ 0.44682654  0.15066236]\n",
            " [-0.45232743 -0.03453419]\n",
            " [ 0.31928419 -0.17423722]\n",
            " [-0.41047074  0.15388103]\n",
            " [-0.14314344 -0.05139122]\n",
            " [-0.20563113 -0.20529405]\n",
            " [ 0.10924908 -0.14403854]\n",
            " [-0.38226391 -0.21573057]\n",
            " [-0.41601349 -0.16416325]\n",
            " [ 0.0119342  -0.45536342]\n",
            " [ 0.19325674 -0.3463248 ]\n",
            " [ 0.07486989 -0.30493886]\n",
            " [-0.01664973 -0.13588726]\n",
            " [-0.26305413 -0.22234793]\n",
            " [-0.27613295 -0.23058334]\n",
            " [ 0.07860772 -0.3119937 ]\n",
            " [ 0.13685577 -0.17141431]\n",
            " [-0.04022953 -0.53577174]\n",
            " [ 0.41692147 -0.22175557]\n",
            " [ 0.23403514 -0.33234616]\n",
            " [ 0.00244378 -0.0523596 ]\n",
            " [-0.31945803 -0.24738767]\n",
            " [ 0.10441207  0.10375617]\n",
            " [-0.20782043  0.3128881 ]\n",
            " [-0.6111322  -0.05178328]\n",
            " [-0.0546177  -0.16682474]\n",
            " [-0.11798745 -0.45112524]\n",
            " [ 0.31988581 -0.26395377]\n",
            " [-0.18885341  0.37241319]\n",
            " [-0.2362912   0.22485072]\n",
            " [-0.15633937  0.10588381]\n",
            " [-0.13950623  0.09507343]\n",
            " [ 0.65600882  0.12364584]\n",
            " [ 0.20999196  0.04425314]\n",
            " [-0.30353171 -0.07995044]\n",
            " [-0.09209481  0.00593817]\n",
            " [ 0.01689787 -0.31054812]\n",
            " [-0.21973835  0.09176053]\n",
            " [ 0.32104497  0.04527613]\n",
            " [-0.11686303 -0.40420846]\n",
            " [ 0.31992984 -0.28381495]\n",
            " [ 0.0562506   0.36885333]\n",
            " [ 0.27656834  0.24434434]\n",
            " [ 0.3325911  -0.3263361 ]\n",
            " [ 0.35480844  0.47518878]\n",
            " [ 0.2778144  -0.13127537]\n",
            " [ 0.23607873 -0.25284052]\n",
            " [ 0.54345181  0.19107575]\n",
            " [-0.15974139  0.47954054]\n",
            " [-0.04086886  0.31092156]\n",
            " [-0.19001179  0.16357862]\n",
            " [-0.70055281  0.07376822]\n",
            " [ 0.06100029  0.2667811 ]\n",
            " [ 0.03742048  0.42719947]\n",
            " [-0.41683761  0.11382873]\n",
            " [-0.12985417  0.16233803]\n",
            " [-0.21635414  0.49737011]\n",
            " [ 0.45414571  0.00384097]\n",
            " [ 0.04283883  0.03906457]\n",
            " [ 0.03325697  0.53361178]\n",
            " [ 0.13231198  0.20478902]\n",
            " [ 0.19183787  0.01011509]\n",
            " [ 0.05178171 -0.22474508]\n",
            " [ 0.19097433 -0.32301961]\n",
            " [ 0.2288441  -0.13062926]\n",
            " [ 0.58635852  0.01021517]\n",
            " [-0.16778987 -0.44946542]\n",
            " [ 0.58553554  0.37433929]\n",
            " [-0.15877032  0.42657745]\n",
            " [-0.17223539  0.38223342]]\n"
          ]
        }
      ]
    },
    {
      "cell_type": "code",
      "source": [
        "import numpy as np\n",
        "import matplotlib.pyplot as plt\n",
        "\n",
        "class LinearRegressionModel:\n",
        "    def __init__(self, X, y):\n",
        "        \"\"\"\n",
        "        Initialize the Linear Regression Model with feature matrix X and target vector y.\n",
        "\n",
        "        Parameters:\n",
        "        X (np.ndarray): Feature matrix\n",
        "        y (np.ndarray): Target vector\n",
        "        \"\"\"\n",
        "        self.X = X\n",
        "        self.y = y\n",
        "        self.theta_best = None\n",
        "\n",
        "    @staticmethod\n",
        "    def add_intercept(X):\n",
        "        \"\"\"\n",
        "        Add a column of ones to the feature matrix for the intercept term.\n",
        "\n",
        "        Parameters:\n",
        "        X (np.ndarray): Feature matrix\n",
        "\n",
        "        Returns:\n",
        "        np.ndarray: Feature matrix with intercept term\n",
        "        \"\"\"\n",
        "        return np.c_[np.ones((X.shape[0], 1)), X]\n",
        "\n",
        "    def compute_parameters(self):\n",
        "        \"\"\"\n",
        "        Compute the optimal parameters using the normal equation.\n",
        "\n",
        "        Returns:\n",
        "        np.ndarray: Optimal parameters\n",
        "        \"\"\"\n",
        "        X_b = self.add_intercept(self.X)\n",
        "        self.theta_best = np.linalg.inv(X_b.T.dot(X_b)).dot(X_b.T).dot(self.y)\n",
        "        return self.theta_best\n",
        "\n",
        "    def predict(self, X):\n",
        "        \"\"\"\n",
        "        Predict the target values based on the input features and optimal parameters.\n",
        "\n",
        "        Parameters:\n",
        "        X (np.ndarray): Feature matrix\n",
        "\n",
        "        Returns:\n",
        "        np.ndarray: Predicted target values\n",
        "        \"\"\"\n",
        "        X_b = self.add_intercept(X)\n",
        "        return X_b.dot(self.theta_best)\n",
        "\n",
        "    def visualize(self):\n",
        "        \"\"\"\n",
        "        Visualize the original data points and the regression line.\n",
        "        \"\"\"\n",
        "        # Generate new data points for plotting the regression line\n",
        "        X_new = np.array([[0, 0], [2, 3]])\n",
        "        y_predict = self.predict(X_new)\n",
        "\n",
        "        # Plot the original data points\n",
        "        plt.scatter(self.X[:, 1], self.y, color='blue', label='Original data')\n",
        "\n",
        "        # Plot the regression line\n",
        "        plt.plot(X_new[:, 1], y_predict, color='red', label='Regression line')\n",
        "\n",
        "        # Add labels and legend\n",
        "        plt.xlabel('Feature')\n",
        "        plt.ylabel('Target')\n",
        "        plt.title('Linear Regression')\n",
        "        plt.legend()\n",
        "        plt.show()\n",
        "\n",
        "# Assuming X is the feature matrix and y is the target vector\n",
        "X = np.array([[1, 1], [1, 2], [2, 2], [2, 3]])\n",
        "y = np.dot(X, np.array([1, 2])) + 3\n",
        "\n",
        "# Create an instance of the LinearRegressionModel class\n",
        "model = LinearRegressionModel(X, y)\n",
        "\n",
        "# Compute the optimal parameters\n",
        "theta_best = model.compute_parameters()\n",
        "print(\"Optimal parameters:\", theta_best)\n",
        "\n",
        "# Visualize the results\n",
        "model.visualize()\n"
      ],
      "metadata": {
        "colab": {
          "base_uri": "https://localhost:8080/",
          "height": 489
        },
        "id": "3rpnjIcF3TUa",
        "outputId": "4b5d7a76-681e-468a-9554-e5b93e0ffd1e"
      },
      "execution_count": null,
      "outputs": [
        {
          "output_type": "stream",
          "name": "stdout",
          "text": [
            "Optimal parameters: [3. 1. 2.]\n"
          ]
        },
        {
          "output_type": "display_data",
          "data": {
            "text/plain": [
              "<Figure size 640x480 with 1 Axes>"
            ],
            "image/png": "[encoded data removed]"
          },
          "metadata": {}
        }
      ]
    },
    {
      "cell_type": "code",
      "source": [
        "# Define the true values and predicted values\n",
        "y_true = tf.constant([1.0, 2.0, 3.0])\n",
        "y_pred = tf.constant([1.5, 2.5, 3.5])\n",
        "\n",
        "# Define the MSE function\n",
        "def mse_loss(y_true, y_pred):\n",
        "    return tf.reduce_mean(tf.square(y_true - y_pred))\n",
        "\n",
        "# Compute the MSE\n",
        "mse = mse_loss(y_true, y_pred)\n",
        "print(\"Mean Squared Error (TensorFlow):\", mse.numpy())"
      ],
      "metadata": {
        "colab": {
          "base_uri": "https://localhost:8080/"
        },
        "id": "x-fnko0Z3dUj",
        "outputId": "f34a7761-5dbd-42a0-8ebf-08400000a605"
      },
      "execution_count": null,
      "outputs": [
        {
          "output_type": "stream",
          "name": "stdout",
          "text": [
            "Mean Squared Error (TensorFlow): 0.25\n"
          ]
        }
      ]
    },
    {
      "cell_type": "code",
      "source": [
        "# Define the true values and predicted values\n",
        "y_true = torch.tensor([1.0, 2.0, 3.0])\n",
        "y_pred = torch.tensor([1.5, 2.5, 3.5])\n",
        "\n",
        "# Define the MSE function\n",
        "def mse_loss(y_true, y_pred):\n",
        "    return torch.mean((y_true - y_pred) ** 2)\n",
        "\n",
        "# Compute the MSE\n",
        "mse = mse_loss(y_true, y_pred)\n",
        "print(\"Mean Squared Error (PyTorch):\", mse.item())"
      ],
      "metadata": {
        "colab": {
          "base_uri": "https://localhost:8080/"
        },
        "id": "MsRDNyId3wrB",
        "outputId": "4113a8dc-0fcb-4135-e36f-351b7ebaa930"
      },
      "execution_count": null,
      "outputs": [
        {
          "output_type": "stream",
          "name": "stdout",
          "text": [
            "Mean Squared Error (PyTorch): 0.25\n"
          ]
        }
      ]
    },
    {
      "cell_type": "code",
      "source": [
        "# Define the true values and predicted values\n",
        "y_true = tf.constant([1.0, 0.0, 1.0])\n",
        "y_pred = tf.constant([0.9, 0.2, 0.7])\n",
        "\n",
        "# Define the Binary Cross-Entropy Loss function\n",
        "bce_loss = tf.keras.losses.BinaryCrossentropy()\n",
        "\n",
        "# Compute the Binary Cross-Entropy Loss\n",
        "bce = bce_loss(y_true, y_pred)\n",
        "print(\"Binary Cross-Entropy Loss (TensorFlow):\", bce.numpy())"
      ],
      "metadata": {
        "colab": {
          "base_uri": "https://localhost:8080/"
        },
        "id": "T-kMIkLV39uJ",
        "outputId": "7a62ec48-6cd5-497a-fc6d-c7e0ff9b31fe"
      },
      "execution_count": null,
      "outputs": [
        {
          "output_type": "stream",
          "name": "stdout",
          "text": [
            "Binary Cross-Entropy Loss (TensorFlow): 0.22839285\n"
          ]
        }
      ]
    },
    {
      "cell_type": "code",
      "source": [
        "# Generate synthetic data\n",
        "np.random.seed(0)\n",
        "X = np.random.rand(100, 1)\n",
        "y = 2 * X + 1 + 0.1 * np.random.randn(100, 1)\n",
        "\n",
        "# Define a simple linear regression model\n",
        "class LinearModel(tf.Module):\n",
        "    def __init__(self):\n",
        "        self.w = tf.Variable(tf.random.normal([1]))\n",
        "        self.b = tf.Variable(tf.random.normal([1]))\n",
        "\n",
        "    def __call__(self, x):\n",
        "        return self.w * x + self.b\n",
        "\n",
        "# Define the mean squared error loss function\n",
        "def mse_loss(y_true, y_pred):\n",
        "    return tf.reduce_mean(tf.square(y_true - y_pred))\n",
        "\n",
        "# Define the training function\n",
        "def train_sgd(model, X, y, learning_rate, num_epochs):\n",
        "    optimizer = tf.optimizers.SGD(learning_rate)\n",
        "\n",
        "    for epoch in range(num_epochs):\n",
        "        with tf.GradientTape() as tape:\n",
        "            y_pred = model(X)\n",
        "            loss = mse_loss(y, y_pred)\n",
        "\n",
        "        gradients = tape.gradient(loss, [model.w, model.b])\n",
        "        optimizer.apply_gradients(zip(gradients, [model.w, model.b]))\n",
        "\n",
        "        if epoch % 10 == 0:\n",
        "            print(f\"Epoch {epoch}: Loss = {loss.numpy()}\")\n",
        "\n",
        "    return model\n",
        "\n",
        "# Instantiate the model\n",
        "model = LinearModel()\n",
        "\n",
        "# Train the model using SGD\n",
        "trained_model_sgd = train_sgd(model, X, y, learning_rate=0.01, num_epochs=100)\n",
        "\n",
        "# Plot the results\n",
        "plt.scatter(X, y, color='blue', label='Data')\n",
        "plt.plot(X, trained_model_sgd(X), color='red', label='Fitted line (SGD)')\n",
        "plt.xlabel('Feature')\n",
        "plt.ylabel('Target')\n",
        "plt.legend()\n",
        "plt.show()"
      ],
      "metadata": {
        "colab": {
          "base_uri": "https://localhost:8080/",
          "height": 623
        },
        "id": "x5uNBBml4e1J",
        "outputId": "bc4f3648-3b62-4643-da50-0b7e82c1ada8"
      },
      "execution_count": null,
      "outputs": [
        {
          "output_type": "stream",
          "name": "stdout",
          "text": [
            "Epoch 0: Loss = 6.641844272613525\n",
            "Epoch 10: Loss = 4.162167072296143\n",
            "Epoch 20: Loss = 2.657647132873535\n",
            "Epoch 30: Loss = 1.7434524297714233\n",
            "Epoch 40: Loss = 1.1866549253463745\n",
            "Epoch 50: Loss = 0.846268892288208\n",
            "Epoch 60: Loss = 0.6369588375091553\n",
            "Epoch 70: Loss = 0.5070710182189941\n",
            "Epoch 80: Loss = 0.4253397285938263\n",
            "Epoch 90: Loss = 0.3728383183479309\n"
          ]
        },
        {
          "output_type": "display_data",
          "data": {
            "text/plain": [
              "<Figure size 640x480 with 1 Axes>"
            ],
            "image/png": "[encoded data removed]"
          },
          "metadata": {}
        }
      ]
    },
    {
      "cell_type": "code",
      "source": [
        "# Define the training function\n",
        "def train_adam(model, X, y, learning_rate, num_epochs):\n",
        "    optimizer = tf.optimizers.Adam(learning_rate)\n",
        "\n",
        "    for epoch in range(num_epochs):\n",
        "        with tf.GradientTape() as tape:\n",
        "            y_pred = model(X)\n",
        "            loss = mse_loss(y, y_pred)\n",
        "\n",
        "        gradients = tape.gradient(loss, [model.w, model.b])\n",
        "        optimizer.apply_gradients(zip(gradients, [model.w, model.b]))\n",
        "\n",
        "        if epoch % 10 == 0:\n",
        "            print(f\"Epoch {epoch}: Loss = {loss.numpy()}\")\n",
        "\n",
        "    return model\n",
        "\n",
        "# Instantiate the model\n",
        "model = LinearModel()\n",
        "\n",
        "# Train the model using Adam\n",
        "trained_model_adam = train_adam(model, X, y, learning_rate=0.01, num_epochs=100)\n",
        "\n",
        "# Plot the results\n",
        "plt.scatter(X, y, color='blue', label='Data')\n",
        "plt.plot(X, trained_model_adam(X), color='green', label='Fitted line (Adam)')\n",
        "plt.xlabel('Feature')\n",
        "plt.ylabel('Target')\n",
        "plt.legend()\n",
        "plt.show()"
      ],
      "metadata": {
        "colab": {
          "base_uri": "https://localhost:8080/",
          "height": 623
        },
        "id": "PEhr0_764jGB",
        "outputId": "995422ec-3b5a-4d6c-d29a-e4a53bc0d338"
      },
      "execution_count": null,
      "outputs": [
        {
          "output_type": "stream",
          "name": "stdout",
          "text": [
            "Epoch 0: Loss = 18.379688262939453\n",
            "Epoch 10: Loss = 17.118045806884766\n",
            "Epoch 20: Loss = 15.90890884399414\n",
            "Epoch 30: Loss = 14.757284164428711\n",
            "Epoch 40: Loss = 13.665674209594727\n",
            "Epoch 50: Loss = 12.63452434539795\n",
            "Epoch 60: Loss = 11.662969589233398\n",
            "Epoch 70: Loss = 10.749414443969727\n",
            "Epoch 80: Loss = 9.891918182373047\n",
            "Epoch 90: Loss = 9.088387489318848\n"
          ]
        },
        {
          "output_type": "display_data",
          "data": {
            "text/plain": [
              "<Figure size 640x480 with 1 Axes>"
            ],
            "image/png": "[encoded data removed]"
          },
          "metadata": {}
        }
      ]
    },
    {
      "cell_type": "code",
      "source": [],
      "metadata": {
        "id": "hYXW1BbV4s6I"
      },
      "execution_count": null,
      "outputs": []
    }
  ]
}