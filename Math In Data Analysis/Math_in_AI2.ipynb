{
  "cells": [
    {
      "cell_type": "markdown",
      "metadata": {
        "id": "D2md3KqZ2vJs"
      },
      "source": [
        "# Math in AI"
      ]
    },
    {
      "cell_type": "markdown",
      "metadata": {
        "id": "ezbFFxKD3Ew4"
      },
      "source": [
        "## 1.Import Libraries"
      ]
    },
    {
      "cell_type": "code",
      "execution_count": null,
      "metadata": {
        "colab": {
          "base_uri": "https://localhost:8080/"
        },
        "collapsed": true,
        "id": "YEBFMvQhmb5h",
        "outputId": "ae9e1c51-1da3-442f-b95d-ee9632dd9a80"
      },
      "outputs": [
        {
          "output_type": "stream",
          "name": "stdout",
          "text": [
            "Collecting qiskit\n",
            "  Downloading qiskit-1.1.1-cp38-abi3-manylinux_2_17_x86_64.manylinux2014_x86_64.whl (4.3 MB)\n",
            "\u001b[2K     \u001b[90m━━━━━━━━━━━━━━━━━━━━━━━━━━━━━━━━━━━━━━━━\u001b[0m \u001b[32m4.3/4.3 MB\u001b[0m \u001b[31m15.5 MB/s\u001b[0m eta \u001b[36m0:00:00\u001b[0m\n",
            "\u001b[?25hCollecting rustworkx>=0.14.0 (from qiskit)\n",
            "  Downloading rustworkx-0.15.1-cp38-abi3-manylinux_2_17_x86_64.manylinux2014_x86_64.whl (2.0 MB)\n",
            "\u001b[2K     \u001b[90m━━━━━━━━━━━━━━━━━━━━━━━━━━━━━━━━━━━━━━━━\u001b[0m \u001b[32m2.0/2.0 MB\u001b[0m \u001b[31m32.6 MB/s\u001b[0m eta \u001b[36m0:00:00\u001b[0m\n",
            "\u001b[?25hRequirement already satisfied: numpy<3,>=1.17 in /usr/local/lib/python3.10/dist-packages (from qiskit) (1.25.2)\n",
            "Requirement already satisfied: scipy>=1.5 in /usr/local/lib/python3.10/dist-packages (from qiskit) (1.11.4)\n",
            "Requirement already satisfied: sympy>=1.3 in /usr/local/lib/python3.10/dist-packages (from qiskit) (1.13.0)\n",
            "Collecting dill>=0.3 (from qiskit)\n",
            "  Downloading dill-0.3.8-py3-none-any.whl (116 kB)\n",
            "\u001b[2K     \u001b[90m━━━━━━━━━━━━━━━━━━━━━━━━━━━━━━━━━━━━━━━━\u001b[0m \u001b[32m116.3/116.3 kB\u001b[0m \u001b[31m14.1 MB/s\u001b[0m eta \u001b[36m0:00:00\u001b[0m\n",
            "\u001b[?25hRequirement already satisfied: python-dateutil>=2.8.0 in /usr/local/lib/python3.10/dist-packages (from qiskit) (2.8.2)\n",
            "Collecting stevedore>=3.0.0 (from qiskit)\n",
            "  Downloading stevedore-5.2.0-py3-none-any.whl (49 kB)\n",
            "\u001b[2K     \u001b[90m━━━━━━━━━━━━━━━━━━━━━━━━━━━━━━━━━━━━━━━━\u001b[0m \u001b[32m49.7/49.7 kB\u001b[0m \u001b[31m5.9 MB/s\u001b[0m eta \u001b[36m0:00:00\u001b[0m\n",
            "\u001b[?25hRequirement already satisfied: typing-extensions in /usr/local/lib/python3.10/dist-packages (from qiskit) (4.12.2)\n",
            "Collecting symengine>=0.11 (from qiskit)\n",
            "  Downloading symengine-0.11.0-cp310-cp310-manylinux_2_12_x86_64.manylinux2010_x86_64.whl (39.4 MB)\n",
            "\u001b[2K     \u001b[90m━━━━━━━━━━━━━━━━━━━━━━━━━━━━━━━━━━━━━━━━\u001b[0m \u001b[32m39.4/39.4 MB\u001b[0m \u001b[31m15.3 MB/s\u001b[0m eta \u001b[36m0:00:00\u001b[0m\n",
            "\u001b[?25hRequirement already satisfied: six>=1.5 in /usr/local/lib/python3.10/dist-packages (from python-dateutil>=2.8.0->qiskit) (1.16.0)\n",
            "Collecting pbr!=2.1.0,>=2.0.0 (from stevedore>=3.0.0->qiskit)\n",
            "  Downloading pbr-6.0.0-py2.py3-none-any.whl (107 kB)\n",
            "\u001b[2K     \u001b[90m━━━━━━━━━━━━━━━━━━━━━━━━━━━━━━━━━━━━━━━━\u001b[0m \u001b[32m107.5/107.5 kB\u001b[0m \u001b[31m13.5 MB/s\u001b[0m eta \u001b[36m0:00:00\u001b[0m\n",
            "\u001b[?25hRequirement already satisfied: mpmath<1.4,>=1.1.0 in /usr/local/lib/python3.10/dist-packages (from sympy>=1.3->qiskit) (1.3.0)\n",
            "Installing collected packages: symengine, rustworkx, pbr, dill, stevedore, qiskit\n",
            "Successfully installed dill-0.3.8 pbr-6.0.0 qiskit-1.1.1 rustworkx-0.15.1 stevedore-5.2.0 symengine-0.11.0\n"
          ]
        }
      ],
      "source": [
        "!pip install qiskit"
      ]
    },
    {
      "cell_type": "code",
      "execution_count": null,
      "metadata": {
        "colab": {
          "base_uri": "https://localhost:8080/"
        },
        "id": "CDvVkETF1oam",
        "outputId": "950fff6f-6b79-4ea7-d371-8b2165613469"
      },
      "outputs": [
        {
          "output_type": "stream",
          "name": "stdout",
          "text": [
            "Requirement already satisfied: torch in /usr/local/lib/python3.10/dist-packages (2.3.1+cu121)\n",
            "Requirement already satisfied: filelock in /usr/local/lib/python3.10/dist-packages (from torch) (3.15.4)\n",
            "Requirement already satisfied: typing-extensions>=4.8.0 in /usr/local/lib/python3.10/dist-packages (from torch) (4.12.2)\n",
            "Requirement already satisfied: sympy in /usr/local/lib/python3.10/dist-packages (from torch) (1.13.0)\n",
            "Requirement already satisfied: networkx in /usr/local/lib/python3.10/dist-packages (from torch) (3.3)\n",
            "Requirement already satisfied: jinja2 in /usr/local/lib/python3.10/dist-packages (from torch) (3.1.4)\n",
            "Requirement already satisfied: fsspec in /usr/local/lib/python3.10/dist-packages (from torch) (2023.6.0)\n",
            "Collecting nvidia-cuda-nvrtc-cu12==12.1.105 (from torch)\n",
            "  Using cached nvidia_cuda_nvrtc_cu12-12.1.105-py3-none-manylinux1_x86_64.whl (23.7 MB)\n",
            "Collecting nvidia-cuda-runtime-cu12==12.1.105 (from torch)\n",
            "  Using cached nvidia_cuda_runtime_cu12-12.1.105-py3-none-manylinux1_x86_64.whl (823 kB)\n",
            "Collecting nvidia-cuda-cupti-cu12==12.1.105 (from torch)\n",
            "  Using cached nvidia_cuda_cupti_cu12-12.1.105-py3-none-manylinux1_x86_64.whl (14.1 MB)\n",
            "Collecting nvidia-cudnn-cu12==8.9.2.26 (from torch)\n",
            "  Using cached nvidia_cudnn_cu12-8.9.2.26-py3-none-manylinux1_x86_64.whl (731.7 MB)\n",
            "Collecting nvidia-cublas-cu12==12.1.3.1 (from torch)\n",
            "  Using cached nvidia_cublas_cu12-12.1.3.1-py3-none-manylinux1_x86_64.whl (410.6 MB)\n",
            "Collecting nvidia-cufft-cu12==11.0.2.54 (from torch)\n",
            "  Using cached nvidia_cufft_cu12-11.0.2.54-py3-none-manylinux1_x86_64.whl (121.6 MB)\n",
            "Collecting nvidia-curand-cu12==10.3.2.106 (from torch)\n",
            "  Using cached nvidia_curand_cu12-10.3.2.106-py3-none-manylinux1_x86_64.whl (56.5 MB)\n",
            "Collecting nvidia-cusolver-cu12==11.4.5.107 (from torch)\n",
            "  Using cached nvidia_cusolver_cu12-11.4.5.107-py3-none-manylinux1_x86_64.whl (124.2 MB)\n",
            "Collecting nvidia-cusparse-cu12==12.1.0.106 (from torch)\n",
            "  Using cached nvidia_cusparse_cu12-12.1.0.106-py3-none-manylinux1_x86_64.whl (196.0 MB)\n",
            "Collecting nvidia-nccl-cu12==2.20.5 (from torch)\n",
            "  Using cached nvidia_nccl_cu12-2.20.5-py3-none-manylinux2014_x86_64.whl (176.2 MB)\n",
            "Collecting nvidia-nvtx-cu12==12.1.105 (from torch)\n",
            "  Using cached nvidia_nvtx_cu12-12.1.105-py3-none-manylinux1_x86_64.whl (99 kB)\n",
            "Requirement already satisfied: triton==2.3.1 in /usr/local/lib/python3.10/dist-packages (from torch) (2.3.1)\n",
            "Collecting nvidia-nvjitlink-cu12 (from nvidia-cusolver-cu12==11.4.5.107->torch)\n",
            "  Downloading nvidia_nvjitlink_cu12-12.5.82-py3-none-manylinux2014_x86_64.whl (21.3 MB)\n",
            "\u001b[2K     \u001b[90m━━━━━━━━━━━━━━━━━━━━━━━━━━━━━━━━━━━━━━━━\u001b[0m \u001b[32m21.3/21.3 MB\u001b[0m \u001b[31m49.3 MB/s\u001b[0m eta \u001b[36m0:00:00\u001b[0m\n",
            "\u001b[?25hRequirement already satisfied: MarkupSafe>=2.0 in /usr/local/lib/python3.10/dist-packages (from jinja2->torch) (2.1.5)\n",
            "Requirement already satisfied: mpmath<1.4,>=1.1.0 in /usr/local/lib/python3.10/dist-packages (from sympy->torch) (1.3.0)\n",
            "Installing collected packages: nvidia-nvtx-cu12, nvidia-nvjitlink-cu12, nvidia-nccl-cu12, nvidia-curand-cu12, nvidia-cufft-cu12, nvidia-cuda-runtime-cu12, nvidia-cuda-nvrtc-cu12, nvidia-cuda-cupti-cu12, nvidia-cublas-cu12, nvidia-cusparse-cu12, nvidia-cudnn-cu12, nvidia-cusolver-cu12\n",
            "Successfully installed nvidia-cublas-cu12-12.1.3.1 nvidia-cuda-cupti-cu12-12.1.105 nvidia-cuda-nvrtc-cu12-12.1.105 nvidia-cuda-runtime-cu12-12.1.105 nvidia-cudnn-cu12-8.9.2.26 nvidia-cufft-cu12-11.0.2.54 nvidia-curand-cu12-10.3.2.106 nvidia-cusolver-cu12-11.4.5.107 nvidia-cusparse-cu12-12.1.0.106 nvidia-nccl-cu12-2.20.5 nvidia-nvjitlink-cu12-12.5.82 nvidia-nvtx-cu12-12.1.105\n"
          ]
        }
      ],
      "source": [
        "!pip install torch"
      ]
    },
    {
      "cell_type": "code",
      "execution_count": null,
      "metadata": {
        "colab": {
          "base_uri": "https://localhost:8080/"
        },
        "id": "i3-fDilC1oan",
        "outputId": "7158b442-ea99-405d-d28a-db75c2cc20ab"
      },
      "outputs": [
        {
          "output_type": "stream",
          "name": "stdout",
          "text": [
            "Requirement already satisfied: cvxpy in /usr/local/lib/python3.10/dist-packages (1.3.4)\n",
            "Requirement already satisfied: osqp>=0.4.1 in /usr/local/lib/python3.10/dist-packages (from cvxpy) (0.6.2.post8)\n",
            "Requirement already satisfied: ecos>=2 in /usr/local/lib/python3.10/dist-packages (from cvxpy) (2.0.14)\n",
            "Requirement already satisfied: scs>=1.1.6 in /usr/local/lib/python3.10/dist-packages (from cvxpy) (3.2.6)\n",
            "Requirement already satisfied: numpy>=1.15 in /usr/local/lib/python3.10/dist-packages (from cvxpy) (1.25.2)\n",
            "Requirement already satisfied: scipy>=1.1.0 in /usr/local/lib/python3.10/dist-packages (from cvxpy) (1.11.4)\n",
            "Requirement already satisfied: setuptools>65.5.1 in /usr/local/lib/python3.10/dist-packages (from cvxpy) (67.7.2)\n",
            "Requirement already satisfied: qdldl in /usr/local/lib/python3.10/dist-packages (from osqp>=0.4.1->cvxpy) (0.1.7.post4)\n"
          ]
        }
      ],
      "source": [
        "!pip install cvxpy"
      ]
    },
    {
      "cell_type": "code",
      "execution_count": null,
      "metadata": {
        "colab": {
          "base_uri": "https://localhost:8080/"
        },
        "id": "J9gpFiY-1oan",
        "outputId": "25aa4850-4e09-446a-e795-e12f1fb84c53"
      },
      "outputs": [
        {
          "output_type": "stream",
          "name": "stdout",
          "text": [
            "Requirement already satisfied: tensorflow in /usr/local/lib/python3.10/dist-packages (2.15.0)\n",
            "Requirement already satisfied: absl-py>=1.0.0 in /usr/local/lib/python3.10/dist-packages (from tensorflow) (1.4.0)\n",
            "Requirement already satisfied: astunparse>=1.6.0 in /usr/local/lib/python3.10/dist-packages (from tensorflow) (1.6.3)\n",
            "Requirement already satisfied: flatbuffers>=23.5.26 in /usr/local/lib/python3.10/dist-packages (from tensorflow) (24.3.25)\n",
            "Requirement already satisfied: gast!=0.5.0,!=0.5.1,!=0.5.2,>=0.2.1 in /usr/local/lib/python3.10/dist-packages (from tensorflow) (0.6.0)\n",
            "Requirement already satisfied: google-pasta>=0.1.1 in /usr/local/lib/python3.10/dist-packages (from tensorflow) (0.2.0)\n",
            "Requirement already satisfied: h5py>=2.9.0 in /usr/local/lib/python3.10/dist-packages (from tensorflow) (3.9.0)\n",
            "Requirement already satisfied: libclang>=13.0.0 in /usr/local/lib/python3.10/dist-packages (from tensorflow) (18.1.1)\n",
            "Requirement already satisfied: ml-dtypes~=0.2.0 in /usr/local/lib/python3.10/dist-packages (from tensorflow) (0.2.0)\n",
            "Requirement already satisfied: numpy<2.0.0,>=1.23.5 in /usr/local/lib/python3.10/dist-packages (from tensorflow) (1.25.2)\n",
            "Requirement already satisfied: opt-einsum>=2.3.2 in /usr/local/lib/python3.10/dist-packages (from tensorflow) (3.3.0)\n",
            "Requirement already satisfied: packaging in /usr/local/lib/python3.10/dist-packages (from tensorflow) (24.1)\n",
            "Requirement already satisfied: protobuf!=4.21.0,!=4.21.1,!=4.21.2,!=4.21.3,!=4.21.4,!=4.21.5,<5.0.0dev,>=3.20.3 in /usr/local/lib/python3.10/dist-packages (from tensorflow) (3.20.3)\n",
            "Requirement already satisfied: setuptools in /usr/local/lib/python3.10/dist-packages (from tensorflow) (67.7.2)\n",
            "Requirement already satisfied: six>=1.12.0 in /usr/local/lib/python3.10/dist-packages (from tensorflow) (1.16.0)\n",
            "Requirement already satisfied: termcolor>=1.1.0 in /usr/local/lib/python3.10/dist-packages (from tensorflow) (2.4.0)\n",
            "Requirement already satisfied: typing-extensions>=3.6.6 in /usr/local/lib/python3.10/dist-packages (from tensorflow) (4.12.2)\n",
            "Requirement already satisfied: wrapt<1.15,>=1.11.0 in /usr/local/lib/python3.10/dist-packages (from tensorflow) (1.14.1)\n",
            "Requirement already satisfied: tensorflow-io-gcs-filesystem>=0.23.1 in /usr/local/lib/python3.10/dist-packages (from tensorflow) (0.37.1)\n",
            "Requirement already satisfied: grpcio<2.0,>=1.24.3 in /usr/local/lib/python3.10/dist-packages (from tensorflow) (1.64.1)\n",
            "Requirement already satisfied: tensorboard<2.16,>=2.15 in /usr/local/lib/python3.10/dist-packages (from tensorflow) (2.15.2)\n",
            "Requirement already satisfied: tensorflow-estimator<2.16,>=2.15.0 in /usr/local/lib/python3.10/dist-packages (from tensorflow) (2.15.0)\n",
            "Requirement already satisfied: keras<2.16,>=2.15.0 in /usr/local/lib/python3.10/dist-packages (from tensorflow) (2.15.0)\n",
            "Requirement already satisfied: wheel<1.0,>=0.23.0 in /usr/local/lib/python3.10/dist-packages (from astunparse>=1.6.0->tensorflow) (0.43.0)\n",
            "Requirement already satisfied: google-auth<3,>=1.6.3 in /usr/local/lib/python3.10/dist-packages (from tensorboard<2.16,>=2.15->tensorflow) (2.27.0)\n",
            "Requirement already satisfied: google-auth-oauthlib<2,>=0.5 in /usr/local/lib/python3.10/dist-packages (from tensorboard<2.16,>=2.15->tensorflow) (1.2.1)\n",
            "Requirement already satisfied: markdown>=2.6.8 in /usr/local/lib/python3.10/dist-packages (from tensorboard<2.16,>=2.15->tensorflow) (3.6)\n",
            "Requirement already satisfied: requests<3,>=2.21.0 in /usr/local/lib/python3.10/dist-packages (from tensorboard<2.16,>=2.15->tensorflow) (2.31.0)\n",
            "Requirement already satisfied: tensorboard-data-server<0.8.0,>=0.7.0 in /usr/local/lib/python3.10/dist-packages (from tensorboard<2.16,>=2.15->tensorflow) (0.7.2)\n",
            "Requirement already satisfied: werkzeug>=1.0.1 in /usr/local/lib/python3.10/dist-packages (from tensorboard<2.16,>=2.15->tensorflow) (3.0.3)\n",
            "Requirement already satisfied: cachetools<6.0,>=2.0.0 in /usr/local/lib/python3.10/dist-packages (from google-auth<3,>=1.6.3->tensorboard<2.16,>=2.15->tensorflow) (5.4.0)\n",
            "Requirement already satisfied: pyasn1-modules>=0.2.1 in /usr/local/lib/python3.10/dist-packages (from google-auth<3,>=1.6.3->tensorboard<2.16,>=2.15->tensorflow) (0.4.0)\n",
            "Requirement already satisfied: rsa<5,>=3.1.4 in /usr/local/lib/python3.10/dist-packages (from google-auth<3,>=1.6.3->tensorboard<2.16,>=2.15->tensorflow) (4.9)\n",
            "Requirement already satisfied: requests-oauthlib>=0.7.0 in /usr/local/lib/python3.10/dist-packages (from google-auth-oauthlib<2,>=0.5->tensorboard<2.16,>=2.15->tensorflow) (1.3.1)\n",
            "Requirement already satisfied: charset-normalizer<4,>=2 in /usr/local/lib/python3.10/dist-packages (from requests<3,>=2.21.0->tensorboard<2.16,>=2.15->tensorflow) (3.3.2)\n",
            "Requirement already satisfied: idna<4,>=2.5 in /usr/local/lib/python3.10/dist-packages (from requests<3,>=2.21.0->tensorboard<2.16,>=2.15->tensorflow) (3.7)\n",
            "Requirement already satisfied: urllib3<3,>=1.21.1 in /usr/local/lib/python3.10/dist-packages (from requests<3,>=2.21.0->tensorboard<2.16,>=2.15->tensorflow) (2.0.7)\n",
            "Requirement already satisfied: certifi>=2017.4.17 in /usr/local/lib/python3.10/dist-packages (from requests<3,>=2.21.0->tensorboard<2.16,>=2.15->tensorflow) (2024.7.4)\n",
            "Requirement already satisfied: MarkupSafe>=2.1.1 in /usr/local/lib/python3.10/dist-packages (from werkzeug>=1.0.1->tensorboard<2.16,>=2.15->tensorflow) (2.1.5)\n",
            "Requirement already satisfied: pyasn1<0.7.0,>=0.4.6 in /usr/local/lib/python3.10/dist-packages (from pyasn1-modules>=0.2.1->google-auth<3,>=1.6.3->tensorboard<2.16,>=2.15->tensorflow) (0.6.0)\n",
            "Requirement already satisfied: oauthlib>=3.0.0 in /usr/local/lib/python3.10/dist-packages (from requests-oauthlib>=0.7.0->google-auth-oauthlib<2,>=0.5->tensorboard<2.16,>=2.15->tensorflow) (3.2.2)\n"
          ]
        }
      ],
      "source": [
        "\n",
        "!pip install tensorflow"
      ]
    },
    {
      "cell_type": "code",
      "execution_count": null,
      "metadata": {
        "id": "rAEbNdCD3ITK"
      },
      "outputs": [],
      "source": [
        "# Essential libraries for math in AI\n",
        "import numpy as np  # Fundamental package for scientific computing\n",
        "import scipy as sp  # Library for scientific and technical computing\n",
        "import pandas as pd  # Data analysis and manipulation library\n",
        "\n",
        "# Visualization libraries\n",
        "import matplotlib.pyplot as plt  # Plotting library\n",
        "import seaborn as sns  # Statistical data visualization library\n",
        "import plotly.express as px  # Interactive visualization library\n",
        "\n",
        "# Linear algebra libraries\n",
        "import torch # Popular deep learning framework\n",
        "import tensorflow as tf  # Another popular deep learning framework\n",
        "\n",
        "# Optimization libraries\n",
        "import cvxpy as cp  # Convex optimization library\n",
        "import qiskit as qk  # Quantum computing library\n"
      ]
    },
    {
      "cell_type": "markdown",
      "metadata": {
        "id": "1pbi6UBh2z-7"
      },
      "source": [
        "## 2.Statistical"
      ]
    },
    {
      "cell_type": "markdown",
      "metadata": {
        "id": "qy4rJEd36jnC"
      },
      "source": [
        "### 2.1 Make Dataset"
      ]
    },
    {
      "cell_type": "code",
      "execution_count": null,
      "metadata": {
        "colab": {
          "base_uri": "https://localhost:8080/",
          "height": 206
        },
        "id": "VGrQ5DBT5FCE",
        "outputId": "ea744e6b-93d1-4668-d326-a9408adf417b"
      },
      "outputs": [
        {
          "output_type": "execute_result",
          "data": {
            "text/plain": [
              "   Math  Science  English\n",
              "0    51       17       25\n",
              "1    92        3       88\n",
              "2    14       88       59\n",
              "3    71       59       40\n",
              "4    60       13       28"
            ],
            "text/html": [
              "\n",
              "  <div id=\"df-e9f60ed8-689e-4071-8b6d-7a61af74e4c0\" class=\"colab-df-container\">\n",
              "    <div>\n",
              "<style scoped>\n",
              "    .dataframe tbody tr th:only-of-type {\n",
              "        vertical-align: middle;\n",
              "    }\n",
              "\n",
              "    .dataframe tbody tr th {\n",
              "        vertical-align: top;\n",
              "    }\n",
              "\n",
              "    .dataframe thead th {\n",
              "        text-align: right;\n",
              "    }\n",
              "</style>\n",
              "<table border=\"1\" class=\"dataframe\">\n",
              "  <thead>\n",
              "    <tr style=\"text-align: right;\">\n",
              "      <th></th>\n",
              "      <th>Math</th>\n",
              "      <th>Science</th>\n",
              "      <th>English</th>\n",
              "    </tr>\n",
              "  </thead>\n",
              "  <tbody>\n",
              "    <tr>\n",
              "      <th>0</th>\n",
              "      <td>51</td>\n",
              "      <td>17</td>\n",
              "      <td>25</td>\n",
              "    </tr>\n",
              "    <tr>\n",
              "      <th>1</th>\n",
              "      <td>92</td>\n",
              "      <td>3</td>\n",
              "      <td>88</td>\n",
              "    </tr>\n",
              "    <tr>\n",
              "      <th>2</th>\n",
              "      <td>14</td>\n",
              "      <td>88</td>\n",
              "      <td>59</td>\n",
              "    </tr>\n",
              "    <tr>\n",
              "      <th>3</th>\n",
              "      <td>71</td>\n",
              "      <td>59</td>\n",
              "      <td>40</td>\n",
              "    </tr>\n",
              "    <tr>\n",
              "      <th>4</th>\n",
              "      <td>60</td>\n",
              "      <td>13</td>\n",
              "      <td>28</td>\n",
              "    </tr>\n",
              "  </tbody>\n",
              "</table>\n",
              "</div>\n",
              "    <div class=\"colab-df-buttons\">\n",
              "\n",
              "  <div class=\"colab-df-container\">\n",
              "    <button class=\"colab-df-convert\" onclick=\"convertToInteractive('df-e9f60ed8-689e-4071-8b6d-7a61af74e4c0')\"\n",
              "            title=\"Convert this dataframe to an interactive table.\"\n",
              "            style=\"display:none;\">\n",
              "\n",
              "  <svg xmlns=\"http://www.w3.org/2000/svg\" height=\"24px\" viewBox=\"0 -960 960 960\">\n",
              "    <path d=\"M120-120v-720h720v720H120Zm60-500h600v-160H180v160Zm220 220h160v-160H400v160Zm0 220h160v-160H400v160ZM180-400h160v-160H180v160Zm440 0h160v-160H620v160ZM180-180h160v-160H180v160Zm440 0h160v-160H620v160Z\"/>\n",
              "  </svg>\n",
              "    </button>\n",
              "\n",
              "  <style>\n",
              "    .colab-df-container {\n",
              "      display:flex;\n",
              "      gap: 12px;\n",
              "    }\n",
              "\n",
              "    .colab-df-convert {\n",
              "      background-color: #E8F0FE;\n",
              "      border: none;\n",
              "      border-radius: 50%;\n",
              "      cursor: pointer;\n",
              "      display: none;\n",
              "      fill: #1967D2;\n",
              "      height: 32px;\n",
              "      padding: 0 0 0 0;\n",
              "      width: 32px;\n",
              "    }\n",
              "\n",
              "    .colab-df-convert:hover {\n",
              "      background-color: #E2EBFA;\n",
              "      box-shadow: 0px 1px 2px rgba(60, 64, 67, 0.3), 0px 1px 3px 1px rgba(60, 64, 67, 0.15);\n",
              "      fill: #174EA6;\n",
              "    }\n",
              "\n",
              "    .colab-df-buttons div {\n",
              "      margin-bottom: 4px;\n",
              "    }\n",
              "\n",
              "    [theme=dark] .colab-df-convert {\n",
              "      background-color: #3B4455;\n",
              "      fill: #D2E3FC;\n",
              "    }\n",
              "\n",
              "    [theme=dark] .colab-df-convert:hover {\n",
              "      background-color: #434B5C;\n",
              "      box-shadow: 0px 1px 3px 1px rgba(0, 0, 0, 0.15);\n",
              "      filter: drop-shadow(0px 1px 2px rgba(0, 0, 0, 0.3));\n",
              "      fill: #FFFFFF;\n",
              "    }\n",
              "  </style>\n",
              "\n",
              "    <script>\n",
              "      const buttonEl =\n",
              "        document.querySelector('#df-e9f60ed8-689e-4071-8b6d-7a61af74e4c0 button.colab-df-convert');\n",
              "      buttonEl.style.display =\n",
              "        google.colab.kernel.accessAllowed ? 'block' : 'none';\n",
              "\n",
              "      async function convertToInteractive(key) {\n",
              "        const element = document.querySelector('#df-e9f60ed8-689e-4071-8b6d-7a61af74e4c0');\n",
              "        const dataTable =\n",
              "          await google.colab.kernel.invokeFunction('convertToInteractive',\n",
              "                                                    [key], {});\n",
              "        if (!dataTable) return;\n",
              "\n",
              "        const docLinkHtml = 'Like what you see? Visit the ' +\n",
              "          '<a target=\"_blank\" href=https://colab.research.google.com/notebooks/data_table.ipynb>data table notebook</a>'\n",
              "          + ' to learn more about interactive tables.';\n",
              "        element.innerHTML = '';\n",
              "        dataTable['output_type'] = 'display_data';\n",
              "        await google.colab.output.renderOutput(dataTable, element);\n",
              "        const docLink = document.createElement('div');\n",
              "        docLink.innerHTML = docLinkHtml;\n",
              "        element.appendChild(docLink);\n",
              "      }\n",
              "    </script>\n",
              "  </div>\n",
              "\n",
              "\n",
              "<div id=\"df-a49e485d-b017-46bb-98fe-7af4953936fa\">\n",
              "  <button class=\"colab-df-quickchart\" onclick=\"quickchart('df-a49e485d-b017-46bb-98fe-7af4953936fa')\"\n",
              "            title=\"Suggest charts\"\n",
              "            style=\"display:none;\">\n",
              "\n",
              "<svg xmlns=\"http://www.w3.org/2000/svg\" height=\"24px\"viewBox=\"0 0 24 24\"\n",
              "     width=\"24px\">\n",
              "    <g>\n",
              "        <path d=\"M19 3H5c-1.1 0-2 .9-2 2v14c0 1.1.9 2 2 2h14c1.1 0 2-.9 2-2V5c0-1.1-.9-2-2-2zM9 17H7v-7h2v7zm4 0h-2V7h2v10zm4 0h-2v-4h2v4z\"/>\n",
              "    </g>\n",
              "</svg>\n",
              "  </button>\n",
              "\n",
              "<style>\n",
              "  .colab-df-quickchart {\n",
              "      --bg-color: #E8F0FE;\n",
              "      --fill-color: #1967D2;\n",
              "      --hover-bg-color: #E2EBFA;\n",
              "      --hover-fill-color: #174EA6;\n",
              "      --disabled-fill-color: #AAA;\n",
              "      --disabled-bg-color: #DDD;\n",
              "  }\n",
              "\n",
              "  [theme=dark] .colab-df-quickchart {\n",
              "      --bg-color: #3B4455;\n",
              "      --fill-color: #D2E3FC;\n",
              "      --hover-bg-color: #434B5C;\n",
              "      --hover-fill-color: #FFFFFF;\n",
              "      --disabled-bg-color: #3B4455;\n",
              "      --disabled-fill-color: #666;\n",
              "  }\n",
              "\n",
              "  .colab-df-quickchart {\n",
              "    background-color: var(--bg-color);\n",
              "    border: none;\n",
              "    border-radius: 50%;\n",
              "    cursor: pointer;\n",
              "    display: none;\n",
              "    fill: var(--fill-color);\n",
              "    height: 32px;\n",
              "    padding: 0;\n",
              "    width: 32px;\n",
              "  }\n",
              "\n",
              "  .colab-df-quickchart:hover {\n",
              "    background-color: var(--hover-bg-color);\n",
              "    box-shadow: 0 1px 2px rgba(60, 64, 67, 0.3), 0 1px 3px 1px rgba(60, 64, 67, 0.15);\n",
              "    fill: var(--button-hover-fill-color);\n",
              "  }\n",
              "\n",
              "  .colab-df-quickchart-complete:disabled,\n",
              "  .colab-df-quickchart-complete:disabled:hover {\n",
              "    background-color: var(--disabled-bg-color);\n",
              "    fill: var(--disabled-fill-color);\n",
              "    box-shadow: none;\n",
              "  }\n",
              "\n",
              "  .colab-df-spinner {\n",
              "    border: 2px solid var(--fill-color);\n",
              "    border-color: transparent;\n",
              "    border-bottom-color: var(--fill-color);\n",
              "    animation:\n",
              "      spin 1s steps(1) infinite;\n",
              "  }\n",
              "\n",
              "  @keyframes spin {\n",
              "    0% {\n",
              "      border-color: transparent;\n",
              "      border-bottom-color: var(--fill-color);\n",
              "      border-left-color: var(--fill-color);\n",
              "    }\n",
              "    20% {\n",
              "      border-color: transparent;\n",
              "      border-left-color: var(--fill-color);\n",
              "      border-top-color: var(--fill-color);\n",
              "    }\n",
              "    30% {\n",
              "      border-color: transparent;\n",
              "      border-left-color: var(--fill-color);\n",
              "      border-top-color: var(--fill-color);\n",
              "      border-right-color: var(--fill-color);\n",
              "    }\n",
              "    40% {\n",
              "      border-color: transparent;\n",
              "      border-right-color: var(--fill-color);\n",
              "      border-top-color: var(--fill-color);\n",
              "    }\n",
              "    60% {\n",
              "      border-color: transparent;\n",
              "      border-right-color: var(--fill-color);\n",
              "    }\n",
              "    80% {\n",
              "      border-color: transparent;\n",
              "      border-right-color: var(--fill-color);\n",
              "      border-bottom-color: var(--fill-color);\n",
              "    }\n",
              "    90% {\n",
              "      border-color: transparent;\n",
              "      border-bottom-color: var(--fill-color);\n",
              "    }\n",
              "  }\n",
              "</style>\n",
              "\n",
              "  <script>\n",
              "    async function quickchart(key) {\n",
              "      const quickchartButtonEl =\n",
              "        document.querySelector('#' + key + ' button');\n",
              "      quickchartButtonEl.disabled = true;  // To prevent multiple clicks.\n",
              "      quickchartButtonEl.classList.add('colab-df-spinner');\n",
              "      try {\n",
              "        const charts = await google.colab.kernel.invokeFunction(\n",
              "            'suggestCharts', [key], {});\n",
              "      } catch (error) {\n",
              "        console.error('Error during call to suggestCharts:', error);\n",
              "      }\n",
              "      quickchartButtonEl.classList.remove('colab-df-spinner');\n",
              "      quickchartButtonEl.classList.add('colab-df-quickchart-complete');\n",
              "    }\n",
              "    (() => {\n",
              "      let quickchartButtonEl =\n",
              "        document.querySelector('#df-a49e485d-b017-46bb-98fe-7af4953936fa button');\n",
              "      quickchartButtonEl.style.display =\n",
              "        google.colab.kernel.accessAllowed ? 'block' : 'none';\n",
              "    })();\n",
              "  </script>\n",
              "</div>\n",
              "    </div>\n",
              "  </div>\n"
            ],
            "application/vnd.google.colaboratory.intrinsic+json": {
              "type": "dataframe",
              "variable_name": "df",
              "summary": "{\n  \"name\": \"df\",\n  \"rows\": 50,\n  \"fields\": [\n    {\n      \"column\": \"Math\",\n      \"properties\": {\n        \"dtype\": \"number\",\n        \"std\": 28,\n        \"min\": 1,\n        \"max\": 99,\n        \"num_unique_values\": 37,\n        \"samples\": [\n          37,\n          21,\n          60\n        ],\n        \"semantic_type\": \"\",\n        \"description\": \"\"\n      }\n    },\n    {\n      \"column\": \"Science\",\n      \"properties\": {\n        \"dtype\": \"number\",\n        \"std\": 30,\n        \"min\": 1,\n        \"max\": 99,\n        \"num_unique_values\": 38,\n        \"samples\": [\n          39,\n          81,\n          13\n        ],\n        \"semantic_type\": \"\",\n        \"description\": \"\"\n      }\n    },\n    {\n      \"column\": \"English\",\n      \"properties\": {\n        \"dtype\": \"number\",\n        \"std\": 31,\n        \"min\": 0,\n        \"max\": 98,\n        \"num_unique_values\": 38,\n        \"samples\": [\n          46,\n          89,\n          28\n        ],\n        \"semantic_type\": \"\",\n        \"description\": \"\"\n      }\n    }\n  ]\n}"
            }
          },
          "metadata": {},
          "execution_count": 9
        }
      ],
      "source": [
        "np.random.seed(42)  # For reproducibility\n",
        "data = {\n",
        "    'Math': np.random.randint(0, 100, 50),\n",
        "    'Science': np.random.randint(0, 100, 50),\n",
        "    'English': np.random.randint(0, 100, 50)\n",
        "}\n",
        "df = pd.DataFrame(data)\n",
        "df.head()"
      ]
    },
    {
      "cell_type": "code",
      "execution_count": null,
      "metadata": {
        "colab": {
          "base_uri": "https://localhost:8080/"
        },
        "id": "RHGJ20VeD4e4",
        "outputId": "4dfb4973-2a14-4515-ee02-2f6b76a6397b"
      },
      "outputs": [
        {
          "output_type": "execute_result",
          "data": {
            "text/plain": [
              "{'Math': array([51, 92, 14, 71, 60, 20, 82, 86, 74, 74, 87, 99, 23,  2, 21, 52,  1,\n",
              "        87, 29, 37,  1, 63, 59, 20, 32, 75, 57, 21, 88, 48, 90, 58, 41, 91,\n",
              "        59, 79, 14, 61, 61, 46, 61, 50, 54, 63,  2, 50,  6, 20, 72, 38]),\n",
              " 'Science': array([17,  3, 88, 59, 13,  8, 89, 52,  1, 83, 91, 59, 70, 43,  7, 46, 34,\n",
              "        77, 80, 35, 49,  3,  1,  5, 53,  3, 53, 92, 62, 17, 89, 43, 33, 73,\n",
              "        61, 99, 13, 94, 47, 14, 71, 77, 86, 61, 39, 84, 79, 81, 52, 23]),\n",
              " 'English': array([25, 88, 59, 40, 28, 14, 44, 64, 88, 70,  8, 87,  0,  7, 87, 62, 10,\n",
              "        80,  7, 34, 34, 32,  4, 40, 27,  6, 72, 71, 11, 33, 32, 47, 22, 61,\n",
              "        87, 36, 98, 43, 85, 90, 34, 64, 98, 46, 77,  2,  0,  4, 89, 13])}"
            ]
          },
          "metadata": {},
          "execution_count": 10
        }
      ],
      "source": [
        "data"
      ]
    },
    {
      "cell_type": "code",
      "execution_count": null,
      "metadata": {
        "colab": {
          "base_uri": "https://localhost:8080/",
          "height": 1000
        },
        "id": "cm_8YZCrD8e1",
        "outputId": "674af57a-4e91-4049-fea1-e878d47deb6e"
      },
      "outputs": [
        {
          "output_type": "execute_result",
          "data": {
            "text/plain": [
              "    Math  Science  English\n",
              "0     51       17       25\n",
              "1     92        3       88\n",
              "2     14       88       59\n",
              "3     71       59       40\n",
              "4     60       13       28\n",
              "5     20        8       14\n",
              "6     82       89       44\n",
              "7     86       52       64\n",
              "8     74        1       88\n",
              "9     74       83       70\n",
              "10    87       91        8\n",
              "11    99       59       87\n",
              "12    23       70        0\n",
              "13     2       43        7\n",
              "14    21        7       87\n",
              "15    52       46       62\n",
              "16     1       34       10\n",
              "17    87       77       80\n",
              "18    29       80        7\n",
              "19    37       35       34\n",
              "20     1       49       34\n",
              "21    63        3       32\n",
              "22    59        1        4\n",
              "23    20        5       40\n",
              "24    32       53       27\n",
              "25    75        3        6\n",
              "26    57       53       72\n",
              "27    21       92       71\n",
              "28    88       62       11\n",
              "29    48       17       33\n",
              "30    90       89       32\n",
              "31    58       43       47\n",
              "32    41       33       22\n",
              "33    91       73       61\n",
              "34    59       61       87\n",
              "35    79       99       36\n",
              "36    14       13       98\n",
              "37    61       94       43\n",
              "38    61       47       85\n",
              "39    46       14       90\n",
              "40    61       71       34\n",
              "41    50       77       64\n",
              "42    54       86       98\n",
              "43    63       61       46\n",
              "44     2       39       77\n",
              "45    50       84        2\n",
              "46     6       79        0\n",
              "47    20       81        4\n",
              "48    72       52       89\n",
              "49    38       23       13"
            ],
            "text/html": [
              "\n",
              "  <div id=\"df-fadbc668-df01-438a-a978-3c51a741e959\" class=\"colab-df-container\">\n",
              "    <div>\n",
              "<style scoped>\n",
              "    .dataframe tbody tr th:only-of-type {\n",
              "        vertical-align: middle;\n",
              "    }\n",
              "\n",
              "    .dataframe tbody tr th {\n",
              "        vertical-align: top;\n",
              "    }\n",
              "\n",
              "    .dataframe thead th {\n",
              "        text-align: right;\n",
              "    }\n",
              "</style>\n",
              "<table border=\"1\" class=\"dataframe\">\n",
              "  <thead>\n",
              "    <tr style=\"text-align: right;\">\n",
              "      <th></th>\n",
              "      <th>Math</th>\n",
              "      <th>Science</th>\n",
              "      <th>English</th>\n",
              "    </tr>\n",
              "  </thead>\n",
              "  <tbody>\n",
              "    <tr>\n",
              "      <th>0</th>\n",
              "      <td>51</td>\n",
              "      <td>17</td>\n",
              "      <td>25</td>\n",
              "    </tr>\n",
              "    <tr>\n",
              "      <th>1</th>\n",
              "      <td>92</td>\n",
              "      <td>3</td>\n",
              "      <td>88</td>\n",
              "    </tr>\n",
              "    <tr>\n",
              "      <th>2</th>\n",
              "      <td>14</td>\n",
              "      <td>88</td>\n",
              "      <td>59</td>\n",
              "    </tr>\n",
              "    <tr>\n",
              "      <th>3</th>\n",
              "      <td>71</td>\n",
              "      <td>59</td>\n",
              "      <td>40</td>\n",
              "    </tr>\n",
              "    <tr>\n",
              "      <th>4</th>\n",
              "      <td>60</td>\n",
              "      <td>13</td>\n",
              "      <td>28</td>\n",
              "    </tr>\n",
              "    <tr>\n",
              "      <th>5</th>\n",
              "      <td>20</td>\n",
              "      <td>8</td>\n",
              "      <td>14</td>\n",
              "    </tr>\n",
              "    <tr>\n",
              "      <th>6</th>\n",
              "      <td>82</td>\n",
              "      <td>89</td>\n",
              "      <td>44</td>\n",
              "    </tr>\n",
              "    <tr>\n",
              "      <th>7</th>\n",
              "      <td>86</td>\n",
              "      <td>52</td>\n",
              "      <td>64</td>\n",
              "    </tr>\n",
              "    <tr>\n",
              "      <th>8</th>\n",
              "      <td>74</td>\n",
              "      <td>1</td>\n",
              "      <td>88</td>\n",
              "    </tr>\n",
              "    <tr>\n",
              "      <th>9</th>\n",
              "      <td>74</td>\n",
              "      <td>83</td>\n",
              "      <td>70</td>\n",
              "    </tr>\n",
              "    <tr>\n",
              "      <th>10</th>\n",
              "      <td>87</td>\n",
              "      <td>91</td>\n",
              "      <td>8</td>\n",
              "    </tr>\n",
              "    <tr>\n",
              "      <th>11</th>\n",
              "      <td>99</td>\n",
              "      <td>59</td>\n",
              "      <td>87</td>\n",
              "    </tr>\n",
              "    <tr>\n",
              "      <th>12</th>\n",
              "      <td>23</td>\n",
              "      <td>70</td>\n",
              "      <td>0</td>\n",
              "    </tr>\n",
              "    <tr>\n",
              "      <th>13</th>\n",
              "      <td>2</td>\n",
              "      <td>43</td>\n",
              "      <td>7</td>\n",
              "    </tr>\n",
              "    <tr>\n",
              "      <th>14</th>\n",
              "      <td>21</td>\n",
              "      <td>7</td>\n",
              "      <td>87</td>\n",
              "    </tr>\n",
              "    <tr>\n",
              "      <th>15</th>\n",
              "      <td>52</td>\n",
              "      <td>46</td>\n",
              "      <td>62</td>\n",
              "    </tr>\n",
              "    <tr>\n",
              "      <th>16</th>\n",
              "      <td>1</td>\n",
              "      <td>34</td>\n",
              "      <td>10</td>\n",
              "    </tr>\n",
              "    <tr>\n",
              "      <th>17</th>\n",
              "      <td>87</td>\n",
              "      <td>77</td>\n",
              "      <td>80</td>\n",
              "    </tr>\n",
              "    <tr>\n",
              "      <th>18</th>\n",
              "      <td>29</td>\n",
              "      <td>80</td>\n",
              "      <td>7</td>\n",
              "    </tr>\n",
              "    <tr>\n",
              "      <th>19</th>\n",
              "      <td>37</td>\n",
              "      <td>35</td>\n",
              "      <td>34</td>\n",
              "    </tr>\n",
              "    <tr>\n",
              "      <th>20</th>\n",
              "      <td>1</td>\n",
              "      <td>49</td>\n",
              "      <td>34</td>\n",
              "    </tr>\n",
              "    <tr>\n",
              "      <th>21</th>\n",
              "      <td>63</td>\n",
              "      <td>3</td>\n",
              "      <td>32</td>\n",
              "    </tr>\n",
              "    <tr>\n",
              "      <th>22</th>\n",
              "      <td>59</td>\n",
              "      <td>1</td>\n",
              "      <td>4</td>\n",
              "    </tr>\n",
              "    <tr>\n",
              "      <th>23</th>\n",
              "      <td>20</td>\n",
              "      <td>5</td>\n",
              "      <td>40</td>\n",
              "    </tr>\n",
              "    <tr>\n",
              "      <th>24</th>\n",
              "      <td>32</td>\n",
              "      <td>53</td>\n",
              "      <td>27</td>\n",
              "    </tr>\n",
              "    <tr>\n",
              "      <th>25</th>\n",
              "      <td>75</td>\n",
              "      <td>3</td>\n",
              "      <td>6</td>\n",
              "    </tr>\n",
              "    <tr>\n",
              "      <th>26</th>\n",
              "      <td>57</td>\n",
              "      <td>53</td>\n",
              "      <td>72</td>\n",
              "    </tr>\n",
              "    <tr>\n",
              "      <th>27</th>\n",
              "      <td>21</td>\n",
              "      <td>92</td>\n",
              "      <td>71</td>\n",
              "    </tr>\n",
              "    <tr>\n",
              "      <th>28</th>\n",
              "      <td>88</td>\n",
              "      <td>62</td>\n",
              "      <td>11</td>\n",
              "    </tr>\n",
              "    <tr>\n",
              "      <th>29</th>\n",
              "      <td>48</td>\n",
              "      <td>17</td>\n",
              "      <td>33</td>\n",
              "    </tr>\n",
              "    <tr>\n",
              "      <th>30</th>\n",
              "      <td>90</td>\n",
              "      <td>89</td>\n",
              "      <td>32</td>\n",
              "    </tr>\n",
              "    <tr>\n",
              "      <th>31</th>\n",
              "      <td>58</td>\n",
              "      <td>43</td>\n",
              "      <td>47</td>\n",
              "    </tr>\n",
              "    <tr>\n",
              "      <th>32</th>\n",
              "      <td>41</td>\n",
              "      <td>33</td>\n",
              "      <td>22</td>\n",
              "    </tr>\n",
              "    <tr>\n",
              "      <th>33</th>\n",
              "      <td>91</td>\n",
              "      <td>73</td>\n",
              "      <td>61</td>\n",
              "    </tr>\n",
              "    <tr>\n",
              "      <th>34</th>\n",
              "      <td>59</td>\n",
              "      <td>61</td>\n",
              "      <td>87</td>\n",
              "    </tr>\n",
              "    <tr>\n",
              "      <th>35</th>\n",
              "      <td>79</td>\n",
              "      <td>99</td>\n",
              "      <td>36</td>\n",
              "    </tr>\n",
              "    <tr>\n",
              "      <th>36</th>\n",
              "      <td>14</td>\n",
              "      <td>13</td>\n",
              "      <td>98</td>\n",
              "    </tr>\n",
              "    <tr>\n",
              "      <th>37</th>\n",
              "      <td>61</td>\n",
              "      <td>94</td>\n",
              "      <td>43</td>\n",
              "    </tr>\n",
              "    <tr>\n",
              "      <th>38</th>\n",
              "      <td>61</td>\n",
              "      <td>47</td>\n",
              "      <td>85</td>\n",
              "    </tr>\n",
              "    <tr>\n",
              "      <th>39</th>\n",
              "      <td>46</td>\n",
              "      <td>14</td>\n",
              "      <td>90</td>\n",
              "    </tr>\n",
              "    <tr>\n",
              "      <th>40</th>\n",
              "      <td>61</td>\n",
              "      <td>71</td>\n",
              "      <td>34</td>\n",
              "    </tr>\n",
              "    <tr>\n",
              "      <th>41</th>\n",
              "      <td>50</td>\n",
              "      <td>77</td>\n",
              "      <td>64</td>\n",
              "    </tr>\n",
              "    <tr>\n",
              "      <th>42</th>\n",
              "      <td>54</td>\n",
              "      <td>86</td>\n",
              "      <td>98</td>\n",
              "    </tr>\n",
              "    <tr>\n",
              "      <th>43</th>\n",
              "      <td>63</td>\n",
              "      <td>61</td>\n",
              "      <td>46</td>\n",
              "    </tr>\n",
              "    <tr>\n",
              "      <th>44</th>\n",
              "      <td>2</td>\n",
              "      <td>39</td>\n",
              "      <td>77</td>\n",
              "    </tr>\n",
              "    <tr>\n",
              "      <th>45</th>\n",
              "      <td>50</td>\n",
              "      <td>84</td>\n",
              "      <td>2</td>\n",
              "    </tr>\n",
              "    <tr>\n",
              "      <th>46</th>\n",
              "      <td>6</td>\n",
              "      <td>79</td>\n",
              "      <td>0</td>\n",
              "    </tr>\n",
              "    <tr>\n",
              "      <th>47</th>\n",
              "      <td>20</td>\n",
              "      <td>81</td>\n",
              "      <td>4</td>\n",
              "    </tr>\n",
              "    <tr>\n",
              "      <th>48</th>\n",
              "      <td>72</td>\n",
              "      <td>52</td>\n",
              "      <td>89</td>\n",
              "    </tr>\n",
              "    <tr>\n",
              "      <th>49</th>\n",
              "      <td>38</td>\n",
              "      <td>23</td>\n",
              "      <td>13</td>\n",
              "    </tr>\n",
              "  </tbody>\n",
              "</table>\n",
              "</div>\n",
              "    <div class=\"colab-df-buttons\">\n",
              "\n",
              "  <div class=\"colab-df-container\">\n",
              "    <button class=\"colab-df-convert\" onclick=\"convertToInteractive('df-fadbc668-df01-438a-a978-3c51a741e959')\"\n",
              "            title=\"Convert this dataframe to an interactive table.\"\n",
              "            style=\"display:none;\">\n",
              "\n",
              "  <svg xmlns=\"http://www.w3.org/2000/svg\" height=\"24px\" viewBox=\"0 -960 960 960\">\n",
              "    <path d=\"M120-120v-720h720v720H120Zm60-500h600v-160H180v160Zm220 220h160v-160H400v160Zm0 220h160v-160H400v160ZM180-400h160v-160H180v160Zm440 0h160v-160H620v160ZM180-180h160v-160H180v160Zm440 0h160v-160H620v160Z\"/>\n",
              "  </svg>\n",
              "    </button>\n",
              "\n",
              "  <style>\n",
              "    .colab-df-container {\n",
              "      display:flex;\n",
              "      gap: 12px;\n",
              "    }\n",
              "\n",
              "    .colab-df-convert {\n",
              "      background-color: #E8F0FE;\n",
              "      border: none;\n",
              "      border-radius: 50%;\n",
              "      cursor: pointer;\n",
              "      display: none;\n",
              "      fill: #1967D2;\n",
              "      height: 32px;\n",
              "      padding: 0 0 0 0;\n",
              "      width: 32px;\n",
              "    }\n",
              "\n",
              "    .colab-df-convert:hover {\n",
              "      background-color: #E2EBFA;\n",
              "      box-shadow: 0px 1px 2px rgba(60, 64, 67, 0.3), 0px 1px 3px 1px rgba(60, 64, 67, 0.15);\n",
              "      fill: #174EA6;\n",
              "    }\n",
              "\n",
              "    .colab-df-buttons div {\n",
              "      margin-bottom: 4px;\n",
              "    }\n",
              "\n",
              "    [theme=dark] .colab-df-convert {\n",
              "      background-color: #3B4455;\n",
              "      fill: #D2E3FC;\n",
              "    }\n",
              "\n",
              "    [theme=dark] .colab-df-convert:hover {\n",
              "      background-color: #434B5C;\n",
              "      box-shadow: 0px 1px 3px 1px rgba(0, 0, 0, 0.15);\n",
              "      filter: drop-shadow(0px 1px 2px rgba(0, 0, 0, 0.3));\n",
              "      fill: #FFFFFF;\n",
              "    }\n",
              "  </style>\n",
              "\n",
              "    <script>\n",
              "      const buttonEl =\n",
              "        document.querySelector('#df-fadbc668-df01-438a-a978-3c51a741e959 button.colab-df-convert');\n",
              "      buttonEl.style.display =\n",
              "        google.colab.kernel.accessAllowed ? 'block' : 'none';\n",
              "\n",
              "      async function convertToInteractive(key) {\n",
              "        const element = document.querySelector('#df-fadbc668-df01-438a-a978-3c51a741e959');\n",
              "        const dataTable =\n",
              "          await google.colab.kernel.invokeFunction('convertToInteractive',\n",
              "                                                    [key], {});\n",
              "        if (!dataTable) return;\n",
              "\n",
              "        const docLinkHtml = 'Like what you see? Visit the ' +\n",
              "          '<a target=\"_blank\" href=https://colab.research.google.com/notebooks/data_table.ipynb>data table notebook</a>'\n",
              "          + ' to learn more about interactive tables.';\n",
              "        element.innerHTML = '';\n",
              "        dataTable['output_type'] = 'display_data';\n",
              "        await google.colab.output.renderOutput(dataTable, element);\n",
              "        const docLink = document.createElement('div');\n",
              "        docLink.innerHTML = docLinkHtml;\n",
              "        element.appendChild(docLink);\n",
              "      }\n",
              "    </script>\n",
              "  </div>\n",
              "\n",
              "\n",
              "<div id=\"df-dda4f692-fb15-46ff-acc5-70b9dd0b50b1\">\n",
              "  <button class=\"colab-df-quickchart\" onclick=\"quickchart('df-dda4f692-fb15-46ff-acc5-70b9dd0b50b1')\"\n",
              "            title=\"Suggest charts\"\n",
              "            style=\"display:none;\">\n",
              "\n",
              "<svg xmlns=\"http://www.w3.org/2000/svg\" height=\"24px\"viewBox=\"0 0 24 24\"\n",
              "     width=\"24px\">\n",
              "    <g>\n",
              "        <path d=\"M19 3H5c-1.1 0-2 .9-2 2v14c0 1.1.9 2 2 2h14c1.1 0 2-.9 2-2V5c0-1.1-.9-2-2-2zM9 17H7v-7h2v7zm4 0h-2V7h2v10zm4 0h-2v-4h2v4z\"/>\n",
              "    </g>\n",
              "</svg>\n",
              "  </button>\n",
              "\n",
              "<style>\n",
              "  .colab-df-quickchart {\n",
              "      --bg-color: #E8F0FE;\n",
              "      --fill-color: #1967D2;\n",
              "      --hover-bg-color: #E2EBFA;\n",
              "      --hover-fill-color: #174EA6;\n",
              "      --disabled-fill-color: #AAA;\n",
              "      --disabled-bg-color: #DDD;\n",
              "  }\n",
              "\n",
              "  [theme=dark] .colab-df-quickchart {\n",
              "      --bg-color: #3B4455;\n",
              "      --fill-color: #D2E3FC;\n",
              "      --hover-bg-color: #434B5C;\n",
              "      --hover-fill-color: #FFFFFF;\n",
              "      --disabled-bg-color: #3B4455;\n",
              "      --disabled-fill-color: #666;\n",
              "  }\n",
              "\n",
              "  .colab-df-quickchart {\n",
              "    background-color: var(--bg-color);\n",
              "    border: none;\n",
              "    border-radius: 50%;\n",
              "    cursor: pointer;\n",
              "    display: none;\n",
              "    fill: var(--fill-color);\n",
              "    height: 32px;\n",
              "    padding: 0;\n",
              "    width: 32px;\n",
              "  }\n",
              "\n",
              "  .colab-df-quickchart:hover {\n",
              "    background-color: var(--hover-bg-color);\n",
              "    box-shadow: 0 1px 2px rgba(60, 64, 67, 0.3), 0 1px 3px 1px rgba(60, 64, 67, 0.15);\n",
              "    fill: var(--button-hover-fill-color);\n",
              "  }\n",
              "\n",
              "  .colab-df-quickchart-complete:disabled,\n",
              "  .colab-df-quickchart-complete:disabled:hover {\n",
              "    background-color: var(--disabled-bg-color);\n",
              "    fill: var(--disabled-fill-color);\n",
              "    box-shadow: none;\n",
              "  }\n",
              "\n",
              "  .colab-df-spinner {\n",
              "    border: 2px solid var(--fill-color);\n",
              "    border-color: transparent;\n",
              "    border-bottom-color: var(--fill-color);\n",
              "    animation:\n",
              "      spin 1s steps(1) infinite;\n",
              "  }\n",
              "\n",
              "  @keyframes spin {\n",
              "    0% {\n",
              "      border-color: transparent;\n",
              "      border-bottom-color: var(--fill-color);\n",
              "      border-left-color: var(--fill-color);\n",
              "    }\n",
              "    20% {\n",
              "      border-color: transparent;\n",
              "      border-left-color: var(--fill-color);\n",
              "      border-top-color: var(--fill-color);\n",
              "    }\n",
              "    30% {\n",
              "      border-color: transparent;\n",
              "      border-left-color: var(--fill-color);\n",
              "      border-top-color: var(--fill-color);\n",
              "      border-right-color: var(--fill-color);\n",
              "    }\n",
              "    40% {\n",
              "      border-color: transparent;\n",
              "      border-right-color: var(--fill-color);\n",
              "      border-top-color: var(--fill-color);\n",
              "    }\n",
              "    60% {\n",
              "      border-color: transparent;\n",
              "      border-right-color: var(--fill-color);\n",
              "    }\n",
              "    80% {\n",
              "      border-color: transparent;\n",
              "      border-right-color: var(--fill-color);\n",
              "      border-bottom-color: var(--fill-color);\n",
              "    }\n",
              "    90% {\n",
              "      border-color: transparent;\n",
              "      border-bottom-color: var(--fill-color);\n",
              "    }\n",
              "  }\n",
              "</style>\n",
              "\n",
              "  <script>\n",
              "    async function quickchart(key) {\n",
              "      const quickchartButtonEl =\n",
              "        document.querySelector('#' + key + ' button');\n",
              "      quickchartButtonEl.disabled = true;  // To prevent multiple clicks.\n",
              "      quickchartButtonEl.classList.add('colab-df-spinner');\n",
              "      try {\n",
              "        const charts = await google.colab.kernel.invokeFunction(\n",
              "            'suggestCharts', [key], {});\n",
              "      } catch (error) {\n",
              "        console.error('Error during call to suggestCharts:', error);\n",
              "      }\n",
              "      quickchartButtonEl.classList.remove('colab-df-spinner');\n",
              "      quickchartButtonEl.classList.add('colab-df-quickchart-complete');\n",
              "    }\n",
              "    (() => {\n",
              "      let quickchartButtonEl =\n",
              "        document.querySelector('#df-dda4f692-fb15-46ff-acc5-70b9dd0b50b1 button');\n",
              "      quickchartButtonEl.style.display =\n",
              "        google.colab.kernel.accessAllowed ? 'block' : 'none';\n",
              "    })();\n",
              "  </script>\n",
              "</div>\n",
              "    </div>\n",
              "  </div>\n"
            ],
            "application/vnd.google.colaboratory.intrinsic+json": {
              "type": "dataframe",
              "variable_name": "df",
              "summary": "{\n  \"name\": \"df\",\n  \"rows\": 50,\n  \"fields\": [\n    {\n      \"column\": \"Math\",\n      \"properties\": {\n        \"dtype\": \"number\",\n        \"std\": 28,\n        \"min\": 1,\n        \"max\": 99,\n        \"num_unique_values\": 37,\n        \"samples\": [\n          37,\n          21,\n          60\n        ],\n        \"semantic_type\": \"\",\n        \"description\": \"\"\n      }\n    },\n    {\n      \"column\": \"Science\",\n      \"properties\": {\n        \"dtype\": \"number\",\n        \"std\": 30,\n        \"min\": 1,\n        \"max\": 99,\n        \"num_unique_values\": 38,\n        \"samples\": [\n          39,\n          81,\n          13\n        ],\n        \"semantic_type\": \"\",\n        \"description\": \"\"\n      }\n    },\n    {\n      \"column\": \"English\",\n      \"properties\": {\n        \"dtype\": \"number\",\n        \"std\": 31,\n        \"min\": 0,\n        \"max\": 98,\n        \"num_unique_values\": 38,\n        \"samples\": [\n          46,\n          89,\n          28\n        ],\n        \"semantic_type\": \"\",\n        \"description\": \"\"\n      }\n    }\n  ]\n}"
            }
          },
          "metadata": {},
          "execution_count": 11
        }
      ],
      "source": [
        "df"
      ]
    },
    {
      "cell_type": "code",
      "execution_count": null,
      "metadata": {
        "colab": {
          "base_uri": "https://localhost:8080/",
          "height": 452
        },
        "id": "XXuWYsBmELVM",
        "outputId": "4bf1540d-cf84-4987-f86e-612c024c1a54"
      },
      "outputs": [
        {
          "output_type": "display_data",
          "data": {
            "text/plain": [
              "<Figure size 640x480 with 1 Axes>"
            ],
            "image/png": "[encoded data removed]"
          },
          "metadata": {}
        }
      ],
      "source": [
        "# @title Math\n",
        "\n",
        "from matplotlib import pyplot as plt\n",
        "df['Math'].plot(kind='hist', bins=20, title='Math')\n",
        "plt.gca().spines[['top', 'right',]].set_visible(False)"
      ]
    },
    {
      "cell_type": "markdown",
      "metadata": {
        "id": "f0e03thu7ftv"
      },
      "source": [
        "### 2.2 Statistical Parameters"
      ]
    },
    {
      "cell_type": "markdown",
      "metadata": {
        "id": "XdML8kpdzdgD"
      },
      "source": [
        "#### 2.2.1 Explaination"
      ]
    },
    {
      "cell_type": "markdown",
      "metadata": {
        "id": "tWUwVYF27w0A"
      },
      "source": [
        "- **Mean:** $$\\mu = \\frac{1}{n} \\sum_{i=1}^{n} x_i$$\n",
        "- **Median:** The middle value when the data is sorted.\n",
        "- **Mode:** The value that appears most frequently in the dataset.\n",
        "- **Standard Deviation:** $$\\sigma = \\sqrt{\\frac{1}{n} \\sum_{i=1}^{n} (x_i - \\mu)^2}$$\n"
      ]
    },
    {
      "cell_type": "markdown",
      "metadata": {
        "id": "Cy7dnBEZCXoO"
      },
      "source": [
        "#### 2.2.2 Code"
      ]
    },
    {
      "cell_type": "code",
      "execution_count": null,
      "metadata": {
        "colab": {
          "base_uri": "https://localhost:8080/"
        },
        "id": "3Qxc6HRo7vJ9",
        "outputId": "bdbf8814-c9f5-43c8-e3c8-1077ed59c781"
      },
      "outputs": [
        {
          "output_type": "stream",
          "name": "stdout",
          "text": [
            "Mean of Math scores: 50.84\n",
            "Median of Math scores: 55.5\n",
            "Mode of Math scores: 20\n",
            "Standard Deviation of Math scores: 28.132601467090144\n"
          ]
        }
      ],
      "source": [
        "# Mean\n",
        "mean_math = df['Math'].mean()\n",
        "print(f\"Mean of Math scores: {mean_math}\")\n",
        "\n",
        "# Median\n",
        "median_math = df['Math'].median()\n",
        "print(f\"Median of Math scores: {median_math}\")\n",
        "\n",
        "# Mode\n",
        "mode_math = df['Math'].mode()[0]\n",
        "print(f\"Mode of Math scores: {mode_math}\")\n",
        "\n",
        "# Standard Deviation\n",
        "std_math = df['Math'].std()\n",
        "print(f\"Standard Deviation of Math scores: {std_math}\")"
      ]
    },
    {
      "cell_type": "code",
      "execution_count": null,
      "metadata": {
        "colab": {
          "base_uri": "https://localhost:8080/"
        },
        "id": "liMOOR2iA4zB",
        "outputId": "0010d738-a63e-474d-bbfe-7851fcc76d35"
      },
      "outputs": [
        {
          "output_type": "stream",
          "name": "stdout",
          "text": [
            "Mean of Math scores: 50.84\n",
            "Median of Math scores: 55.5\n",
            "Mode of Math scores: 20\n",
            "Standard Deviation of Math scores: 27.849854577717277\n"
          ]
        }
      ],
      "source": [
        "# Convert DataFrame column to NumPy array\n",
        "math_scores = df['Math'].to_numpy()\n",
        "\n",
        "# Mean\n",
        "mean_math = np.mean(math_scores)\n",
        "print(f\"Mean of Math scores: {mean_math}\")\n",
        "\n",
        "# Median\n",
        "median_math = np.median(math_scores)\n",
        "print(f\"Median of Math scores: {median_math}\")\n",
        "\n",
        "# Mode using SciPy\n",
        "mode_math = sp.stats.mode(math_scores)[0]\n",
        "print(f\"Mode of Math scores: {mode_math}\")\n",
        "\n",
        "# Standard Deviation\n",
        "std_math = np.std(math_scores)\n",
        "print(f\"Standard Deviation of Math scores: {std_math}\")"
      ]
    },
    {
      "cell_type": "markdown",
      "metadata": {
        "id": "D5Ytq5gcCh_a"
      },
      "source": [
        "#### 2.2.3 Visualization"
      ]
    },
    {
      "cell_type": "code",
      "execution_count": null,
      "metadata": {
        "colab": {
          "base_uri": "https://localhost:8080/",
          "height": 927
        },
        "id": "3PE3GxlUAcE7",
        "outputId": "5cc0e410-789d-4050-a150-87d88a290b17"
      },
      "outputs": [
        {
          "output_type": "display_data",
          "data": {
            "text/plain": [
              "<Figure size 640x480 with 1 Axes>"
            ],
            "image/png": "[encoded data removed]"
          },
          "metadata": {}
        },
        {
          "output_type": "display_data",
          "data": {
            "text/plain": [
              "<Figure size 640x480 with 1 Axes>"
            ],
            "image/png": "[encoded data removed]"
          },
          "metadata": {}
        }
      ],
      "source": [
        "# Histogram for Math scores\n",
        "sns.histplot(df['Math'], bins=10, kde=True)\n",
        "plt.title('Histogram of Math Scores')\n",
        "plt.xlabel('Scores')\n",
        "plt.ylabel('Frequency')\n",
        "plt.show()\n",
        "\n",
        "# Boxplot for Math scores\n",
        "sns.boxplot(data=df, x='Math')\n",
        "plt.title('Boxplot of Math Scores')\n",
        "plt.ylabel('Scores')\n",
        "plt.show()"
      ]
    },
    {
      "cell_type": "markdown",
      "metadata": {
        "id": "oxT8te4K1oar"
      },
      "source": [
        "In the context of histograms, KDE stands for Kernel Density Estimation. It's a non-parametric way to estimate the probability density function (PDF) of a random variable. While a histogram divides the data into bins and counts the frequency of data points in each bin, KDE provides a smooth estimate of the density function by summing up the kernel functions centered at each data point.\n",
        "\n",
        "Key Points about KDE in Histograms:\n",
        "Smooth Density Curve: Unlike histograms that can appear jagged depending on the bin width, KDE produces a smooth curve that can give a better visual representation of the data distribution.\n",
        "\n",
        "Kernel Functions: KDE uses kernel functions to estimate the density. A kernel is a mathematical function that is centered at each data point and summed to create the smooth density curve. Common kernels include Gaussian (normal), Epanechnikov, and uniform.\n",
        "\n",
        "Bandwidth Selection: The smoothness of the KDE curve depends on the bandwidth parameter. A smaller bandwidth leads to a curve that follows the data closely but can be noisy (overfitting), while a larger bandwidth produces a smoother curve but may miss important features (underfitting).\n",
        "\n",
        "Comparison to Histograms: KDE provides a continuous estimate of the data distribution, which can be more intuitive and easier to interpret than the discrete bins of a histogram. However, KDE can be computationally more intensive and may require careful selection of the kernel and bandwidth.\n",
        "Applications of KDE:\n",
        "Data Analysis: KDE is used to understand the underlying distribution of the data without assuming a particular parametric form.\n",
        "Visualization: It helps in visualizing the distribution of data points in a more interpretable manner compared to histograms.\n",
        "Outlier Detection: KDE can identify outliers as points that lie in the low-density regions of the estimated density function.\n",
        "By using KDE, you can obtain a clearer and more flexible understanding of your data's distribution, enhancing the insights derived from traditional histograms."
      ]
    },
    {
      "cell_type": "code",
      "execution_count": null,
      "metadata": {
        "colab": {
          "base_uri": "https://localhost:8080/"
        },
        "id": "Azro1z-m1oar",
        "outputId": "5eb7bd19-c5f2-43d4-939b-1bf0bfc0b634"
      },
      "outputs": [
        {
          "output_type": "stream",
          "name": "stdout",
          "text": [
            "Requirement already satisfied: nbformat in /usr/local/lib/python3.10/dist-packages (5.10.4)\n",
            "Requirement already satisfied: fastjsonschema>=2.15 in /usr/local/lib/python3.10/dist-packages (from nbformat) (2.20.0)\n",
            "Requirement already satisfied: jsonschema>=2.6 in /usr/local/lib/python3.10/dist-packages (from nbformat) (4.19.2)\n",
            "Requirement already satisfied: jupyter-core!=5.0.*,>=4.12 in /usr/local/lib/python3.10/dist-packages (from nbformat) (5.7.2)\n",
            "Requirement already satisfied: traitlets>=5.1 in /usr/local/lib/python3.10/dist-packages (from nbformat) (5.7.1)\n",
            "Requirement already satisfied: attrs>=22.2.0 in /usr/local/lib/python3.10/dist-packages (from jsonschema>=2.6->nbformat) (23.2.0)\n",
            "Requirement already satisfied: jsonschema-specifications>=2023.03.6 in /usr/local/lib/python3.10/dist-packages (from jsonschema>=2.6->nbformat) (2023.12.1)\n",
            "Requirement already satisfied: referencing>=0.28.4 in /usr/local/lib/python3.10/dist-packages (from jsonschema>=2.6->nbformat) (0.35.1)\n",
            "Requirement already satisfied: rpds-py>=0.7.1 in /usr/local/lib/python3.10/dist-packages (from jsonschema>=2.6->nbformat) (0.19.0)\n",
            "Requirement already satisfied: platformdirs>=2.5 in /usr/local/lib/python3.10/dist-packages (from jupyter-core!=5.0.*,>=4.12->nbformat) (4.2.2)\n"
          ]
        }
      ],
      "source": [
        "pip install nbformat --upgrade\n"
      ]
    },
    {
      "cell_type": "code",
      "execution_count": null,
      "metadata": {
        "id": "CbE4glSm1oar",
        "outputId": "69540a9b-3a1d-4b3c-c829-57b46ed3a1d1"
      },
      "outputs": [
        {
          "name": "stdout",
          "output_type": "stream",
          "text": [
            "Requirement already satisfied: jupyterlab in c:\\users\\asus\\appdata\\local\\programs\\python\\python311\\lib\\site-packages (4.2.3)\n",
            "Requirement already satisfied: async-lru>=1.0.0 in c:\\users\\asus\\appdata\\local\\programs\\python\\python311\\lib\\site-packages (from jupyterlab) (2.0.4)\n",
            "Requirement already satisfied: httpx>=0.25.0 in c:\\users\\asus\\appdata\\roaming\\python\\python311\\site-packages (from jupyterlab) (0.25.1)\n",
            "Requirement already satisfied: ipykernel>=6.5.0 in c:\\users\\asus\\appdata\\roaming\\python\\python311\\site-packages (from jupyterlab) (6.29.5)\n",
            "Requirement already satisfied: jinja2>=3.0.3 in c:\\users\\asus\\appdata\\roaming\\python\\python311\\site-packages (from jupyterlab) (3.1.2)\n",
            "Requirement already satisfied: jupyter-core in c:\\users\\asus\\appdata\\roaming\\python\\python311\\site-packages (from jupyterlab) (5.7.2)\n",
            "Requirement already satisfied: jupyter-lsp>=2.0.0 in c:\\users\\asus\\appdata\\local\\programs\\python\\python311\\lib\\site-packages (from jupyterlab) (2.2.5)\n",
            "Requirement already satisfied: jupyter-server<3,>=2.4.0 in c:\\users\\asus\\appdata\\roaming\\python\\python311\\site-packages (from jupyterlab) (2.14.1)\n",
            "Requirement already satisfied: jupyterlab-server<3,>=2.27.1 in c:\\users\\asus\\appdata\\local\\programs\\python\\python311\\lib\\site-packages (from jupyterlab) (2.27.2)\n",
            "Requirement already satisfied: notebook-shim>=0.2 in c:\\users\\asus\\appdata\\local\\programs\\python\\python311\\lib\\site-packages (from jupyterlab) (0.2.4)\n",
            "Requirement already satisfied: packaging in c:\\users\\asus\\appdata\\roaming\\python\\python311\\site-packages (from jupyterlab) (24.1)\n",
            "Requirement already satisfied: setuptools>=40.1.0 in c:\\users\\asus\\appdata\\local\\programs\\python\\python311\\lib\\site-packages (from jupyterlab) (68.1.2)\n",
            "Requirement already satisfied: tornado>=6.2.0 in c:\\users\\asus\\appdata\\roaming\\python\\python311\\site-packages (from jupyterlab) (6.3.3)\n",
            "Requirement already satisfied: traitlets in c:\\users\\asus\\appdata\\roaming\\python\\python311\\site-packages (from jupyterlab) (5.14.3)\n",
            "Requirement already satisfied: anyio in c:\\users\\asus\\appdata\\local\\programs\\python\\python311\\lib\\site-packages (from httpx>=0.25.0->jupyterlab) (4.4.0)\n",
            "Requirement already satisfied: certifi in c:\\users\\asus\\appdata\\local\\programs\\python\\python311\\lib\\site-packages (from httpx>=0.25.0->jupyterlab) (2024.7.4)\n",
            "Requirement already satisfied: httpcore in c:\\users\\asus\\appdata\\roaming\\python\\python311\\site-packages (from httpx>=0.25.0->jupyterlab) (1.0.2)\n",
            "Requirement already satisfied: idna in c:\\users\\asus\\appdata\\local\\programs\\python\\python311\\lib\\site-packages (from httpx>=0.25.0->jupyterlab) (3.7)\n",
            "Requirement already satisfied: sniffio in c:\\users\\asus\\appdata\\local\\programs\\python\\python311\\lib\\site-packages (from httpx>=0.25.0->jupyterlab) (1.3.1)\n",
            "Requirement already satisfied: comm>=0.1.1 in c:\\users\\asus\\appdata\\roaming\\python\\python311\\site-packages (from ipykernel>=6.5.0->jupyterlab) (0.2.2)\n",
            "Requirement already satisfied: debugpy>=1.6.5 in c:\\users\\asus\\appdata\\roaming\\python\\python311\\site-packages (from ipykernel>=6.5.0->jupyterlab) (1.8.2)\n",
            "Requirement already satisfied: ipython>=7.23.1 in c:\\users\\asus\\appdata\\roaming\\python\\python311\\site-packages (from ipykernel>=6.5.0->jupyterlab) (8.26.0)\n",
            "Requirement already satisfied: jupyter-client>=6.1.12 in c:\\users\\asus\\appdata\\roaming\\python\\python311\\site-packages (from ipykernel>=6.5.0->jupyterlab) (8.6.2)\n",
            "Requirement already satisfied: matplotlib-inline>=0.1 in c:\\users\\asus\\appdata\\roaming\\python\\python311\\site-packages (from ipykernel>=6.5.0->jupyterlab) (0.1.7)\n",
            "Requirement already satisfied: nest-asyncio in c:\\users\\asus\\appdata\\roaming\\python\\python311\\site-packages (from ipykernel>=6.5.0->jupyterlab) (1.6.0)\n",
            "Requirement already satisfied: psutil in c:\\users\\asus\\appdata\\roaming\\python\\python311\\site-packages (from ipykernel>=6.5.0->jupyterlab) (6.0.0)\n",
            "Requirement already satisfied: pyzmq>=24 in c:\\users\\asus\\appdata\\roaming\\python\\python311\\site-packages (from ipykernel>=6.5.0->jupyterlab) (26.0.3)\n",
            "Requirement already satisfied: MarkupSafe>=2.0 in c:\\users\\asus\\appdata\\roaming\\python\\python311\\site-packages (from jinja2>=3.0.3->jupyterlab) (2.1.3)\n",
            "Requirement already satisfied: platformdirs>=2.5 in c:\\users\\asus\\appdata\\roaming\\python\\python311\\site-packages (from jupyter-core->jupyterlab) (4.2.2)\n",
            "Requirement already satisfied: pywin32>=300 in c:\\users\\asus\\appdata\\roaming\\python\\python311\\site-packages (from jupyter-core->jupyterlab) (306)\n",
            "Requirement already satisfied: argon2-cffi>=21.1 in c:\\users\\asus\\appdata\\local\\programs\\python\\python311\\lib\\site-packages (from jupyter-server<3,>=2.4.0->jupyterlab) (23.1.0)\n",
            "Requirement already satisfied: jupyter-events>=0.9.0 in c:\\users\\asus\\appdata\\roaming\\python\\python311\\site-packages (from jupyter-server<3,>=2.4.0->jupyterlab) (0.10.0)\n",
            "Requirement already satisfied: jupyter-server-terminals>=0.4.4 in c:\\users\\asus\\appdata\\roaming\\python\\python311\\site-packages (from jupyter-server<3,>=2.4.0->jupyterlab) (0.5.3)\n",
            "Requirement already satisfied: nbconvert>=6.4.4 in c:\\users\\asus\\appdata\\local\\programs\\python\\python311\\lib\\site-packages (from jupyter-server<3,>=2.4.0->jupyterlab) (7.16.4)\n",
            "Requirement already satisfied: nbformat>=5.3.0 in c:\\users\\asus\\appdata\\local\\programs\\python\\python311\\lib\\site-packages (from jupyter-server<3,>=2.4.0->jupyterlab) (5.10.4)\n",
            "Requirement already satisfied: overrides>=5.0 in c:\\users\\asus\\appdata\\roaming\\python\\python311\\site-packages (from jupyter-server<3,>=2.4.0->jupyterlab) (7.7.0)\n",
            "Requirement already satisfied: prometheus-client>=0.9 in c:\\users\\asus\\appdata\\local\\programs\\python\\python311\\lib\\site-packages (from jupyter-server<3,>=2.4.0->jupyterlab) (0.20.0)\n",
            "Requirement already satisfied: pywinpty>=2.0.1 in c:\\users\\asus\\appdata\\local\\programs\\python\\python311\\lib\\site-packages (from jupyter-server<3,>=2.4.0->jupyterlab) (2.0.13)\n",
            "Requirement already satisfied: send2trash>=1.8.2 in c:\\users\\asus\\appdata\\roaming\\python\\python311\\site-packages (from jupyter-server<3,>=2.4.0->jupyterlab) (1.8.3)\n",
            "Requirement already satisfied: terminado>=0.8.3 in c:\\users\\asus\\appdata\\local\\programs\\python\\python311\\lib\\site-packages (from jupyter-server<3,>=2.4.0->jupyterlab) (0.18.1)\n",
            "Requirement already satisfied: websocket-client>=1.7 in c:\\users\\asus\\appdata\\roaming\\python\\python311\\site-packages (from jupyter-server<3,>=2.4.0->jupyterlab) (1.8.0)\n",
            "Requirement already satisfied: babel>=2.10 in c:\\users\\asus\\appdata\\local\\programs\\python\\python311\\lib\\site-packages (from jupyterlab-server<3,>=2.27.1->jupyterlab) (2.15.0)\n",
            "Requirement already satisfied: json5>=0.9.0 in c:\\users\\asus\\appdata\\local\\programs\\python\\python311\\lib\\site-packages (from jupyterlab-server<3,>=2.27.1->jupyterlab) (0.9.25)\n",
            "Requirement already satisfied: jsonschema>=4.18.0 in c:\\users\\asus\\appdata\\roaming\\python\\python311\\site-packages (from jupyterlab-server<3,>=2.27.1->jupyterlab) (4.20.0)\n",
            "Requirement already satisfied: requests>=2.31 in c:\\users\\asus\\appdata\\local\\programs\\python\\python311\\lib\\site-packages (from jupyterlab-server<3,>=2.27.1->jupyterlab) (2.32.3)\n",
            "Requirement already satisfied: argon2-cffi-bindings in c:\\users\\asus\\appdata\\local\\programs\\python\\python311\\lib\\site-packages (from argon2-cffi>=21.1->jupyter-server<3,>=2.4.0->jupyterlab) (21.2.0)\n",
            "Requirement already satisfied: decorator in c:\\users\\asus\\appdata\\roaming\\python\\python311\\site-packages (from ipython>=7.23.1->ipykernel>=6.5.0->jupyterlab) (5.1.1)\n",
            "Requirement already satisfied: jedi>=0.16 in c:\\users\\asus\\appdata\\roaming\\python\\python311\\site-packages (from ipython>=7.23.1->ipykernel>=6.5.0->jupyterlab) (0.19.1)\n",
            "Requirement already satisfied: prompt-toolkit<3.1.0,>=3.0.41 in c:\\users\\asus\\appdata\\roaming\\python\\python311\\site-packages (from ipython>=7.23.1->ipykernel>=6.5.0->jupyterlab) (3.0.47)\n",
            "Requirement already satisfied: pygments>=2.4.0 in c:\\users\\asus\\appdata\\roaming\\python\\python311\\site-packages (from ipython>=7.23.1->ipykernel>=6.5.0->jupyterlab) (2.18.0)\n",
            "Requirement already satisfied: stack-data in c:\\users\\asus\\appdata\\roaming\\python\\python311\\site-packages (from ipython>=7.23.1->ipykernel>=6.5.0->jupyterlab) (0.6.3)\n",
            "Requirement already satisfied: typing-extensions>=4.6 in c:\\users\\asus\\appdata\\roaming\\python\\python311\\site-packages (from ipython>=7.23.1->ipykernel>=6.5.0->jupyterlab) (4.12.2)\n",
            "Requirement already satisfied: colorama in c:\\users\\asus\\appdata\\roaming\\python\\python311\\site-packages (from ipython>=7.23.1->ipykernel>=6.5.0->jupyterlab) (0.4.6)\n",
            "Requirement already satisfied: attrs>=22.2.0 in c:\\users\\asus\\appdata\\roaming\\python\\python311\\site-packages (from jsonschema>=4.18.0->jupyterlab-server<3,>=2.27.1->jupyterlab) (23.1.0)\n",
            "Requirement already satisfied: jsonschema-specifications>=2023.03.6 in c:\\users\\asus\\appdata\\roaming\\python\\python311\\site-packages (from jsonschema>=4.18.0->jupyterlab-server<3,>=2.27.1->jupyterlab) (2023.11.1)\n",
            "Requirement already satisfied: referencing>=0.28.4 in c:\\users\\asus\\appdata\\roaming\\python\\python311\\site-packages (from jsonschema>=4.18.0->jupyterlab-server<3,>=2.27.1->jupyterlab) (0.31.0)\n",
            "Requirement already satisfied: rpds-py>=0.7.1 in c:\\users\\asus\\appdata\\roaming\\python\\python311\\site-packages (from jsonschema>=4.18.0->jupyterlab-server<3,>=2.27.1->jupyterlab) (0.13.0)\n",
            "Requirement already satisfied: python-dateutil>=2.8.2 in c:\\users\\asus\\appdata\\roaming\\python\\python311\\site-packages (from jupyter-client>=6.1.12->ipykernel>=6.5.0->jupyterlab) (2.8.2)\n",
            "Requirement already satisfied: python-json-logger>=2.0.4 in c:\\users\\asus\\appdata\\local\\programs\\python\\python311\\lib\\site-packages (from jupyter-events>=0.9.0->jupyter-server<3,>=2.4.0->jupyterlab) (2.0.7)\n",
            "Requirement already satisfied: pyyaml>=5.3 in c:\\users\\asus\\appdata\\roaming\\python\\python311\\site-packages (from jupyter-events>=0.9.0->jupyter-server<3,>=2.4.0->jupyterlab) (6.0.1)\n",
            "Requirement already satisfied: rfc3339-validator in c:\\users\\asus\\appdata\\local\\programs\\python\\python311\\lib\\site-packages (from jupyter-events>=0.9.0->jupyter-server<3,>=2.4.0->jupyterlab) (0.1.4)\n",
            "Requirement already satisfied: rfc3986-validator>=0.1.1 in c:\\users\\asus\\appdata\\local\\programs\\python\\python311\\lib\\site-packages (from jupyter-events>=0.9.0->jupyter-server<3,>=2.4.0->jupyterlab) (0.1.1)\n",
            "Requirement already satisfied: beautifulsoup4 in c:\\users\\asus\\appdata\\local\\programs\\python\\python311\\lib\\site-packages (from nbconvert>=6.4.4->jupyter-server<3,>=2.4.0->jupyterlab) (4.12.3)\n",
            "Requirement already satisfied: bleach!=5.0.0 in c:\\users\\asus\\appdata\\local\\programs\\python\\python311\\lib\\site-packages (from nbconvert>=6.4.4->jupyter-server<3,>=2.4.0->jupyterlab) (6.1.0)\n",
            "Requirement already satisfied: defusedxml in c:\\users\\asus\\appdata\\local\\programs\\python\\python311\\lib\\site-packages (from nbconvert>=6.4.4->jupyter-server<3,>=2.4.0->jupyterlab) (0.7.1)\n",
            "Requirement already satisfied: jupyterlab-pygments in c:\\users\\asus\\appdata\\local\\programs\\python\\python311\\lib\\site-packages (from nbconvert>=6.4.4->jupyter-server<3,>=2.4.0->jupyterlab) (0.3.0)\n",
            "Requirement already satisfied: mistune<4,>=2.0.3 in c:\\users\\asus\\appdata\\local\\programs\\python\\python311\\lib\\site-packages (from nbconvert>=6.4.4->jupyter-server<3,>=2.4.0->jupyterlab) (3.0.2)\n",
            "Requirement already satisfied: nbclient>=0.5.0 in c:\\users\\asus\\appdata\\local\\programs\\python\\python311\\lib\\site-packages (from nbconvert>=6.4.4->jupyter-server<3,>=2.4.0->jupyterlab) (0.10.0)\n",
            "Requirement already satisfied: pandocfilters>=1.4.1 in c:\\users\\asus\\appdata\\local\\programs\\python\\python311\\lib\\site-packages (from nbconvert>=6.4.4->jupyter-server<3,>=2.4.0->jupyterlab) (1.5.1)\n",
            "Requirement already satisfied: tinycss2 in c:\\users\\asus\\appdata\\local\\programs\\python\\python311\\lib\\site-packages (from nbconvert>=6.4.4->jupyter-server<3,>=2.4.0->jupyterlab) (1.3.0)\n",
            "Requirement already satisfied: fastjsonschema>=2.15 in c:\\users\\asus\\appdata\\local\\programs\\python\\python311\\lib\\site-packages (from nbformat>=5.3.0->jupyter-server<3,>=2.4.0->jupyterlab) (2.20.0)\n",
            "Requirement already satisfied: charset-normalizer<4,>=2 in c:\\users\\asus\\appdata\\local\\programs\\python\\python311\\lib\\site-packages (from requests>=2.31->jupyterlab-server<3,>=2.27.1->jupyterlab) (3.3.2)\n",
            "Requirement already satisfied: urllib3<3,>=1.21.1 in c:\\users\\asus\\appdata\\local\\programs\\python\\python311\\lib\\site-packages (from requests>=2.31->jupyterlab-server<3,>=2.27.1->jupyterlab) (1.26.19)\n",
            "Requirement already satisfied: h11<0.15,>=0.13 in c:\\users\\asus\\appdata\\roaming\\python\\python311\\site-packages (from httpcore->httpx>=0.25.0->jupyterlab) (0.14.0)\n",
            "Requirement already satisfied: six>=1.9.0 in c:\\users\\asus\\appdata\\roaming\\python\\python311\\site-packages (from bleach!=5.0.0->nbconvert>=6.4.4->jupyter-server<3,>=2.4.0->jupyterlab) (1.16.0)\n",
            "Requirement already satisfied: webencodings in c:\\users\\asus\\appdata\\local\\programs\\python\\python311\\lib\\site-packages (from bleach!=5.0.0->nbconvert>=6.4.4->jupyter-server<3,>=2.4.0->jupyterlab) (0.5.1)\n",
            "Requirement already satisfied: parso<0.9.0,>=0.8.3 in c:\\users\\asus\\appdata\\roaming\\python\\python311\\site-packages (from jedi>=0.16->ipython>=7.23.1->ipykernel>=6.5.0->jupyterlab) (0.8.4)\n",
            "Requirement already satisfied: fqdn in c:\\users\\asus\\appdata\\roaming\\python\\python311\\site-packages (from jsonschema>=4.18.0->jupyterlab-server<3,>=2.27.1->jupyterlab) (1.5.1)\n",
            "Requirement already satisfied: isoduration in c:\\users\\asus\\appdata\\roaming\\python\\python311\\site-packages (from jsonschema>=4.18.0->jupyterlab-server<3,>=2.27.1->jupyterlab) (20.11.0)\n",
            "Requirement already satisfied: jsonpointer>1.13 in c:\\users\\asus\\appdata\\local\\programs\\python\\python311\\lib\\site-packages (from jsonschema>=4.18.0->jupyterlab-server<3,>=2.27.1->jupyterlab) (3.0.0)\n",
            "Requirement already satisfied: uri-template in c:\\users\\asus\\appdata\\roaming\\python\\python311\\site-packages (from jsonschema>=4.18.0->jupyterlab-server<3,>=2.27.1->jupyterlab) (1.3.0)\n",
            "Requirement already satisfied: webcolors>=1.11 in c:\\users\\asus\\appdata\\roaming\\python\\python311\\site-packages (from jsonschema>=4.18.0->jupyterlab-server<3,>=2.27.1->jupyterlab) (24.6.0)\n",
            "Requirement already satisfied: wcwidth in c:\\users\\asus\\appdata\\roaming\\python\\python311\\site-packages (from prompt-toolkit<3.1.0,>=3.0.41->ipython>=7.23.1->ipykernel>=6.5.0->jupyterlab) (0.2.13)\n",
            "Requirement already satisfied: cffi>=1.0.1 in c:\\users\\asus\\appdata\\local\\programs\\python\\python311\\lib\\site-packages (from argon2-cffi-bindings->argon2-cffi>=21.1->jupyter-server<3,>=2.4.0->jupyterlab) (1.16.0)\n",
            "Requirement already satisfied: soupsieve>1.2 in c:\\users\\asus\\appdata\\local\\programs\\python\\python311\\lib\\site-packages (from beautifulsoup4->nbconvert>=6.4.4->jupyter-server<3,>=2.4.0->jupyterlab) (2.5)\n",
            "Requirement already satisfied: executing>=1.2.0 in c:\\users\\asus\\appdata\\roaming\\python\\python311\\site-packages (from stack-data->ipython>=7.23.1->ipykernel>=6.5.0->jupyterlab) (2.0.1)\n",
            "Requirement already satisfied: asttokens>=2.1.0 in c:\\users\\asus\\appdata\\roaming\\python\\python311\\site-packages (from stack-data->ipython>=7.23.1->ipykernel>=6.5.0->jupyterlab) (2.4.1)\n",
            "Requirement already satisfied: pure-eval in c:\\users\\asus\\appdata\\roaming\\python\\python311\\site-packages (from stack-data->ipython>=7.23.1->ipykernel>=6.5.0->jupyterlab) (0.2.2)\n",
            "Requirement already satisfied: pycparser in c:\\users\\asus\\appdata\\local\\programs\\python\\python311\\lib\\site-packages (from cffi>=1.0.1->argon2-cffi-bindings->argon2-cffi>=21.1->jupyter-server<3,>=2.4.0->jupyterlab) (2.22)\n",
            "Requirement already satisfied: arrow>=0.15.0 in c:\\users\\asus\\appdata\\local\\programs\\python\\python311\\lib\\site-packages (from isoduration->jsonschema>=4.18.0->jupyterlab-server<3,>=2.27.1->jupyterlab) (1.3.0)\n",
            "Requirement already satisfied: types-python-dateutil>=2.8.10 in c:\\users\\asus\\appdata\\local\\programs\\python\\python311\\lib\\site-packages (from arrow>=0.15.0->isoduration->jsonschema>=4.18.0->jupyterlab-server<3,>=2.27.1->jupyterlab) (2.9.0.20240316)\n",
            "Note: you may need to restart the kernel to use updated packages.\n"
          ]
        },
        {
          "name": "stderr",
          "output_type": "stream",
          "text": [
            "\n",
            "[notice] A new release of pip is available: 23.2.1 -> 24.1.2\n",
            "[notice] To update, run: python.exe -m pip install --upgrade pip\n"
          ]
        }
      ],
      "source": [
        "pip install jupyterlab --upgrade\n"
      ]
    },
    {
      "cell_type": "code",
      "execution_count": null,
      "metadata": {
        "id": "aTMHig1cC1b8"
      },
      "outputs": [],
      "source": [
        "fig = px.histogram(df, x='Math', nbins=10, title='Interactive Histogram of Math Scores', marginal=\"box\", histnorm='probability')\n",
        "# fig.show()\n",
        "fig.write_html(\"histogram.html\")\n"
      ]
    },
    {
      "cell_type": "markdown",
      "metadata": {
        "id": "O4KRv95QCAgC"
      },
      "source": [
        "FM 1 : Calculate Statistical Parameters For Other Features And Write Explain About That Feature 🧑"
      ]
    },
    {
      "cell_type": "code",
      "execution_count": null,
      "metadata": {
        "id": "eRc0Dtq8CS0l",
        "colab": {
          "base_uri": "https://localhost:8080/"
        },
        "outputId": "74e95364-bfb7-4625-95d8-0e991ec228bf"
      },
      "outputs": [
        {
          "output_type": "stream",
          "name": "stdout",
          "text": [
            "Mean of Science scores: 50.24\n",
            "Median of Science scores: 52.5\n",
            "Mode of Science scores: 3\n",
            "Standard Deviation of Science scores: 30.94864739387174\n"
          ]
        }
      ],
      "source": [
        "# Mean\n",
        "mean_Science = df['Science'].mean()\n",
        "print(f\"Mean of Science scores: {mean_Science}\")\n",
        "\n",
        "# Median\n",
        "median_Science = df['Science'].median()\n",
        "print(f\"Median of Science scores: {median_Science}\")\n",
        "\n",
        "# Mode\n",
        "mode_Science = df['Science'].mode()[0]\n",
        "print(f\"Mode of Science scores: {mode_Science}\")\n",
        "\n",
        "# Standard Deviation\n",
        "std_Science = df['Science'].std()\n",
        "print(f\"Standard Deviation of Science scores: {std_Science}\")"
      ]
    },
    {
      "cell_type": "code",
      "execution_count": null,
      "metadata": {
        "colab": {
          "base_uri": "https://localhost:8080/"
        },
        "id": "hNVO9s4e1oas",
        "outputId": "5cd92b33-847d-4a58-df02-f8aa3dd4f102"
      },
      "outputs": [
        {
          "output_type": "stream",
          "name": "stdout",
          "text": [
            "Mean of English scores: 45.2\n",
            "Median of English scores: 40.0\n",
            "Mode of English scores: 34\n",
            "Standard Deviation of English scores: 31.246877395009818\n"
          ]
        }
      ],
      "source": [
        "# Mean\n",
        "mean_English = df['English'].mean()\n",
        "print(f\"Mean of English scores: {mean_English}\")\n",
        "\n",
        "# Median\n",
        "median_English = df['English'].median()\n",
        "print(f\"Median of English scores: {median_English}\")\n",
        "\n",
        "# Mode\n",
        "mode_English = df['English'].mode()[0]\n",
        "print(f\"Mode of English scores: {mode_English}\")\n",
        "\n",
        "# Standard Deviation\n",
        "std_English = df['English'].std()\n",
        "print(f\"Standard Deviation of English scores: {std_English}\")"
      ]
    },
    {
      "cell_type": "markdown",
      "metadata": {
        "id": "HYbkpDC2Byrw"
      },
      "source": [
        "FM 2: why numpy std and pandas std is difference?"
      ]
    },
    {
      "cell_type": "markdown",
      "metadata": {
        "id": "PeNSKt48Bz3n"
      },
      "source": [
        "The difference between the standard deviation calculations in NumPy and pandas primarily arises from their default behavior in how they handle degrees of freedom (ddof) and the treatment of missing data. Here are the key differences:\n",
        "\n",
        "1. Degrees of Freedom (ddof)\n",
        "NumPy: By default, NumPy calculates the standard deviation with ddof=0, which means it computes the population standard deviation. This is the square root of the average of the squared deviations from the mean.\n",
        "pandas: In contrast, pandas calculates the standard deviation with ddof=1 by default, which means it computes the sample standard deviation. This divides by (N-1) instead of N, making it an unbiased estimator for the sample's standard deviation.\n",
        "2. Handling of Missing Data\n",
        "NumPy: By default, NumPy functions will return NaN if the array contains any NaN values unless explicitly handled.\n",
        "pandas: Pandas functions automatically ignore NaN values when calculating the standard deviation, which can lead to differences if the data contains missing values.\n"
      ]
    },
    {
      "cell_type": "markdown",
      "metadata": {
        "id": "xh7hyka9Eswd"
      },
      "source": [
        "### 2.3 Standard Distribution"
      ]
    },
    {
      "cell_type": "markdown",
      "metadata": {
        "id": "6eti_y6SzonR"
      },
      "source": [
        "#### 2.3.1 Explaination"
      ]
    },
    {
      "cell_type": "markdown",
      "metadata": {
        "id": "kVCCwMDVE7QS"
      },
      "source": [
        "**Formulation:**\n",
        "- **Normal Distribution:** $$f(x) = \\frac{1}{\\sqrt{2\\pi\\sigma^2}} e^{-\\frac{(x - \\mu)^2}{2\\sigma^2}}$$"
      ]
    },
    {
      "cell_type": "markdown",
      "metadata": {
        "id": "pcf7KxLSFmDg"
      },
      "source": [
        "#### 2.3.2 Code"
      ]
    },
    {
      "cell_type": "code",
      "execution_count": null,
      "metadata": {
        "id": "BE4sX9mYBuLo"
      },
      "outputs": [],
      "source": [
        "normal_data = np.random.normal(loc=0, scale=1, size=1000)"
      ]
    },
    {
      "cell_type": "code",
      "execution_count": null,
      "metadata": {
        "colab": {
          "base_uri": "https://localhost:8080/"
        },
        "id": "pk_2T38KFShr",
        "outputId": "9d14b6d3-2bbc-459f-9f18-785be89fa099"
      },
      "outputs": [
        {
          "output_type": "stream",
          "name": "stdout",
          "text": [
            "Mean of normal distribution: 0.027572704089642613\n",
            "Standard Deviation of normal distribution: 1.0027022851308038\n"
          ]
        }
      ],
      "source": [
        "mean_normal = np.mean(normal_data)\n",
        "std_normal = np.std(normal_data)\n",
        "print(f\"Mean of normal distribution: {mean_normal}\")\n",
        "print(f\"Standard Deviation of normal distribution: {std_normal}\")"
      ]
    },
    {
      "cell_type": "markdown",
      "metadata": {
        "id": "3mHdmuNaFqE-"
      },
      "source": [
        "#### 2.3.3 Visualization"
      ]
    },
    {
      "cell_type": "code",
      "execution_count": null,
      "metadata": {
        "colab": {
          "base_uri": "https://localhost:8080/"
        },
        "id": "IWT33O1EFV8d",
        "outputId": "3456805b-cafc-4e31-92fd-d1c2079ffa0a"
      },
      "outputs": [
        {
          "output_type": "display_data",
          "data": {
            "text/plain": [
              "<Figure size 640x480 with 1 Axes>"
            ],
            "image/png": "[encoded data removed]"
          },
          "metadata": {}
        }
      ],
      "source": [
        "sns.histplot(normal_data, bins=30, kde=True)\n",
        "plt.title('Histogram of Normal Distribution')\n",
        "plt.xlabel('Value')\n",
        "plt.ylabel('Frequency')\n",
        "plt.show()"
      ]
    },
    {
      "cell_type": "markdown",
      "metadata": {
        "id": "S51su6c7FuXU"
      },
      "source": [
        "### 2.4 Percentile, Quantiles, Quartiles, Boxplots, and Histograms"
      ]
    },
    {
      "cell_type": "markdown",
      "metadata": {
        "id": "lexwWjfYR6R2"
      },
      "source": [
        "#### 2.4.1 Explaination"
      ]
    },
    {
      "cell_type": "markdown",
      "metadata": {
        "id": "anJFUJJzGWf8"
      },
      "source": []
    },
    {
      "cell_type": "markdown",
      "metadata": {
        "id": "CGrnpdaqR0kW"
      },
      "source": [
        "#### 2.4.2 Code"
      ]
    },
    {
      "cell_type": "code",
      "execution_count": null,
      "metadata": {
        "colab": {
          "base_uri": "https://localhost:8080/"
        },
        "id": "Fs7r_AtDGWF9",
        "outputId": "0e5e579f-3f06-46e8-a3b1-27dfb4e16e97"
      },
      "outputs": [
        {
          "output_type": "stream",
          "name": "stdout",
          "text": [
            "Quantiles of Math scores:\n",
            "0.05     2.0\n",
            "0.10    13.2\n",
            "0.25    24.5\n",
            "0.50    55.5\n",
            "0.75    73.5\n",
            "Name: Math, dtype: float64\n"
          ]
        }
      ],
      "source": [
        "quantiles = df['Math'].quantile([0.05,0.1,0.25, 0.5, 0.75])\n",
        "print(f\"Quantiles of Math scores:\\n{quantiles}\")"
      ]
    },
    {
      "cell_type": "markdown",
      "metadata": {
        "id": "sKuBESCOSpy0"
      },
      "source": [
        "#### 2.4.3 Visualization"
      ]
    },
    {
      "cell_type": "code",
      "execution_count": null,
      "metadata": {
        "colab": {
          "base_uri": "https://localhost:8080/"
        },
        "id": "xKr8fMaBRsxG",
        "outputId": "5d8b5a1f-8fd1-4324-919c-c0d8f97382c8"
      },
      "outputs": [
        {
          "output_type": "display_data",
          "data": {
            "text/plain": [
              "<Figure size 640x480 with 1 Axes>"
            ],
            "image/png": "[encoded data removed]"
          },
          "metadata": {}
        }
      ],
      "source": [
        "sns.boxplot(data=df, x='Math')\n",
        "plt.title('Boxplot of Math Scores')\n",
        "plt.ylabel('Scores')\n",
        "plt.show()"
      ]
    },
    {
      "cell_type": "code",
      "execution_count": null,
      "metadata": {
        "colab": {
          "base_uri": "https://localhost:8080/"
        },
        "id": "4IXreL8ISzkN",
        "outputId": "fcea9ff7-28bb-4ca0-db90-f62a9677a874"
      },
      "outputs": [
        {
          "output_type": "display_data",
          "data": {
            "text/plain": [
              "<Figure size 640x480 with 1 Axes>"
            ],
            "image/png": "[encoded data removed]"
          },
          "metadata": {}
        }
      ],
      "source": [
        "sns.histplot(df['Math'], bins=10, kde=True)\n",
        "plt.title('Histogram of Math Scores')\n",
        "plt.xlabel('Scores')\n",
        "plt.ylabel('Frequency')\n",
        "plt.show()"
      ]
    },
    {
      "cell_type": "code",
      "execution_count": null,
      "metadata": {
        "colab": {
          "base_uri": "https://localhost:8080/"
        },
        "id": "-cZOt8QgS6IV",
        "outputId": "7de4a8b6-cd22-45a8-848c-d2f8ed44eb3b"
      },
      "outputs": [
        {
          "output_type": "display_data",
          "data": {
            "text/html": [
              "<html>\n",
              "<head><meta charset=\"utf-8\" /></head>\n",
              "<body>\n",
              "    <div>            <script src=\"https://cdnjs.cloudflare.com/ajax/libs/mathjax/2.7.5/MathJax.js?config=TeX-AMS-MML_SVG\"></script><script type=\"text/javascript\">if (window.MathJax && window.MathJax.Hub && window.MathJax.Hub.Config) {window.MathJax.Hub.Config({SVG: {font: \"STIX-Web\"}});}</script>                <script type=\"text/javascript\">window.PlotlyConfig = {MathJaxConfig: 'local'};</script>\n",
              "        <script charset=\"utf-8\" src=\"https://cdn.plot.ly/plotly-2.24.1.min.js\"></script>                <div id=\"089d2e78-414b-438b-949a-ff1d6e683f02\" class=\"plotly-graph-div\" style=\"height:525px; width:100%;\"></div>            <script type=\"text/javascript\">                                    window.PLOTLYENV=window.PLOTLYENV || {};                                    if (document.getElementById(\"089d2e78-414b-438b-949a-ff1d6e683f02\")) {                    Plotly.newPlot(                        \"089d2e78-414b-438b-949a-ff1d6e683f02\",                        [{\"alignmentgroup\":\"True\",\"hovertemplate\":\"variable=%{x}\\u003cbr\\u003evalue=%{y}\\u003cextra\\u003e\\u003c\\u002fextra\\u003e\",\"legendgroup\":\"\",\"marker\":{\"color\":\"#636efa\"},\"name\":\"\",\"notched\":false,\"offsetgroup\":\"\",\"orientation\":\"v\",\"showlegend\":false,\"x\":[\"Math\",\"Math\",\"Math\",\"Math\",\"Math\",\"Math\",\"Math\",\"Math\",\"Math\",\"Math\",\"Math\",\"Math\",\"Math\",\"Math\",\"Math\",\"Math\",\"Math\",\"Math\",\"Math\",\"Math\",\"Math\",\"Math\",\"Math\",\"Math\",\"Math\",\"Math\",\"Math\",\"Math\",\"Math\",\"Math\",\"Math\",\"Math\",\"Math\",\"Math\",\"Math\",\"Math\",\"Math\",\"Math\",\"Math\",\"Math\",\"Math\",\"Math\",\"Math\",\"Math\",\"Math\",\"Math\",\"Math\",\"Math\",\"Math\",\"Math\",\"Science\",\"Science\",\"Science\",\"Science\",\"Science\",\"Science\",\"Science\",\"Science\",\"Science\",\"Science\",\"Science\",\"Science\",\"Science\",\"Science\",\"Science\",\"Science\",\"Science\",\"Science\",\"Science\",\"Science\",\"Science\",\"Science\",\"Science\",\"Science\",\"Science\",\"Science\",\"Science\",\"Science\",\"Science\",\"Science\",\"Science\",\"Science\",\"Science\",\"Science\",\"Science\",\"Science\",\"Science\",\"Science\",\"Science\",\"Science\",\"Science\",\"Science\",\"Science\",\"Science\",\"Science\",\"Science\",\"Science\",\"Science\",\"Science\",\"Science\",\"English\",\"English\",\"English\",\"English\",\"English\",\"English\",\"English\",\"English\",\"English\",\"English\",\"English\",\"English\",\"English\",\"English\",\"English\",\"English\",\"English\",\"English\",\"English\",\"English\",\"English\",\"English\",\"English\",\"English\",\"English\",\"English\",\"English\",\"English\",\"English\",\"English\",\"English\",\"English\",\"English\",\"English\",\"English\",\"English\",\"English\",\"English\",\"English\",\"English\",\"English\",\"English\",\"English\",\"English\",\"English\",\"English\",\"English\",\"English\",\"English\",\"English\"],\"x0\":\" \",\"xaxis\":\"x\",\"y\":[51,92,14,71,60,20,82,86,74,74,87,99,23,2,21,52,1,87,29,37,1,63,59,20,32,75,57,21,88,48,90,58,41,91,59,79,14,61,61,46,61,50,54,63,2,50,6,20,72,38,17,3,88,59,13,8,89,52,1,83,91,59,70,43,7,46,34,77,80,35,49,3,1,5,53,3,53,92,62,17,89,43,33,73,61,99,13,94,47,14,71,77,86,61,39,84,79,81,52,23,25,88,59,40,28,14,44,64,88,70,8,87,0,7,87,62,10,80,7,34,34,32,4,40,27,6,72,71,11,33,32,47,22,61,87,36,98,43,85,90,34,64,98,46,77,2,0,4,89,13],\"y0\":\" \",\"yaxis\":\"y\",\"type\":\"box\"}],                        {\"template\":{\"data\":{\"histogram2dcontour\":[{\"type\":\"histogram2dcontour\",\"colorbar\":{\"outlinewidth\":0,\"ticks\":\"\"},\"colorscale\":[[0.0,\"#0d0887\"],[0.1111111111111111,\"#46039f\"],[0.2222222222222222,\"#7201a8\"],[0.3333333333333333,\"#9c179e\"],[0.4444444444444444,\"#bd3786\"],[0.5555555555555556,\"#d8576b\"],[0.6666666666666666,\"#ed7953\"],[0.7777777777777778,\"#fb9f3a\"],[0.8888888888888888,\"#fdca26\"],[1.0,\"#f0f921\"]]}],\"choropleth\":[{\"type\":\"choropleth\",\"colorbar\":{\"outlinewidth\":0,\"ticks\":\"\"}}],\"histogram2d\":[{\"type\":\"histogram2d\",\"colorbar\":{\"outlinewidth\":0,\"ticks\":\"\"},\"colorscale\":[[0.0,\"#0d0887\"],[0.1111111111111111,\"#46039f\"],[0.2222222222222222,\"#7201a8\"],[0.3333333333333333,\"#9c179e\"],[0.4444444444444444,\"#bd3786\"],[0.5555555555555556,\"#d8576b\"],[0.6666666666666666,\"#ed7953\"],[0.7777777777777778,\"#fb9f3a\"],[0.8888888888888888,\"#fdca26\"],[1.0,\"#f0f921\"]]}],\"heatmap\":[{\"type\":\"heatmap\",\"colorbar\":{\"outlinewidth\":0,\"ticks\":\"\"},\"colorscale\":[[0.0,\"#0d0887\"],[0.1111111111111111,\"#46039f\"],[0.2222222222222222,\"#7201a8\"],[0.3333333333333333,\"#9c179e\"],[0.4444444444444444,\"#bd3786\"],[0.5555555555555556,\"#d8576b\"],[0.6666666666666666,\"#ed7953\"],[0.7777777777777778,\"#fb9f3a\"],[0.8888888888888888,\"#fdca26\"],[1.0,\"#f0f921\"]]}],\"heatmapgl\":[{\"type\":\"heatmapgl\",\"colorbar\":{\"outlinewidth\":0,\"ticks\":\"\"},\"colorscale\":[[0.0,\"#0d0887\"],[0.1111111111111111,\"#46039f\"],[0.2222222222222222,\"#7201a8\"],[0.3333333333333333,\"#9c179e\"],[0.4444444444444444,\"#bd3786\"],[0.5555555555555556,\"#d8576b\"],[0.6666666666666666,\"#ed7953\"],[0.7777777777777778,\"#fb9f3a\"],[0.8888888888888888,\"#fdca26\"],[1.0,\"#f0f921\"]]}],\"contourcarpet\":[{\"type\":\"contourcarpet\",\"colorbar\":{\"outlinewidth\":0,\"ticks\":\"\"}}],\"contour\":[{\"type\":\"contour\",\"colorbar\":{\"outlinewidth\":0,\"ticks\":\"\"},\"colorscale\":[[0.0,\"#0d0887\"],[0.1111111111111111,\"#46039f\"],[0.2222222222222222,\"#7201a8\"],[0.3333333333333333,\"#9c179e\"],[0.4444444444444444,\"#bd3786\"],[0.5555555555555556,\"#d8576b\"],[0.6666666666666666,\"#ed7953\"],[0.7777777777777778,\"#fb9f3a\"],[0.8888888888888888,\"#fdca26\"],[1.0,\"#f0f921\"]]}],\"surface\":[{\"type\":\"surface\",\"colorbar\":{\"outlinewidth\":0,\"ticks\":\"\"},\"colorscale\":[[0.0,\"#0d0887\"],[0.1111111111111111,\"#46039f\"],[0.2222222222222222,\"#7201a8\"],[0.3333333333333333,\"#9c179e\"],[0.4444444444444444,\"#bd3786\"],[0.5555555555555556,\"#d8576b\"],[0.6666666666666666,\"#ed7953\"],[0.7777777777777778,\"#fb9f3a\"],[0.8888888888888888,\"#fdca26\"],[1.0,\"#f0f921\"]]}],\"mesh3d\":[{\"type\":\"mesh3d\",\"colorbar\":{\"outlinewidth\":0,\"ticks\":\"\"}}],\"scatter\":[{\"fillpattern\":{\"fillmode\":\"overlay\",\"size\":10,\"solidity\":0.2},\"type\":\"scatter\"}],\"parcoords\":[{\"type\":\"parcoords\",\"line\":{\"colorbar\":{\"outlinewidth\":0,\"ticks\":\"\"}}}],\"scatterpolargl\":[{\"type\":\"scatterpolargl\",\"marker\":{\"colorbar\":{\"outlinewidth\":0,\"ticks\":\"\"}}}],\"bar\":[{\"error_x\":{\"color\":\"#2a3f5f\"},\"error_y\":{\"color\":\"#2a3f5f\"},\"marker\":{\"line\":{\"color\":\"#E5ECF6\",\"width\":0.5},\"pattern\":{\"fillmode\":\"overlay\",\"size\":10,\"solidity\":0.2}},\"type\":\"bar\"}],\"scattergeo\":[{\"type\":\"scattergeo\",\"marker\":{\"colorbar\":{\"outlinewidth\":0,\"ticks\":\"\"}}}],\"scatterpolar\":[{\"type\":\"scatterpolar\",\"marker\":{\"colorbar\":{\"outlinewidth\":0,\"ticks\":\"\"}}}],\"histogram\":[{\"marker\":{\"pattern\":{\"fillmode\":\"overlay\",\"size\":10,\"solidity\":0.2}},\"type\":\"histogram\"}],\"scattergl\":[{\"type\":\"scattergl\",\"marker\":{\"colorbar\":{\"outlinewidth\":0,\"ticks\":\"\"}}}],\"scatter3d\":[{\"type\":\"scatter3d\",\"line\":{\"colorbar\":{\"outlinewidth\":0,\"ticks\":\"\"}},\"marker\":{\"colorbar\":{\"outlinewidth\":0,\"ticks\":\"\"}}}],\"scattermapbox\":[{\"type\":\"scattermapbox\",\"marker\":{\"colorbar\":{\"outlinewidth\":0,\"ticks\":\"\"}}}],\"scatterternary\":[{\"type\":\"scatterternary\",\"marker\":{\"colorbar\":{\"outlinewidth\":0,\"ticks\":\"\"}}}],\"scattercarpet\":[{\"type\":\"scattercarpet\",\"marker\":{\"colorbar\":{\"outlinewidth\":0,\"ticks\":\"\"}}}],\"carpet\":[{\"aaxis\":{\"endlinecolor\":\"#2a3f5f\",\"gridcolor\":\"white\",\"linecolor\":\"white\",\"minorgridcolor\":\"white\",\"startlinecolor\":\"#2a3f5f\"},\"baxis\":{\"endlinecolor\":\"#2a3f5f\",\"gridcolor\":\"white\",\"linecolor\":\"white\",\"minorgridcolor\":\"white\",\"startlinecolor\":\"#2a3f5f\"},\"type\":\"carpet\"}],\"table\":[{\"cells\":{\"fill\":{\"color\":\"#EBF0F8\"},\"line\":{\"color\":\"white\"}},\"header\":{\"fill\":{\"color\":\"#C8D4E3\"},\"line\":{\"color\":\"white\"}},\"type\":\"table\"}],\"barpolar\":[{\"marker\":{\"line\":{\"color\":\"#E5ECF6\",\"width\":0.5},\"pattern\":{\"fillmode\":\"overlay\",\"size\":10,\"solidity\":0.2}},\"type\":\"barpolar\"}],\"pie\":[{\"automargin\":true,\"type\":\"pie\"}]},\"layout\":{\"autotypenumbers\":\"strict\",\"colorway\":[\"#636efa\",\"#EF553B\",\"#00cc96\",\"#ab63fa\",\"#FFA15A\",\"#19d3f3\",\"#FF6692\",\"#B6E880\",\"#FF97FF\",\"#FECB52\"],\"font\":{\"color\":\"#2a3f5f\"},\"hovermode\":\"closest\",\"hoverlabel\":{\"align\":\"left\"},\"paper_bgcolor\":\"white\",\"plot_bgcolor\":\"#E5ECF6\",\"polar\":{\"bgcolor\":\"#E5ECF6\",\"angularaxis\":{\"gridcolor\":\"white\",\"linecolor\":\"white\",\"ticks\":\"\"},\"radialaxis\":{\"gridcolor\":\"white\",\"linecolor\":\"white\",\"ticks\":\"\"}},\"ternary\":{\"bgcolor\":\"#E5ECF6\",\"aaxis\":{\"gridcolor\":\"white\",\"linecolor\":\"white\",\"ticks\":\"\"},\"baxis\":{\"gridcolor\":\"white\",\"linecolor\":\"white\",\"ticks\":\"\"},\"caxis\":{\"gridcolor\":\"white\",\"linecolor\":\"white\",\"ticks\":\"\"}},\"coloraxis\":{\"colorbar\":{\"outlinewidth\":0,\"ticks\":\"\"}},\"colorscale\":{\"sequential\":[[0.0,\"#0d0887\"],[0.1111111111111111,\"#46039f\"],[0.2222222222222222,\"#7201a8\"],[0.3333333333333333,\"#9c179e\"],[0.4444444444444444,\"#bd3786\"],[0.5555555555555556,\"#d8576b\"],[0.6666666666666666,\"#ed7953\"],[0.7777777777777778,\"#fb9f3a\"],[0.8888888888888888,\"#fdca26\"],[1.0,\"#f0f921\"]],\"sequentialminus\":[[0.0,\"#0d0887\"],[0.1111111111111111,\"#46039f\"],[0.2222222222222222,\"#7201a8\"],[0.3333333333333333,\"#9c179e\"],[0.4444444444444444,\"#bd3786\"],[0.5555555555555556,\"#d8576b\"],[0.6666666666666666,\"#ed7953\"],[0.7777777777777778,\"#fb9f3a\"],[0.8888888888888888,\"#fdca26\"],[1.0,\"#f0f921\"]],\"diverging\":[[0,\"#8e0152\"],[0.1,\"#c51b7d\"],[0.2,\"#de77ae\"],[0.3,\"#f1b6da\"],[0.4,\"#fde0ef\"],[0.5,\"#f7f7f7\"],[0.6,\"#e6f5d0\"],[0.7,\"#b8e186\"],[0.8,\"#7fbc41\"],[0.9,\"#4d9221\"],[1,\"#276419\"]]},\"xaxis\":{\"gridcolor\":\"white\",\"linecolor\":\"white\",\"ticks\":\"\",\"title\":{\"standoff\":15},\"zerolinecolor\":\"white\",\"automargin\":true,\"zerolinewidth\":2},\"yaxis\":{\"gridcolor\":\"white\",\"linecolor\":\"white\",\"ticks\":\"\",\"title\":{\"standoff\":15},\"zerolinecolor\":\"white\",\"automargin\":true,\"zerolinewidth\":2},\"scene\":{\"xaxis\":{\"backgroundcolor\":\"#E5ECF6\",\"gridcolor\":\"white\",\"linecolor\":\"white\",\"showbackground\":true,\"ticks\":\"\",\"zerolinecolor\":\"white\",\"gridwidth\":2},\"yaxis\":{\"backgroundcolor\":\"#E5ECF6\",\"gridcolor\":\"white\",\"linecolor\":\"white\",\"showbackground\":true,\"ticks\":\"\",\"zerolinecolor\":\"white\",\"gridwidth\":2},\"zaxis\":{\"backgroundcolor\":\"#E5ECF6\",\"gridcolor\":\"white\",\"linecolor\":\"white\",\"showbackground\":true,\"ticks\":\"\",\"zerolinecolor\":\"white\",\"gridwidth\":2}},\"shapedefaults\":{\"line\":{\"color\":\"#2a3f5f\"}},\"annotationdefaults\":{\"arrowcolor\":\"#2a3f5f\",\"arrowhead\":0,\"arrowwidth\":1},\"geo\":{\"bgcolor\":\"white\",\"landcolor\":\"#E5ECF6\",\"subunitcolor\":\"white\",\"showland\":true,\"showlakes\":true,\"lakecolor\":\"white\"},\"title\":{\"x\":0.05},\"mapbox\":{\"style\":\"light\"}}},\"xaxis\":{\"anchor\":\"y\",\"domain\":[0.0,1.0],\"title\":{\"text\":\"variable\"}},\"yaxis\":{\"anchor\":\"x\",\"domain\":[0.0,1.0],\"title\":{\"text\":\"value\"}},\"legend\":{\"tracegroupgap\":0},\"title\":{\"text\":\"Boxplot with Plotly\"},\"boxmode\":\"group\"},                        {\"responsive\": true}                    ).then(function(){\n",
              "                            \n",
              "var gd = document.getElementById('089d2e78-414b-438b-949a-ff1d6e683f02');\n",
              "var x = new MutationObserver(function (mutations, observer) {{\n",
              "        var display = window.getComputedStyle(gd).display;\n",
              "        if (!display || display === 'none') {{\n",
              "            console.log([gd, 'removed!']);\n",
              "            Plotly.purge(gd);\n",
              "            observer.disconnect();\n",
              "        }}\n",
              "}});\n",
              "\n",
              "// Listen for the removal of the full notebook cells\n",
              "var notebookContainer = gd.closest('#notebook-container');\n",
              "if (notebookContainer) {{\n",
              "    x.observe(notebookContainer, {childList: true});\n",
              "}}\n",
              "\n",
              "// Listen for the clearing of the current output cell\n",
              "var outputEl = gd.closest('.output');\n",
              "if (outputEl) {{\n",
              "    x.observe(outputEl, {childList: true});\n",
              "}}\n",
              "\n",
              "                        })                };                            </script>        </div>\n",
              "</body>\n",
              "</html>"
            ]
          },
          "metadata": {}
        }
      ],
      "source": [
        "fig = px.box(data, title='Boxplot with Plotly')\n",
        "fig.show()"
      ]
    },
    {
      "cell_type": "markdown",
      "metadata": {
        "id": "RT4hRgFbTCIy"
      },
      "source": [
        "FM 3: Write your analysis about this class"
      ]
    },
    {
      "cell_type": "markdown",
      "metadata": {
        "id": "LacacvMZ1oa2"
      },
      "source": [
        "Chart 1: Science\n",
        "\n",
        "    First Quartile (Q1): 17\n",
        "\n",
        "    Median: 52.5\n",
        "\n",
        "    Third Quartile (Q3): 79\n",
        "\n",
        "Chart 2: Math\n",
        "\n",
        "    First Quartile (Q1): 23\n",
        "\n",
        "    Median: 55.5\n",
        "\n",
        "    Third Quartile (Q3): 74\n",
        "\n",
        "Chart 3: English\n",
        "\n",
        "    First Quartile (Q1): 14\n",
        "\n",
        "    Median: 40\n",
        "\n",
        "    Third Quartile (Q3): 72\n",
        "\n",
        "**Calculating Normality Metrics**\n",
        "\n",
        "Conclusion Based on Skewness\n",
        "\n",
        "$$\n",
        "\\text{Skewness}_{\\text{Science}} = \\frac{79 + 17 - 2 \\cdot 52.5}{79 - 17} = \\frac{96 - 105}{62} = \\frac{-9}{62} \\approx -0.145\n",
        "$$\n",
        "\n",
        "$$\n",
        "\\text{Skewness}_{\\text{Math}} = \\frac{74 + 23 - 2 \\cdot 55.5}{74 - 23} = \\frac{97 - 111}{51} = \\frac{-14}{51} \\approx -0.275\n",
        "$$\n",
        "\n",
        "$$\n",
        "\\text{Skewness}_{\\text{English}} = \\frac{72 + 14 - 2 \\cdot 40}{72 - 14} = \\frac{86 - 80}{58} = \\frac{6}{58} \\approx 0.103\n",
        "$$\n",
        "\n",
        "Science (Skewness ≈ -0.145): Almost close to zero, indicating a relatively symmetric distribution.\n",
        "\n",
        "Math (Skewness ≈ -0.275): Slightly negative, indicating a slight skew to the left.\n",
        "\n",
        "English (Skewness ≈ 0.103): Almost close to zero, indicating a relatively symmetric distribution.\n",
        "\n",
        "Based on the skewness values, it can be concluded that the distributions of scores in Science and English are closer to normal, while the distribution of scores in Math has a slight left skew and is less normal. Therefore, Science and English are considered to have distributions that are more normal compared to Math."
      ]
    },
    {
      "cell_type": "markdown",
      "metadata": {
        "id": "PRPmGkHaTMHN"
      },
      "source": [
        "### 2.5 Skewness"
      ]
    },
    {
      "cell_type": "markdown",
      "metadata": {
        "id": "xSKLngsQVnR-"
      },
      "source": [
        "#### 2.5.1 Explain"
      ]
    },
    {
      "cell_type": "markdown",
      "metadata": {
        "id": "2eI5IUy7Vrvu"
      },
      "source": [
        "**Skewness:** A measure of the asymmetry of the probability distribution. Positive skew indicates a distribution with a longer tail on the right; negative skew indicates a longer tail on the left."
      ]
    },
    {
      "cell_type": "markdown",
      "metadata": {
        "id": "L2cRmB5UWMcC"
      },
      "source": [
        "FM 4: Write Skewness Formula and also how to analysis skew??"
      ]
    },
    {
      "cell_type": "markdown",
      "metadata": {
        "id": "Ow-_mBqlWRAg"
      },
      "source": [
        "Formula for Skewness:\n",
        "The formula for skewness (denoted as γ1 or S) is:\n",
        "$$\n",
        "\\text{Skewness} = \\frac{n}{(n-1)(n-2)} \\sum_{i=1}^{n} \\left( \\frac{x_i - \\bar{x}}{s} \\right)^3\n",
        "$$\n",
        "\n",
        "Where:\n",
        "\n",
        "𝑛\n",
        "n is the number of observations.\n",
        "𝑥\n",
        "𝑖\n",
        "x\n",
        "i\n",
        "​\n",
        "  represents each individual observation.\n",
        "𝑥\n",
        "ˉ\n",
        "x\n",
        "ˉ\n",
        "  is the mean of the observations.\n",
        "𝑠\n",
        "s is the standard deviation of the observations.\n",
        "Analysis:\n",
        "Positive Skewness (Right-Skewed): When skewness > 0, the data has a longer tail on the right side of the distribution. This means that there are more values concentrated on the left side, with a few high values stretching the right tail.\n",
        "\n",
        "Negative Skewness (Left-Skewed): When skewness < 0, the data has a longer tail on the left side of the distribution. This indicates that there are more values concentrated on the right side, with a few low values stretching the left tail.\n",
        "\n",
        "Zero Skewness (Symmetrical): When skewness = 0, the data is perfectly symmetrical around the mean. This is typical of a normal distribution.\n",
        "\n",
        "Skewness helps in understanding the asymmetry of the data distribution, providing insight into whether the data tends to have extreme values on one side.**"
      ]
    },
    {
      "cell_type": "markdown",
      "metadata": {
        "id": "6Xe3OofsWUFk"
      },
      "source": [
        "#### 2.5.2 Code & Visualization"
      ]
    },
    {
      "cell_type": "code",
      "execution_count": null,
      "metadata": {
        "colab": {
          "base_uri": "https://localhost:8080/"
        },
        "id": "9CFAPnTbVUpT",
        "outputId": "483b6d41-a88b-47b3-e9f3-45617a054928"
      },
      "outputs": [
        {
          "output_type": "stream",
          "name": "stdout",
          "text": [
            "Analyzing column: Math\n",
            "Mean: 50.84\n",
            "Median: 55.5\n",
            "Standard Deviation: 28.132601467090144\n",
            "Skewness: -0.23144905777680605\n"
          ]
        },
        {
          "output_type": "display_data",
          "data": {
            "text/plain": [
              "<Figure size 1000x500 with 2 Axes>"
            ],
            "image/png": "[encoded data removed]"
          },
          "metadata": {}
        },
        {
          "output_type": "stream",
          "name": "stdout",
          "text": [
            "Analyzing column: Science\n",
            "Mean: 50.24\n",
            "Median: 52.5\n",
            "Standard Deviation: 30.94864739387174\n",
            "Skewness: -0.20234317022427395\n"
          ]
        },
        {
          "output_type": "display_data",
          "data": {
            "text/plain": [
              "<Figure size 1000x500 with 2 Axes>"
            ],
            "image/png": "[encoded data removed]"
          },
          "metadata": {}
        },
        {
          "output_type": "stream",
          "name": "stdout",
          "text": [
            "Analyzing column: English\n",
            "Mean: 45.2\n",
            "Median: 40.0\n",
            "Standard Deviation: 31.246877395009818\n",
            "Skewness: 0.1662404313768301\n"
          ]
        },
        {
          "output_type": "display_data",
          "data": {
            "text/plain": [
              "<Figure size 1000x500 with 2 Axes>"
            ],
            "image/png": "[encoded data removed]"
          },
          "metadata": {}
        }
      ],
      "source": [
        "for column in df.select_dtypes(include=[np.number]).columns:\n",
        "    print(f\"Analyzing column: {column}\")\n",
        "\n",
        "    # Descriptive statistics\n",
        "    mean_col = df[column].mean()\n",
        "    median_col = df[column].median()\n",
        "    std_col = df[column].std()\n",
        "    skewness_col = df[column].skew()\n",
        "    print(f\"Mean: {mean_col}\")\n",
        "    print(f\"Median: {median_col}\")\n",
        "    print(f\"Standard Deviation: {std_col}\")\n",
        "    print(f\"Skewness: {skewness_col}\")\n",
        "\n",
        "    # Histogram\n",
        "    plt.figure(figsize=(10, 5))\n",
        "    plt.subplot(1, 2, 1)\n",
        "    sns.histplot(df[column], kde=True)\n",
        "    plt.title(f\"Histogram of {column}\")\n",
        "\n",
        "    # Box plot\n",
        "    plt.subplot(1, 2, 2)\n",
        "    sns.boxplot(y=df[column])\n",
        "    plt.title(f\"Box Plot of {column}\")\n",
        "    plt.show()"
      ]
    },
    {
      "cell_type": "markdown",
      "metadata": {
        "id": "Owdeli0AXbBY"
      },
      "source": [
        "### 2.6 Correlation"
      ]
    },
    {
      "cell_type": "markdown",
      "metadata": {
        "id": "6Dr_tCuDXhx_"
      },
      "source": [
        "#### 2.6.1 Explain"
      ]
    },
    {
      "cell_type": "markdown",
      "metadata": {
        "id": "ja8C5K_eXm8G"
      },
      "source": [
        "- **Pearson Correlation Coefficient:**\n",
        "$$\n",
        "r = \\frac{\\sum (x_i - \\overline{x})(y_i - \\overline{y})}{\\sqrt{\\sum (x_i - \\overline{x})^2 \\sum (y_i - \\overline{y})^2}}\n",
        "$$"
      ]
    },
    {
      "cell_type": "markdown",
      "metadata": {
        "id": "MG6rWra4X01S"
      },
      "source": [
        "#### 2.6.2 Code"
      ]
    },
    {
      "cell_type": "code",
      "execution_count": null,
      "metadata": {
        "colab": {
          "base_uri": "https://localhost:8080/"
        },
        "id": "MboFf_1WX5dY",
        "outputId": "81ab2718-fbba-4907-93bd-3cda88ab363a"
      },
      "outputs": [
        {
          "output_type": "stream",
          "name": "stdout",
          "text": [
            "Pearson correlation between Math and Science scores: 0.1563175935834571\n"
          ]
        }
      ],
      "source": [
        "corr, _ = sp.stats.pearsonr(df['Math'], df['Science'])\n",
        "print(f\"Pearson correlation between Math and Science scores: {corr}\")"
      ]
    },
    {
      "cell_type": "markdown",
      "metadata": {
        "id": "_JChYUUzYWGr"
      },
      "source": [
        "#### 2.6.3 Visualization"
      ]
    },
    {
      "cell_type": "code",
      "execution_count": null,
      "metadata": {
        "colab": {
          "base_uri": "https://localhost:8080/",
          "height": 452
        },
        "id": "ujiCb4K_YDCa",
        "outputId": "43d705ec-f956-45a5-b81a-98f3ce4a895c"
      },
      "outputs": [
        {
          "output_type": "execute_result",
          "data": {
            "text/plain": [
              "<Axes: >"
            ]
          },
          "metadata": {},
          "execution_count": 33
        },
        {
          "output_type": "display_data",
          "data": {
            "text/plain": [
              "<Figure size 640x480 with 2 Axes>"
            ],
            "image/png": "[encoded data removed]"
          },
          "metadata": {}
        }
      ],
      "source": [
        "corr = df.corr()\n",
        "sns.heatmap(corr, annot=True)"
      ]
    },
    {
      "cell_type": "markdown",
      "metadata": {
        "id": "dEfHTBDT22u2"
      },
      "source": [
        "## 3.Linear Algebra"
      ]
    },
    {
      "cell_type": "markdown",
      "metadata": {
        "id": "TqEjgKGs2BHB"
      },
      "source": [
        "Linear algebra is fundamental to many algorithms and applications in artificial intelligence (AI) and machine learning (ML). This notebook will guide you through key concepts and operations in linear algebra, providing practical Python examples using libraries such as NumPy, PyTorch, and TensorFlow."
      ]
    },
    {
      "cell_type": "markdown",
      "metadata": {
        "id": "XrCDUL542A9R"
      },
      "source": [
        "### Table of Contents\n",
        "3.1 Introduction to Vectors and Matrices\n",
        "\n",
        "3.2 Basic Operations\n",
        "\n",
        "3.3 Matrix Decompositions\n",
        "\n",
        "3.4 Eigenvalues and Eigenvectors\n",
        "\n",
        "3.5 Applications in AI\n"
      ]
    },
    {
      "cell_type": "markdown",
      "metadata": {
        "id": "BHqHKYaC2LKw"
      },
      "source": [
        "### 3.1 Introduction to Tensors"
      ]
    },
    {
      "cell_type": "markdown",
      "metadata": {
        "id": "QgXEsNOc2mf7"
      },
      "source": [
        "Vectors and matrices are the building blocks of linear algebra. Let's start by understanding these basic components."
      ]
    },
    {
      "cell_type": "markdown",
      "metadata": {
        "id": "cxdnGRLU2s6o"
      },
      "source": [
        "#### 3.1.1 Vectors"
      ]
    },
    {
      "cell_type": "markdown",
      "metadata": {
        "id": "1M1Q_-4X2w1I"
      },
      "source": [
        "A vector is an array of numbers. Vectors can be represented in Python using NumPy, PyTorch, or TensorFlow arrays."
      ]
    },
    {
      "cell_type": "markdown",
      "metadata": {
        "id": "sPoq19bu2ziK"
      },
      "source": [
        "$\n",
        "\\mathbf{v} = \\begin{bmatrix} 1 \\\\ 2 \\\\ 3 \\end{bmatrix}\n",
        "$\n"
      ]
    },
    {
      "cell_type": "code",
      "execution_count": null,
      "metadata": {
        "colab": {
          "base_uri": "https://localhost:8080/",
          "height": 228
        },
        "id": "jmdoeLFt2mA-",
        "outputId": "794a4045-1867-4b2d-ee4d-558b909e6fc0"
      },
      "outputs": [
        {
          "output_type": "stream",
          "name": "stdout",
          "text": [
            "NumPy Vector v: [1 2 3]\n",
            "PyTorch Vector v: tensor([1, 2, 3])\n"
          ]
        },
        {
          "output_type": "error",
          "ename": "NameError",
          "evalue": "name 'tf' is not defined",
          "traceback": [
            "\u001b[0;31m---------------------------------------------------------------------------\u001b[0m",
            "\u001b[0;31mNameError\u001b[0m                                 Traceback (most recent call last)",
            "\u001b[0;32m<ipython-input-42-440164591fe2>\u001b[0m in \u001b[0;36m<cell line: 11>\u001b[0;34m()\u001b[0m\n\u001b[1;32m      9\u001b[0m \u001b[0;34m\u001b[0m\u001b[0m\n\u001b[1;32m     10\u001b[0m \u001b[0;31m# Creating a vector with TensorFlow\u001b[0m\u001b[0;34m\u001b[0m\u001b[0;34m\u001b[0m\u001b[0m\n\u001b[0;32m---> 11\u001b[0;31m \u001b[0mv_tf\u001b[0m \u001b[0;34m=\u001b[0m \u001b[0mtf\u001b[0m\u001b[0;34m.\u001b[0m\u001b[0mconstant\u001b[0m\u001b[0;34m(\u001b[0m\u001b[0;34m[\u001b[0m\u001b[0;36m1\u001b[0m\u001b[0;34m,\u001b[0m \u001b[0;36m2\u001b[0m\u001b[0;34m,\u001b[0m \u001b[0;36m3\u001b[0m\u001b[0;34m]\u001b[0m\u001b[0;34m)\u001b[0m\u001b[0;34m\u001b[0m\u001b[0;34m\u001b[0m\u001b[0m\n\u001b[0m\u001b[1;32m     12\u001b[0m \u001b[0mprint\u001b[0m\u001b[0;34m(\u001b[0m\u001b[0;34m\"TensorFlow Vector v:\"\u001b[0m\u001b[0;34m,\u001b[0m \u001b[0mv_tf\u001b[0m\u001b[0;34m)\u001b[0m\u001b[0;34m\u001b[0m\u001b[0;34m\u001b[0m\u001b[0m\n",
            "\u001b[0;31mNameError\u001b[0m: name 'tf' is not defined"
          ]
        }
      ],
      "source": [
        "# Creating a vector\n",
        "# Creating a vector with NumPy\n",
        "v_np = np.array([1, 2, 3])\n",
        "print(\"NumPy Vector v:\", v_np)\n",
        "\n",
        "# Creating a vector with PyTorch\n",
        "v_pt = torch.tensor([1, 2, 3])\n",
        "print(\"PyTorch Vector v:\", v_pt)\n",
        "\n",
        "# Creating a vector with TensorFlow\n",
        "v_tf = tf.constant([1, 2, 3])\n",
        "print(\"TensorFlow Vector v:\", v_tf)"
      ]
    },
    {
      "cell_type": "markdown",
      "metadata": {
        "id": "Py1ZCCqo3xxK"
      },
      "source": [
        "#### 3.1.2 Matrices"
      ]
    },
    {
      "cell_type": "markdown",
      "metadata": {
        "id": "SFCuaknI328_"
      },
      "source": [
        "A matrix is a 2D array of numbers. You can create matrices in NumPy, PyTorch, or TensorFlow using nested lists.\n"
      ]
    },
    {
      "cell_type": "markdown",
      "metadata": {
        "id": "Kv6ODp7d34_s"
      },
      "source": [
        "$\n",
        "\\mathbf{A} = \\begin{bmatrix} 1 & 2 & 3 \\\\ 4 & 5 & 6 \\\\ 7 & 8 & 9 \\end{bmatrix}\n",
        "$\n"
      ]
    },
    {
      "cell_type": "code",
      "execution_count": null,
      "metadata": {
        "colab": {
          "base_uri": "https://localhost:8080/"
        },
        "id": "badDT_VD39Oy",
        "outputId": "2d0b4cba-f10b-41e3-ac56-2302082dcdaf"
      },
      "outputs": [
        {
          "output_type": "stream",
          "name": "stdout",
          "text": [
            "NumPy Matrix A:\n",
            " [[1 2 3]\n",
            " [4 5 6]\n",
            " [7 8 9]] \n",
            "\n",
            "PyTorch Matrix A:\n",
            " tensor([[1, 2, 3],\n",
            "        [4, 5, 6],\n",
            "        [7, 8, 9]]) \n",
            "\n",
            "TensorFlow Matrix A:\n",
            " tf.Tensor(\n",
            "[[1 2 3]\n",
            " [4 5 6]\n",
            " [7 8 9]], shape=(3, 3), dtype=int32) \n",
            "\n"
          ]
        }
      ],
      "source": [
        "# Creating a matrix with NumPy\n",
        "A_np = np.array([[1, 2, 3], [4, 5, 6], [7, 8, 9]])\n",
        "print(\"NumPy Matrix A:\\n\", A_np, '\\n')\n",
        "\n",
        "# Creating a matrix with PyTorch\n",
        "A_pt = torch.tensor([[1, 2, 3], [4, 5, 6], [7, 8, 9]])\n",
        "print(\"PyTorch Matrix A:\\n\", A_pt, '\\n')\n",
        "\n",
        "# Creating a matrix with TensorFlow\n",
        "A_tf = tf.constant([[1, 2, 3], [4, 5, 6], [7, 8, 9]])\n",
        "print(\"TensorFlow Matrix A:\\n\", A_tf, '\\n')\n"
      ]
    },
    {
      "cell_type": "markdown",
      "metadata": {
        "id": "-2Wd9foF41jn"
      },
      "source": [
        "### 3.2 Basic Operations"
      ]
    },
    {
      "cell_type": "markdown",
      "metadata": {
        "id": "F79EtEaf46jm"
      },
      "source": [
        "Linear algebra involves various operations on vectors and matrices. Here, we cover some fundamental operations.\n"
      ]
    },
    {
      "cell_type": "markdown",
      "metadata": {
        "id": "uXHuAkNK48ZV"
      },
      "source": [
        "#### 3.2.1 Vector Addition and Subtraction"
      ]
    },
    {
      "cell_type": "markdown",
      "metadata": {
        "id": "kLzEdSl35A0P"
      },
      "source": [
        "In vector addition, corresponding elements of the vectors are added together.\n"
      ]
    },
    {
      "cell_type": "markdown",
      "metadata": {
        "id": "0jlagPz55EvF"
      },
      "source": [
        "$\n",
        "\\mathbf{v_1} = \\begin{bmatrix} 1 \\\\ 2 \\\\ 3 \\end{bmatrix}, \\quad \\mathbf{v_2} = \\begin{bmatrix} 4 \\\\ 5 \\\\ 6 \\end{bmatrix}\n",
        "$\n",
        "\n",
        "$\n",
        "\\mathbf{v_1} + \\mathbf{v_2} = \\begin{bmatrix} 1 + 4 \\\\ 2 + 5 \\\\ 3 + 6 \\end{bmatrix} = \\begin{bmatrix} 5 \\\\ 7 \\\\ 9 \\end{bmatrix}\n",
        "$\n"
      ]
    },
    {
      "cell_type": "code",
      "execution_count": null,
      "metadata": {
        "colab": {
          "base_uri": "https://localhost:8080/"
        },
        "id": "PjJXXI2f5LUX",
        "outputId": "1c0e18e5-691b-4a14-9e08-ad05b2f1eaa6"
      },
      "outputs": [
        {
          "output_type": "stream",
          "name": "stdout",
          "text": [
            "NumPy Vector addition: [5 7 9]\n",
            "PyTorch Vector addition: tensor([5, 7, 9])\n",
            "TensorFlow Vector addition: tf.Tensor([5 7 9], shape=(3,), dtype=int32)\n"
          ]
        }
      ],
      "source": [
        "# Vector addition with NumPy\n",
        "v1_np = np.array([1, 2, 3])\n",
        "v2_np = np.array([4, 5, 6])\n",
        "v_add_np = v1_np + v2_np\n",
        "print(\"NumPy Vector addition:\", v_add_np)\n",
        "\n",
        "# Vector addition with PyTorch\n",
        "v1_pt = torch.tensor([1, 2, 3])\n",
        "v2_pt = torch.tensor([4, 5, 6])\n",
        "v_add_pt = v1_pt + v2_pt\n",
        "print(\"PyTorch Vector addition:\", v_add_pt)\n",
        "\n",
        "# Vector addition with TensorFlow\n",
        "v1_tf = tf.constant([1, 2, 3])\n",
        "v2_tf = tf.constant([4, 5, 6])\n",
        "v_add_tf = v1_tf + v2_tf\n",
        "print(\"TensorFlow Vector addition:\", v_add_tf)"
      ]
    },
    {
      "cell_type": "markdown",
      "metadata": {
        "id": "xwUwDocZ5QFc"
      },
      "source": [
        "In vector subtraction, corresponding elements of the vectors are subtracted."
      ]
    },
    {
      "cell_type": "markdown",
      "metadata": {
        "id": "G3csNUFn5SaQ"
      },
      "source": [
        "$\n",
        "\\mathbf{v_1} - \\mathbf{v_2} = \\begin{bmatrix} 1 - 4 \\\\ 2 - 5 \\\\ 3 - 6 \\end{bmatrix} = \\begin{bmatrix} -3 \\\\ -3 \\\\ -3 \\end{bmatrix}\n",
        "$"
      ]
    },
    {
      "cell_type": "code",
      "execution_count": null,
      "metadata": {
        "colab": {
          "base_uri": "https://localhost:8080/"
        },
        "id": "zhAwM1Gs5Dfe",
        "outputId": "a29ce190-7639-403e-f678-8e457bef6b18"
      },
      "outputs": [
        {
          "output_type": "stream",
          "name": "stdout",
          "text": [
            "NumPy Vector subtraction: [-3 -3 -3]\n",
            "PyTorch Vector subtraction: tensor([-3, -3, -3])\n",
            "TensorFlow Vector subtraction: tf.Tensor([-3 -3 -3], shape=(3,), dtype=int32)\n"
          ]
        }
      ],
      "source": [
        "# Vector subtraction with NumPy\n",
        "v_sub_np = v1_np - v2_np\n",
        "print(\"NumPy Vector subtraction:\", v_sub_np)\n",
        "\n",
        "# Vector subtraction with PyTorch\n",
        "v_sub_pt = v1_pt - v2_pt\n",
        "print(\"PyTorch Vector subtraction:\", v_sub_pt)\n",
        "\n",
        "# Vector subtraction with TensorFlow\n",
        "v_sub_tf = v1_tf - v2_tf\n",
        "print(\"TensorFlow Vector subtraction:\", v_sub_tf)"
      ]
    },
    {
      "cell_type": "markdown",
      "metadata": {
        "id": "M46u4_qo5ZVM"
      },
      "source": [
        "#### 3.2.2 Matrix Addition and Subtraction"
      ]
    },
    {
      "cell_type": "markdown",
      "metadata": {
        "id": "MBNJeO3x5fFA"
      },
      "source": [
        "Matrix addition and subtraction work similarly to vector operations but are applied element-wise across two matrices of the same shape."
      ]
    },
    {
      "cell_type": "markdown",
      "metadata": {
        "id": "IYNbBnrj5iKW"
      },
      "source": [
        "$\n",
        "\\mathbf{A} = \\begin{bmatrix} 1 & 2 \\\\ 3 & 4 \\end{bmatrix}, \\quad \\mathbf{B} = \\begin{bmatrix} 5 & 6 \\\\ 7 & 8 \\end{bmatrix}\n",
        "$\n",
        "\n",
        "$\n",
        "\\mathbf{A} + \\mathbf{B} = \\begin{bmatrix} 1 + 5 & 2 + 6 \\\\ 3 + 7 & 4 + 8 \\end{bmatrix} = \\begin{bmatrix} 6 & 8 \\\\ 10 & 12 \\end{bmatrix}\n",
        "$\n",
        "\n",
        "$\n",
        "\\mathbf{A} - \\mathbf{B} = \\begin{bmatrix} 1 - 5 & 2 - 6 \\\\ 3 - 7 & 4 - 8 \\end{bmatrix} = \\begin{bmatrix} -4 & -4 \\\\ -4 & -4 \\end{bmatrix}\n",
        "$"
      ]
    },
    {
      "cell_type": "code",
      "execution_count": null,
      "metadata": {
        "colab": {
          "base_uri": "https://localhost:8080/"
        },
        "id": "6-L82TIM5qNR",
        "outputId": "47c7a140-d94f-496f-e6b4-40283c18dd29"
      },
      "outputs": [
        {
          "output_type": "stream",
          "name": "stdout",
          "text": [
            "NumPy Matrix addition:\n",
            " [[ 6  8]\n",
            " [10 12]]\n",
            "PyTorch Matrix addition:\n",
            " tensor([[ 6,  8],\n",
            "        [10, 12]])\n",
            "TensorFlow Matrix addition:\n",
            " tf.Tensor(\n",
            "[[ 6  8]\n",
            " [10 12]], shape=(2, 2), dtype=int32)\n"
          ]
        }
      ],
      "source": [
        "# Matrix addition with NumPy\n",
        "A_np = np.array([[1, 2], [3, 4]])\n",
        "B_np = np.array([[5, 6], [7, 8]])\n",
        "C_add_np = A_np + B_np\n",
        "print(\"NumPy Matrix addition:\\n\", C_add_np)\n",
        "\n",
        "# Matrix addition with PyTorch\n",
        "A_pt = torch.tensor([[1, 2], [3, 4]])\n",
        "B_pt = torch.tensor([[5, 6], [7, 8]])\n",
        "C_add_pt = A_pt + B_pt\n",
        "print(\"PyTorch Matrix addition:\\n\", C_add_pt)\n",
        "\n",
        "# Matrix addition with TensorFlow\n",
        "A_tf = tf.constant([[1, 2], [3, 4]])\n",
        "B_tf = tf.constant([[5, 6], [7, 8]])\n",
        "C_add_tf = A_tf + B_tf\n",
        "print(\"TensorFlow Matrix addition:\\n\", C_add_tf)\n"
      ]
    },
    {
      "cell_type": "markdown",
      "metadata": {
        "id": "RkcQkJ775xW0"
      },
      "source": [
        "#### 3.2.3 Matrix Multiplication"
      ]
    },
    {
      "cell_type": "markdown",
      "metadata": {
        "id": "Bj3ca3Mw51_g"
      },
      "source": [
        "Matrix multiplication is a bit more complex than element-wise operations. The number of columns in the first matrix must equal the number of rows in the second matrix. The resulting matrix has dimensions equal to the number of rows of the first matrix and the number of columns of the second matrix."
      ]
    },
    {
      "cell_type": "markdown",
      "metadata": {
        "id": "kWNFp7RL54aj"
      },
      "source": [
        "$\n",
        "\\mathbf{A} = \\begin{bmatrix} 1 & 2 \\\\ 3 & 4 \\end{bmatrix}, \\quad \\mathbf{B} = \\begin{bmatrix} 5 & 6 \\\\ 7 & 8 \\end{bmatrix}\n",
        "$\n",
        "\n",
        "$\n",
        "\\mathbf{A} \\cdot \\mathbf{B} = \\begin{bmatrix} (1 \\cdot 5 + 2 \\cdot 7) & (1 \\cdot 6 + 2 \\cdot 8) \\\\ (3 \\cdot 5 + 4 \\cdot 7) & (3 \\cdot 6 + 4 \\cdot 8) \\end{bmatrix} = \\begin{bmatrix} 19 & 22 \\\\ 43 & 50 \\end{bmatrix}\n",
        "$"
      ]
    },
    {
      "cell_type": "code",
      "execution_count": null,
      "metadata": {
        "colab": {
          "base_uri": "https://localhost:8080/"
        },
        "id": "zeEzwpHj6DZ5",
        "outputId": "e73be0a6-ae29-42e6-fbf1-2dd8def7d149"
      },
      "outputs": [
        {
          "output_type": "stream",
          "name": "stdout",
          "text": [
            "NumPy Matrix multiplication:\n",
            " [[19 22]\n",
            " [43 50]]\n",
            "PyTorch Matrix multiplication:\n",
            " tensor([[19, 22],\n",
            "        [43, 50]])\n",
            "TensorFlow Matrix multiplication:\n",
            " tf.Tensor(\n",
            "[[19 22]\n",
            " [43 50]], shape=(2, 2), dtype=int32)\n"
          ]
        }
      ],
      "source": [
        "# Matrix multiplication with NumPy\n",
        "C_mul_np = np.dot(A_np, B_np)\n",
        "print(\"NumPy Matrix multiplication:\\n\", C_mul_np)\n",
        "\n",
        "# Matrix multiplication with PyTorch\n",
        "C_mul_pt = torch.matmul(A_pt, B_pt)\n",
        "print(\"PyTorch Matrix multiplication:\\n\", C_mul_pt)\n",
        "\n",
        "# Matrix multiplication with TensorFlow\n",
        "C_mul_tf = tf.matmul(A_tf, B_tf)\n",
        "print(\"TensorFlow Matrix multiplication:\\n\", C_mul_tf)\n"
      ]
    },
    {
      "cell_type": "markdown",
      "metadata": {
        "id": "5huXWJKt6CK5"
      },
      "source": [
        "#### 3.2.4 Element-wise Operations"
      ]
    },
    {
      "cell_type": "markdown",
      "metadata": {
        "id": "CKFhvBSw67XK"
      },
      "source": [
        "Element-wise multiplication multiplies corresponding elements of two matrices of the same shape.\n",
        "\n",
        "$\n",
        "\\mathbf{A} = \\begin{bmatrix} 1 & 2 \\\\ 3 & 4 \\end{bmatrix}, \\quad \\mathbf{B} = \\begin{bmatrix} 5 & 6 \\\\ 7 & 8 \\end{bmatrix}\n",
        "$\n",
        "\n",
        "$\n",
        "\\mathbf{A} \\circ \\mathbf{B} = \\begin{bmatrix} 1 \\cdot 5 & 2 \\cdot 6 \\\\ 3 \\cdot 7 & 4 \\cdot 8 \\end{bmatrix} = \\begin{bmatrix} 5 & 12 \\\\ 21 & 32 \\end{bmatrix}\n",
        "$\n"
      ]
    },
    {
      "cell_type": "code",
      "execution_count": null,
      "metadata": {
        "colab": {
          "base_uri": "https://localhost:8080/"
        },
        "id": "mwhlNciW7H-P",
        "outputId": "0ca7aa85-0c29-4953-b701-97b6416c75da"
      },
      "outputs": [
        {
          "output_type": "stream",
          "name": "stdout",
          "text": [
            "NumPy Element-wise multiplication:\n",
            " [[ 5 12]\n",
            " [21 32]]\n",
            "PyTorch Element-wise multiplication:\n",
            " tensor([[ 5, 12],\n",
            "        [21, 32]])\n",
            "TensorFlow Element-wise multiplication:\n",
            " tf.Tensor(\n",
            "[[ 5 12]\n",
            " [21 32]], shape=(2, 2), dtype=int32)\n"
          ]
        }
      ],
      "source": [
        "# Element-wise multiplication with NumPy\n",
        "C_elem_mul_np = A_np * B_np\n",
        "print(\"NumPy Element-wise multiplication:\\n\", C_elem_mul_np)\n",
        "\n",
        "# Element-wise multiplication with PyTorch\n",
        "C_elem_mul_pt = A_pt * B_pt\n",
        "print(\"PyTorch Element-wise multiplication:\\n\", C_elem_mul_pt)\n",
        "\n",
        "# Element-wise multiplication with TensorFlow\n",
        "C_elem_mul_tf = A_tf * B_tf\n",
        "print(\"TensorFlow Element-wise multiplication:\\n\", C_elem_mul_tf)\n"
      ]
    },
    {
      "cell_type": "markdown",
      "metadata": {
        "id": "ye_kM8Jz7OGc"
      },
      "source": [
        "#### 3.2.5 Transpose of a Matrix"
      ]
    },
    {
      "cell_type": "markdown",
      "metadata": {
        "id": "S5cmFOdp7V8I"
      },
      "source": [
        "The transpose of a matrix is obtained by flipping the matrix over its diagonal. This operation switches the row and column indices of the matrix.\n"
      ]
    },
    {
      "cell_type": "markdown",
      "metadata": {
        "id": "RPpHn6tU7X6i"
      },
      "source": [
        "$\n",
        "\\mathbf{A} = \\begin{bmatrix} 1 & 2 \\\\ 3 & 4 \\end{bmatrix}, \\quad \\mathbf{A}^T = \\begin{bmatrix} 1 & 3 \\\\ 2 & 4 \\end{bmatrix}\n",
        "$"
      ]
    },
    {
      "cell_type": "code",
      "execution_count": null,
      "metadata": {
        "colab": {
          "base_uri": "https://localhost:8080/"
        },
        "id": "po13tgAP7h9f",
        "outputId": "e2f797aa-10c8-4212-9e09-51cb67c3e977"
      },
      "outputs": [
        {
          "output_type": "stream",
          "name": "stdout",
          "text": [
            "NumPy Transpose of A:\n",
            " [[1 3]\n",
            " [2 4]]\n",
            "PyTorch Transpose of A:\n",
            " tensor([[1, 3],\n",
            "        [2, 4]])\n",
            "TensorFlow Transpose of A:\n",
            " tf.Tensor(\n",
            "[[1 3]\n",
            " [2 4]], shape=(2, 2), dtype=int32)\n"
          ]
        }
      ],
      "source": [
        "# Transpose of a matrix with NumPy\n",
        "A_T_np = A_np.T\n",
        "print(\"NumPy Transpose of A:\\n\", A_T_np)\n",
        "\n",
        "# Transpose of a matrix with PyTorch\n",
        "A_T_pt = A_pt.T\n",
        "print(\"PyTorch Transpose of A:\\n\", A_T_pt)\n",
        "\n",
        "# Transpose of a matrix with TensorFlow\n",
        "A_T_tf = tf.transpose(A_tf)\n",
        "print(\"TensorFlow Transpose of A:\\n\", A_T_tf)"
      ]
    },
    {
      "cell_type": "markdown",
      "metadata": {
        "id": "R-KpZzMD7pG1"
      },
      "source": [
        "### 3.3 Vector Operations"
      ]
    },
    {
      "cell_type": "markdown",
      "metadata": {
        "id": "qJp0KbWu7yOP"
      },
      "source": [
        "#### 3.3.1 Dot Product"
      ]
    },
    {
      "cell_type": "markdown",
      "metadata": {
        "id": "87ZRTzbt73ww"
      },
      "source": [
        "The dot product of two vectors is a scalar value that measures their similarity. It is calculated as the sum of the products of their corresponding elements."
      ]
    },
    {
      "cell_type": "markdown",
      "metadata": {
        "id": "sj7TZKp076TP"
      },
      "source": [
        "$\n",
        "\\mathbf{v_1} \\cdot \\mathbf{v_2} = \\sum_{i=1}^{n} v_{1i} v_{2i}\n",
        "$\n",
        "\n",
        "$\n",
        "\\mathbf{v_1} = \\begin{bmatrix} 1 \\\\ 2 \\\\ 3 \\end{bmatrix}, \\quad \\mathbf{v_2} = \\begin{bmatrix} 4 \\\\ 5 \\\\ 6 \\end{bmatrix}\n",
        "$\n",
        "\n",
        "$\n",
        "\\mathbf{v_1} \\cdot \\mathbf{v_2} = 1 \\cdot 4 + 2 \\cdot 5 + 3 \\cdot 6 = 4 + 10 + 18 = 32\n",
        "$"
      ]
    },
    {
      "cell_type": "code",
      "execution_count": null,
      "metadata": {
        "colab": {
          "base_uri": "https://localhost:8080/"
        },
        "id": "TCwh36Gd8wKR",
        "outputId": "14ffc339-99d7-48f4-85fb-814c660a2cdf"
      },
      "outputs": [
        {
          "output_type": "stream",
          "name": "stdout",
          "text": [
            "NumPy Dot product: 32\n",
            "PyTorch Dot product: tensor(32)\n",
            "TensorFlow Dot product: tf.Tensor(32, shape=(), dtype=int32)\n"
          ]
        }
      ],
      "source": [
        "# Dot product with NumPy\n",
        "dot_product_np = np.dot(v1_np, v2_np)\n",
        "print(\"NumPy Dot product:\", dot_product_np)\n",
        "\n",
        "# Dot product with PyTorch\n",
        "dot_product_pt = torch.dot(v1_pt, v2_pt)\n",
        "print(\"PyTorch Dot product:\", dot_product_pt)\n",
        "\n",
        "# Dot product with TensorFlow\n",
        "dot_product_tf = tf.tensordot(v1_tf, v2_tf, axes=1)\n",
        "print(\"TensorFlow Dot product:\", dot_product_tf)\n"
      ]
    },
    {
      "cell_type": "markdown",
      "metadata": {
        "id": "lnuSbfBf82aT"
      },
      "source": [
        "####3.3.2 Cross Product"
      ]
    },
    {
      "cell_type": "markdown",
      "metadata": {
        "id": "fLvRta7Z9CrT"
      },
      "source": [
        "The cross product of two vectors in 3D space results in a new vector that is perpendicular to both.\n",
        "\n",
        "$\n",
        "\\mathbf{v_1} = \\begin{bmatrix} 1 \\\\ 2 \\\\ 3 \\end{bmatrix}, \\quad \\mathbf{v_2} = \\begin{bmatrix} 4 \\\\ 5 \\\\ 6 \\end{bmatrix}\n",
        "$\n",
        "\n",
        "$\n",
        "\\mathbf{v_1} \\times \\mathbf{v_2} = \\begin{bmatrix} v_{1y}v_{2z} - v_{1z}v_{2y} \\\\ v_{1z}v_{2x} - v_{1x}v_{2z} \\\\ v_{1x}v_{2y} - v_{1y}v_{2x} \\end{bmatrix} = \\begin{bmatrix} 2 \\cdot 6 - 3 \\cdot 5 \\\\ 3 \\cdot 4 - 1 \\cdot 6 \\\\ 1 \\cdot 5 - 2 \\cdot 4 \\end{bmatrix} = \\begin{bmatrix} -3 \\\\ 6 \\\\ -3 \\end{bmatrix}\n",
        "$"
      ]
    },
    {
      "cell_type": "code",
      "execution_count": null,
      "metadata": {
        "colab": {
          "base_uri": "https://localhost:8080/"
        },
        "id": "hNq6LfzC9CWO",
        "outputId": "fc3629e8-af33-4187-bb52-a70fad0b4df2"
      },
      "outputs": [
        {
          "output_type": "stream",
          "name": "stdout",
          "text": [
            "NumPy Cross product: [-3  6 -3]\n",
            "PyTorch Cross product: tensor([-3,  6, -3])\n",
            "TensorFlow Cross product: tf.Tensor([-3  6 -3], shape=(3,), dtype=int32)\n"
          ]
        },
        {
          "output_type": "stream",
          "name": "stderr",
          "text": [
            "<ipython-input-55-2147d624f619>:6: UserWarning:\n",
            "\n",
            "Using torch.cross without specifying the dim arg is deprecated.\n",
            "Please either pass the dim explicitly or simply use torch.linalg.cross.\n",
            "The default value of dim will change to agree with that of linalg.cross in a future release. (Triggered internally at ../aten/src/ATen/native/Cross.cpp:62.)\n",
            "\n"
          ]
        }
      ],
      "source": [
        "# Cross product with NumPy\n",
        "cross_product_np = np.cross(v1_np, v2_np)\n",
        "print(\"NumPy Cross product:\", cross_product_np)\n",
        "\n",
        "# Cross product with PyTorch\n",
        "cross_product_pt = torch.cross(v1_pt, v2_pt)\n",
        "print(\"PyTorch Cross product:\", cross_product_pt)\n",
        "\n",
        "# Cross product with TensorFlow\n",
        "cross_product_tf = tf.linalg.cross(v1_tf, v2_tf)\n",
        "print(\"TensorFlow Cross product:\", cross_product_tf)"
      ]
    },
    {
      "cell_type": "markdown",
      "metadata": {
        "id": "Ub0zQcB7-A6k"
      },
      "source": [
        "### 3.4 Matrix Operations"
      ]
    },
    {
      "cell_type": "markdown",
      "metadata": {
        "id": "SWE5aMmF-ErI"
      },
      "source": [
        "#### 3.4.1 Identity Matrix"
      ]
    },
    {
      "cell_type": "markdown",
      "metadata": {
        "id": "Ww65VJx6-Hvt"
      },
      "source": [
        "The identity matrix is a square matrix with ones on the diagonal and zeros elsewhere. It acts as the multiplicative identity in matrix multiplication."
      ]
    },
    {
      "cell_type": "markdown",
      "metadata": {
        "id": "jQHVw4gg-KKJ"
      },
      "source": [
        "$\n",
        "\\mathbf{I} = \\begin{bmatrix} 1 & 0 & 0 \\\\ 0 & 1 & 0 \\\\ 0 & 0 & 1 \\end{bmatrix}\n",
        "$"
      ]
    },
    {
      "cell_type": "code",
      "execution_count": null,
      "metadata": {
        "colab": {
          "base_uri": "https://localhost:8080/"
        },
        "id": "STYHOOcL-X8v",
        "outputId": "bcb60022-5233-4f49-c3f9-20aa2b3733db"
      },
      "outputs": [
        {
          "output_type": "stream",
          "name": "stdout",
          "text": [
            "NumPy Identity matrix:\n",
            " [[1. 0. 0.]\n",
            " [0. 1. 0.]\n",
            " [0. 0. 1.]]\n",
            "PyTorch Identity matrix:\n",
            " tensor([[1., 0., 0.],\n",
            "        [0., 1., 0.],\n",
            "        [0., 0., 1.]])\n",
            "TensorFlow Identity matrix:\n",
            " tf.Tensor(\n",
            "[[1. 0. 0.]\n",
            " [0. 1. 0.]\n",
            " [0. 0. 1.]], shape=(3, 3), dtype=float32)\n"
          ]
        }
      ],
      "source": [
        "# Identity matrix with NumPy\n",
        "I_np = np.eye(3)\n",
        "print(\"NumPy Identity matrix:\\n\", I_np)\n",
        "\n",
        "# Identity matrix with PyTorch\n",
        "I_pt = torch.eye(3)\n",
        "print(\"PyTorch Identity matrix:\\n\", I_pt)\n",
        "\n",
        "# Identity matrix with TensorFlow\n",
        "I_tf = tf.eye(3)\n",
        "print(\"TensorFlow Identity matrix:\\n\", I_tf)"
      ]
    },
    {
      "cell_type": "markdown",
      "metadata": {
        "id": "UdzfOWhH-bYb"
      },
      "source": [
        "#### 3.4.2 Inverse of a Matrix\n"
      ]
    },
    {
      "cell_type": "markdown",
      "metadata": {
        "id": "45OxFGWR-fMR"
      },
      "source": [
        "The inverse of a matrix $A$ is a matrix $A^{-1}$ such that $A \\cdot A^{-1} = I$, where $I$ is the identity matrix. Not all matrices have inverses.\n",
        "\n",
        "$\n",
        "\\mathbf{A} = \\begin{bmatrix} 1 & 2 \\\\ 3 & 4 \\end{bmatrix}, \\quad \\mathbf{A}^{-1} = \\frac{1}{\\text{det}(\\mathbf{A})} \\begin{bmatrix} d & -b \\\\ -c & a \\end{bmatrix} = \\frac{1}{-2} \\begin{bmatrix} 4 & -2 \\\\ -3 & 1 \\end{bmatrix} = \\begin{bmatrix} -2 & 1 \\\\ 1.5 & -0.5 \\end{bmatrix}\n",
        "$\n"
      ]
    },
    {
      "cell_type": "code",
      "execution_count": null,
      "metadata": {
        "colab": {
          "base_uri": "https://localhost:8080/"
        },
        "id": "YWmWlbbM-0lX",
        "outputId": "106cf497-d7a8-4e6d-a880-41c2c6e532c4"
      },
      "outputs": [
        {
          "output_type": "stream",
          "name": "stdout",
          "text": [
            "NumPy Inverse of A:\n",
            " [[-2.   1. ]\n",
            " [ 1.5 -0.5]]\n",
            "PyTorch Inverse of A:\n",
            " tensor([[-2.0000,  1.0000],\n",
            "        [ 1.5000, -0.5000]])\n",
            "TensorFlow Inverse of A:\n",
            " tf.Tensor(\n",
            "[[-2.0000002   1.0000001 ]\n",
            " [ 1.5000001  -0.50000006]], shape=(2, 2), dtype=float32)\n"
          ]
        }
      ],
      "source": [
        "A_pt = torch.tensor([[1, 2], [3, 4]], dtype=torch.float32)\n",
        "A_tf = tf.constant([[1, 2], [3, 4]], dtype=tf.float32)\n",
        "\n",
        "# Inverse of a matrix with NumPy\n",
        "A_inv_np = np.linalg.inv(A_np)\n",
        "print(\"NumPy Inverse of A:\\n\", A_inv_np)\n",
        "\n",
        "# Inverse of a matrix with PyTorch\n",
        "A_inv_pt = torch.linalg.inv(A_pt)\n",
        "print(\"PyTorch Inverse of A:\\n\", A_inv_pt)\n",
        "\n",
        "# Inverse of a matrix with TensorFlow\n",
        "A_inv_tf = tf.linalg.inv(A_tf)\n",
        "print(\"TensorFlow Inverse of A:\\n\", A_inv_tf)"
      ]
    },
    {
      "cell_type": "markdown",
      "metadata": {
        "id": "nBzfmUU8Bs3R"
      },
      "source": [
        "#### 3.4.3 Determinant of a Matrix"
      ]
    },
    {
      "cell_type": "markdown",
      "metadata": {
        "id": "Ie9dmrqKBxgC"
      },
      "source": [
        "The determinant is a scalar value that can be computed from the elements of a square matrix and encodes certain properties of the matrix.\n",
        "\n",
        "$\n",
        "\\mathbf{A} = \\begin{bmatrix} a & b \\\\ c & d \\end{bmatrix}, \\quad \\text{det}(\\mathbf{A}) = ad - bc\n",
        "$"
      ]
    },
    {
      "cell_type": "code",
      "execution_count": null,
      "metadata": {
        "colab": {
          "base_uri": "https://localhost:8080/"
        },
        "id": "4nbdHDI_B6uS",
        "outputId": "0caaf3b7-12f9-4e1c-f45e-4a38f48332da"
      },
      "outputs": [
        {
          "output_type": "stream",
          "name": "stdout",
          "text": [
            "NumPy Determinant of A: -2.0000000000000004\n",
            "PyTorch Determinant of A: tensor(-2.)\n",
            "TensorFlow Determinant of A: tf.Tensor(-2.0, shape=(), dtype=float32)\n"
          ]
        }
      ],
      "source": [
        "# Determinant of a matrix with NumPy\n",
        "det_A_np = np.linalg.det(A_np)\n",
        "print(\"NumPy Determinant of A:\", det_A_np)\n",
        "\n",
        "# Determinant of a matrix with PyTorch\n",
        "det_A_pt = torch.det(A_pt)\n",
        "print(\"PyTorch Determinant of A:\", det_A_pt)\n",
        "\n",
        "# Determinant of a matrix with TensorFlow\n",
        "det_A_tf = tf.linalg.det(A_tf)\n",
        "print(\"TensorFlow Determinant of A:\", det_A_tf)"
      ]
    },
    {
      "cell_type": "markdown",
      "metadata": {
        "id": "7Y8OoC3Uw-OH"
      },
      "source": [
        "FM 1: If you know more operation add on answer cell with beautiful markdown (Latex and html)"
      ]
    },
    {
      "cell_type": "markdown",
      "metadata": {
        "id": "ZcvXKzkWxZQJ"
      },
      "source": [
        "**Answer**"
      ]
    },
    {
      "cell_type": "markdown",
      "metadata": {
        "id": "mGqC9UtbB-01"
      },
      "source": [
        "### 3.5 Matrix Decompositions"
      ]
    },
    {
      "cell_type": "markdown",
      "metadata": {
        "id": "FNVaaP3PCC34"
      },
      "source": [
        "Matrix decompositions are crucial for solving systems of equations, among other applications.\n"
      ]
    },
    {
      "cell_type": "markdown",
      "metadata": {
        "id": "Aq1PYLTnCE4o"
      },
      "source": [
        "#### 3.5.1 LU Decomposition"
      ]
    },
    {
      "cell_type": "markdown",
      "metadata": {
        "id": "VEaQHZUTCIrf"
      },
      "source": [
        "LU decomposition factors a matrix as the product of a lower triangular matrix $L$ and an upper triangular matrix $U$.\n",
        "\n",
        "$\n",
        "\\mathbf{A} = \\mathbf{L} \\cdot \\mathbf{U}\n",
        "$\n"
      ]
    },
    {
      "cell_type": "code",
      "execution_count": null,
      "metadata": {
        "colab": {
          "base_uri": "https://localhost:8080/"
        },
        "id": "qAbcj9rqCUFy",
        "outputId": "959d4881-3e73-4663-abd0-df0f6389cb08"
      },
      "outputs": [
        {
          "output_type": "stream",
          "name": "stdout",
          "text": [
            "NumPy/Scipy LU Decomposition:\n",
            "P:\n",
            " [[0. 1.]\n",
            " [1. 0.]]\n",
            "L:\n",
            " [[1.         0.        ]\n",
            " [0.33333333 1.        ]]\n",
            "U:\n",
            " [[3.         4.        ]\n",
            " [0.         0.66666667]]\n",
            "TensorFlow LU Decomposition:\n",
            "L:\n",
            " tf.Tensor(\n",
            "[[3.         4.        ]\n",
            " [0.33333334 0.6666666 ]], shape=(2, 2), dtype=float32)\n",
            "U:\n",
            " tf.Tensor([1 0], shape=(2,), dtype=int32)\n"
          ]
        }
      ],
      "source": [
        "import scipy.linalg as linalg\n",
        "\n",
        "# LU Decomposition with NumPy/Scipy\n",
        "P, L, U = linalg.lu(A_np)\n",
        "print(\"NumPy/Scipy LU Decomposition:\")\n",
        "print(\"P:\\n\", P)\n",
        "print(\"L:\\n\", L)\n",
        "print(\"U:\\n\", U)\n",
        "\n",
        "# LU Decomposition with PyTorch\n",
        "# PyTorch does not have a built-in LU decomposition function\n",
        "\n",
        "# LU Decomposition with TensorFlow\n",
        "L_tf, U_tf = tf.linalg.lu(A_tf)\n",
        "print(\"TensorFlow LU Decomposition:\")\n",
        "print(\"L:\\n\", L_tf)\n",
        "print(\"U:\\n\", U_tf)\n"
      ]
    },
    {
      "cell_type": "markdown",
      "metadata": {
        "id": "ZT1GcJzfDUYt"
      },
      "source": [
        "#### 3.5.2 QR Decomposition"
      ]
    },
    {
      "cell_type": "markdown",
      "metadata": {
        "id": "U4v0f3h1DYYp"
      },
      "source": [
        "QR decomposition factors a matrix into an orthogonal matrix $Q$ and an upper triangular matrix $R$.\n",
        "\n",
        "$\n",
        "\\mathbf{A} = \\mathbf{Q} \\cdot \\mathbf{R}\n",
        "$"
      ]
    },
    {
      "cell_type": "code",
      "execution_count": null,
      "metadata": {
        "colab": {
          "base_uri": "https://localhost:8080/"
        },
        "id": "fikMi6rAH36S",
        "outputId": "b81ac625-a3b1-47f3-a76c-118e5bfc6321"
      },
      "outputs": [
        {
          "output_type": "stream",
          "name": "stdout",
          "text": [
            "NumPy QR Decomposition:\n",
            "Q:\n",
            " [[-0.31622777 -0.9486833 ]\n",
            " [-0.9486833   0.31622777]]\n",
            "R:\n",
            " [[-3.16227766 -4.42718872]\n",
            " [ 0.         -0.63245553]]\n",
            "PyTorch QR Decomposition:\n",
            "Q:\n",
            " tensor([[-0.3162, -0.9487],\n",
            "        [-0.9487,  0.3162]])\n",
            "R:\n",
            " tensor([[-3.1623, -4.4272],\n",
            "        [ 0.0000, -0.6325]])\n",
            "TensorFlow QR Decomposition:\n",
            "Q:\n",
            " tf.Tensor(\n",
            "[[-0.3162278  -0.9486833 ]\n",
            " [-0.9486833   0.31622773]], shape=(2, 2), dtype=float32)\n",
            "R:\n",
            " tf.Tensor(\n",
            "[[-3.1622777  -4.4271884 ]\n",
            " [ 0.         -0.63245535]], shape=(2, 2), dtype=float32)\n"
          ]
        },
        {
          "output_type": "stream",
          "name": "stderr",
          "text": [
            "<ipython-input-60-6d7847586ea7>:8: UserWarning:\n",
            "\n",
            "torch.qr is deprecated in favor of torch.linalg.qr and will be removed in a future PyTorch release.\n",
            "The boolean parameter 'some' has been replaced with a string parameter 'mode'.\n",
            "Q, R = torch.qr(A, some)\n",
            "should be replaced with\n",
            "Q, R = torch.linalg.qr(A, 'reduced' if some else 'complete') (Triggered internally at ../aten/src/ATen/native/BatchLinearAlgebra.cpp:2416.)\n",
            "\n"
          ]
        }
      ],
      "source": [
        "# QR Decomposition with NumPy\n",
        "Q_np, R_np = np.linalg.qr(A_np)\n",
        "print(\"NumPy QR Decomposition:\")\n",
        "print(\"Q:\\n\", Q_np)\n",
        "print(\"R:\\n\", R_np)\n",
        "\n",
        "# QR Decomposition with PyTorch\n",
        "Q_pt, R_pt = torch.qr(A_pt)\n",
        "print(\"PyTorch QR Decomposition:\")\n",
        "print(\"Q:\\n\", Q_pt)\n",
        "print(\"R:\\n\", R_pt)\n",
        "\n",
        "# QR Decomposition with TensorFlow\n",
        "Q_tf, R_tf = tf.linalg.qr(A_tf)\n",
        "print(\"TensorFlow QR Decomposition:\")\n",
        "print(\"Q:\\n\", Q_tf)\n",
        "print(\"R:\\n\", R_tf)\n"
      ]
    },
    {
      "cell_type": "markdown",
      "metadata": {
        "id": "NFYTtrarIHpr"
      },
      "source": [
        "#### 3.5.3 Singular Value Decomposition (SVD)"
      ]
    },
    {
      "cell_type": "markdown",
      "metadata": {
        "id": "pPT_ZMa8ILJ0"
      },
      "source": [
        "SVD decomposes a matrix into three other matrices, where the original matrix $A$ is represented as the product of $U$, $\\Sigma$, and $V^T$.\n",
        "\n",
        "$\n",
        "\\mathbf{A} = \\mathbf{U} \\cdot \\mathbf{\\Sigma} \\cdot \\mathbf{V}^T\n",
        "$\n"
      ]
    },
    {
      "cell_type": "code",
      "execution_count": null,
      "metadata": {
        "colab": {
          "base_uri": "https://localhost:8080/"
        },
        "id": "0ob4etRVIYeh",
        "outputId": "e2541f4a-fe06-47a9-f57e-915cf3f48de7"
      },
      "outputs": [
        {
          "output_type": "stream",
          "name": "stdout",
          "text": [
            "NumPy SVD Decomposition:\n",
            "U:\n",
            " [[-0.40455358 -0.9145143 ]\n",
            " [-0.9145143   0.40455358]]\n",
            "S:\n",
            " [5.4649857  0.36596619]\n",
            "V:\n",
            " [[-0.57604844 -0.81741556]\n",
            " [ 0.81741556 -0.57604844]]\n",
            "PyTorch SVD Decomposition:\n",
            "U:\n",
            " tensor([[-0.4046, -0.9145],\n",
            "        [-0.9145,  0.4046]])\n",
            "S:\n",
            " tensor([5.4650, 0.3660])\n",
            "V:\n",
            " tensor([[-0.5760,  0.8174],\n",
            "        [-0.8174, -0.5760]])\n",
            "TensorFlow SVD Decomposition:\n",
            "U:\n",
            " tf.Tensor(\n",
            "[[ 0.4045535 -0.9145143]\n",
            " [ 0.9145143  0.4045535]], shape=(2, 2), dtype=float32)\n",
            "S:\n",
            " tf.Tensor([5.4649854  0.36596614], shape=(2,), dtype=float32)\n",
            "V:\n",
            " tf.Tensor(\n",
            "[[ 0.5760484  0.8174156]\n",
            " [ 0.8174156 -0.5760484]], shape=(2, 2), dtype=float32)\n"
          ]
        }
      ],
      "source": [
        "# SVD with NumPy\n",
        "U_np, S_np, V_np = np.linalg.svd(A_np)\n",
        "print(\"NumPy SVD Decomposition:\")\n",
        "print(\"U:\\n\", U_np)\n",
        "print(\"S:\\n\", S_np)\n",
        "print(\"V:\\n\", V_np)\n",
        "\n",
        "# SVD with PyTorch\n",
        "U_pt, S_pt, V_pt = torch.svd(A_pt)\n",
        "print(\"PyTorch SVD Decomposition:\")\n",
        "print(\"U:\\n\", U_pt)\n",
        "print(\"S:\\n\", S_pt)\n",
        "print(\"V:\\n\", V_pt)\n",
        "\n",
        "# SVD with TensorFlow\n",
        "S_tf, U_tf, V_tf = tf.linalg.svd(A_tf, full_matrices=False)\n",
        "print(\"TensorFlow SVD Decomposition:\")\n",
        "print(\"U:\\n\", U_tf)\n",
        "print(\"S:\\n\", S_tf)\n",
        "print(\"V:\\n\", V_tf)"
      ]
    },
    {
      "cell_type": "markdown",
      "metadata": {
        "id": "v6r7T2RQyYyM"
      },
      "source": [
        "FM 2: Singular Value Decomposition (SVD) for Image Compression\n",
        "\n",
        "## FM 2\n",
        "\n",
        "Singular Value Decomposition (SVD) is a powerful technique in linear algebra with numerous applications in AI and machine learning. One practical application of SVD is image compression. In this exercise, you will apply SVD to compress and reconstruct an image. This exercise will help you understand the SVD algorithm and its application in AI.\n",
        "\n",
        "## Task\n",
        "\n",
        "1. Load an image in grayscale.\n",
        "2. Apply SVD to decompose the image.\n",
        "3. Reconstruct the image using a reduced number of singular values.\n",
        "4. Compare the original and compressed images.\n",
        "5. Compute and display the compression ratio and reconstruction error.\n",
        "\n",
        "## Step-by-Step Instructions\n",
        "\n",
        "### 1. Load an Image in Grayscale\n",
        "\n",
        "First, load an image in grayscale using the `matplotlib` library. For simplicity, you can use an image from the `skimage` library.\n",
        "\n",
        "### 2. Apply SVD\n",
        "\n",
        "Decompose the image matrix using the SVD algorithm.\n",
        "\n",
        "### 3. Reconstruct the Image\n",
        "\n",
        "Reconstruct the image using a reduced number of singular values. You can experiment with different numbers of singular values to see the effect on image quality and compression ratio.\n",
        "\n",
        "### 4. Compare the Images\n",
        "\n",
        "Display the original and compressed images side by side for comparison.\n",
        "\n",
        "### 5. Compute Compression Ratio and Reconstruction Error\n",
        "\n",
        "Calculate the compression ratio and reconstruction error to evaluate the performance of the compression.\n",
        "\n",
        "## Starter Code\n",
        "\n",
        "Here is the starter code to help you get started with the exercise:\n",
        "\n",
        "```python\n",
        "import numpy as np\n",
        "import matplotlib.pyplot as plt\n",
        "from skimage import data\n",
        "from skimage.color import rgb2gray\n",
        "\n",
        "# Step 1: Load an image in grayscale\n",
        "image = rgb2gray(data.astronaut())\n",
        "print(f\"Original image shape: {image.shape}\")\n",
        "\n",
        "# Step 2: Apply SVD\n",
        "U, S, Vt = np.linalg.svd(image, full_matrices=False)\n",
        "\n",
        "# Function to reconstruct image using the first k singular values\n",
        "def reconstruct_image(U, S, Vt, k):\n",
        "    return np.dot(U[:, :k], np.dot(np.diag(S[:k]), Vt[:k, :]))\n",
        "\n",
        "# Step 3: Reconstruct the image using a reduced number of singular values\n",
        "k_values = [5, 20, 50]  # Experiment with different k values\n",
        "reconstructed_images = [reconstruct_image(U, S, Vt, k) for k in k_values]\n",
        "\n",
        "# Step 4: Compare the original and compressed images\n",
        "plt.figure(figsize=(12, 6))\n",
        "plt.subplot(2, 2, 1)\n",
        "plt.title(\"Original Image\")\n",
        "plt.imshow(image, cmap='gray')\n",
        "for i, k in enumerate(k_values):\n",
        "    plt.subplot(2, 2, i + 2)\n",
        "    plt.title(f\"Reconstructed Image (k={k})\")\n",
        "    plt.imshow(reconstructed_images[i], cmap='gray')\n",
        "plt.tight_layout()\n",
        "plt.show()\n",
        "\n",
        "# Step 5: Compute compression ratio and reconstruction error\n",
        "def compression_ratio(original_shape, k):\n",
        "    original_size = np.prod(original_shape)\n",
        "    compressed_size = k * (1 + sum(original_shape))\n",
        "    return original_size / compressed_size\n",
        "\n",
        "def reconstruction_error(original, reconstructed):\n",
        "    return np.linalg.norm(original - reconstructed) / np.linalg.norm(original)\n",
        "\n",
        "for k, reconstructed_image in zip(k_values, reconstructed_images):\n",
        "    cr = compression_ratio(image.shape, k)\n",
        "    re = reconstruction_error(image, reconstructed_image)\n",
        "    print(f\"k={k}: Compression Ratio={cr:.2f}, Reconstruction Error={re:.4f}\")\n",
        "```\n",
        "\n",
        "## Instructions\n",
        "\n",
        "1. **Understand the Starter Code**: Read through the starter code to understand how SVD is applied to image compression also add comments and doocstring to functions and if you can, Use OOP for that.\n",
        "2. **Experiment with Different k Values**: Modify the `k_values` list to experiment with different numbers of singular values. Observe how the image quality and compression ratio change.\n",
        "3. **Visualize the Results**: Run the code to visualize the original and compressed images. Compare the differences.\n",
        "4. **Analyze the Performance**: Use the printed compression ratio and reconstruction error to evaluate the performance of the compression.\n",
        "\n",
        "## Questions\n",
        "\n",
        "1. What happens to the image quality as the number of singular values (`k`) decreases?\n",
        "2. How does the compression ratio change with different `k` values?\n",
        "3. What is the trade-off between image quality and compression ratio?\n"
      ]
    },
    {
      "cell_type": "code",
      "source": [
        "import numpy as np\n",
        "import matplotlib.pyplot as plt\n",
        "from skimage import data\n",
        "from skimage.color import rgb2gray\n",
        "\n",
        "# Step 1: Load an image in grayscale\n",
        "image = rgb2gray(data.astronaut())\n",
        "print(f\"Original image shape: {image.shape}\")\n",
        "\n",
        "# Step 2: Apply SVD\n",
        "U, S, Vt = np.linalg.svd(image, full_matrices=False)\n",
        "\n",
        "# Function to reconstruct image using the first k singular values\n",
        "def reconstruct_image(U, S, Vt, k):\n",
        "    return np.dot(U[:, :k], np.dot(np.diag(S[:k]), Vt[:k, :]))\n",
        "\n",
        "# Step 3: Reconstruct the image using a reduced number of singular values\n",
        "k_values = [5, 20, 50]  # Experiment with different k values\n",
        "reconstructed_images = [reconstruct_image(U, S, Vt, k) for k in k_values]\n",
        "\n",
        "# Step 4: Compare the original and compressed images\n",
        "plt.figure(figsize=(12, 6))\n",
        "plt.subplot(2, 2, 1)\n",
        "plt.title(\"Original Image\")\n",
        "plt.imshow(image, cmap='gray')\n",
        "for i, k in enumerate(k_values):\n",
        "    plt.subplot(2, 2, i + 2)\n",
        "    plt.title(f\"Reconstructed Image (k={k})\")\n",
        "    plt.imshow(reconstructed_images[i], cmap='gray')\n",
        "plt.tight_layout()\n",
        "plt.show()\n",
        "\n",
        "# Step 5: Compute compression ratio and reconstruction error\n",
        "def compression_ratio(original_shape, k):\n",
        "    original_size = np.prod(original_shape)\n",
        "    compressed_size = k * (1 + sum(original_shape))\n",
        "    return original_size / compressed_size\n",
        "\n",
        "def reconstruction_error(original, reconstructed):\n",
        "    return np.linalg.norm(original - reconstructed) / np.linalg.norm(original)\n",
        "\n",
        "for k, reconstructed_image in zip(k_values, reconstructed_images):\n",
        "    cr = compression_ratio(image.shape, k)\n",
        "    re = reconstruction_error(image, reconstructed_image)\n",
        "    print(f\"k={k}: Compression Ratio={cr:.2f}, Reconstruction Error={re:.4f}\")"
      ],
      "metadata": {
        "colab": {
          "base_uri": "https://localhost:8080/",
          "height": 676
        },
        "id": "UxRzqAUBr6Rz",
        "outputId": "72588a5c-37e9-4cdd-8ee0-6a942d4dc3b8"
      },
      "execution_count": 2,
      "outputs": [
        {
          "output_type": "stream",
          "name": "stdout",
          "text": [
            "Original image shape: (512, 512)\n"
          ]
        },
        {
          "output_type": "display_data",
          "data": {
            "text/plain": [
              "<Figure size 1200x600 with 4 Axes>"
            ],
            "image/png": "[encoded data removed]"
          },
          "metadata": {}
        },
        {
          "output_type": "stream",
          "name": "stdout",
          "text": [
            "k=5: Compression Ratio=51.15, Reconstruction Error=0.2917\n",
            "k=20: Compression Ratio=12.79, Reconstruction Error=0.1473\n",
            "k=50: Compression Ratio=5.12, Reconstruction Error=0.0807\n"
          ]
        }
      ]
    },
    {
      "cell_type": "markdown",
      "metadata": {
        "id": "Wly0jL8b1Vk8"
      },
      "source": [
        "**Answer**\n",
        "\n",
        "\n",
        "\n",
        "#### 1. What happens to the image quality as the number of singular values (k) decreases?\n",
        "When the number of singular values (k) decreases, the image quality degrades. This is because the higher singular values (larger values) capture the most significant information and details of the image. Reducing the number of singular values means that only the most basic information is retained, leading to a loss of detail and clarity in the reconstructed image. In other words, with a smaller k, the compressed image appears more blurred and less detailed compared to the original.\n",
        "\n",
        "#### 2. How does the compression ratio change with different k values?\n",
        "The compression ratio increases as the number of singular values (k) decreases. The compression ratio is calculated as the ratio of the original image size to the compressed image size. With fewer singular values, the amount of data stored to reconstruct the image is reduced, thus increasing the compression ratio. In essence, lowering k results in a smaller compressed image size and a higher compression ratio.\n",
        "\n",
        "#### 3. What is the trade-off between image quality and compression ratio?\n",
        "There is a trade-off between image quality and compression ratio:\n",
        "- **Image Quality:** Decreases as the number of singular values (k) decreases. Higher image quality requires retaining more singular values, which captures more detail and information of the original image.\n",
        "- **Compression Ratio:** Increases as the number of singular values (k) decreases. Higher compression ratio means the image is more compressed and occupies less storage space, but this comes at the cost of reduced image quality.\n",
        "\n",
        "In summary, if you aim for a higher compression ratio (more compression, less storage), you will sacrifice image quality because fewer singular values are used. Conversely, if you aim for higher image quality, you will use more singular values, resulting in a lower compression ratio (less compression, more storage space)."
      ]
    },
    {
      "cell_type": "markdown",
      "metadata": {
        "id": "AREvLORxIcCQ"
      },
      "source": [
        "### 3.6 Eigenvalues and Eigenvectors"
      ]
    },
    {
      "cell_type": "markdown",
      "metadata": {
        "id": "cE9Bt3BxIjbd"
      },
      "source": [
        "Eigenvalues and eigenvectors are fundamental in many applications such as PCA and linear transformations."
      ]
    },
    {
      "cell_type": "markdown",
      "metadata": {
        "id": "FaeVl5M3IoXe"
      },
      "source": [
        "The eigenvalues and eigenvectors of a square matrix $A$ are scalars $\\lambda$ and non-zero vectors $v$ such that $A \\cdot v = \\lambda \\cdot v$.\n",
        "\n",
        "$\n",
        "\\mathbf{A} \\cdot \\mathbf{v} = \\lambda \\cdot \\mathbf{v}\n",
        "$"
      ]
    },
    {
      "cell_type": "code",
      "execution_count": null,
      "metadata": {
        "colab": {
          "base_uri": "https://localhost:8080/"
        },
        "id": "AY7xDCAqI5BJ",
        "outputId": "9b9de0a7-6ad2-4abf-f1fc-3b426f73a58b"
      },
      "outputs": [
        {
          "output_type": "stream",
          "name": "stdout",
          "text": [
            "NumPy Eigenvalues: [-0.37228132  5.37228132]\n",
            "NumPy Eigenvectors:\n",
            " [[-0.82456484 -0.41597356]\n",
            " [ 0.56576746 -0.90937671]]\n",
            "PyTorch Eigenvalues: tensor([-0.3723+0.j,  5.3723+0.j])\n",
            "PyTorch Eigenvectors:\n",
            " tensor([[-0.8246+0.j, -0.4160+0.j],\n",
            "        [ 0.5658+0.j, -0.9094+0.j]])\n",
            "TensorFlow Eigenvalues: tf.Tensor([-0.8541021  5.854102 ], shape=(2,), dtype=float32)\n",
            "TensorFlow Eigenvectors:\n",
            " tf.Tensor(\n",
            "[[-0.85065085 -0.5257311 ]\n",
            " [ 0.5257311  -0.85065085]], shape=(2, 2), dtype=float32)\n"
          ]
        }
      ],
      "source": [
        "# Eigenvalues and eigenvectors with NumPy\n",
        "eigvals_np, eigvecs_np = np.linalg.eig(A_np)\n",
        "print(\"NumPy Eigenvalues:\", eigvals_np)\n",
        "print(\"NumPy Eigenvectors:\\n\", eigvecs_np)\n",
        "\n",
        "# Eigenvalues and eigenvectors with PyTorch\n",
        "eigvals_pt, eigvecs_pt = torch.linalg.eig(A_pt)\n",
        "print(\"PyTorch Eigenvalues:\", eigvals_pt)\n",
        "print(\"PyTorch Eigenvectors:\\n\", eigvecs_pt)\n",
        "\n",
        "# Eigenvalues and eigenvectors with TensorFlow\n",
        "eigvals_tf, eigvecs_tf = tf.linalg.eigh(A_tf)\n",
        "print(\"TensorFlow Eigenvalues:\", eigvals_tf)\n",
        "print(\"TensorFlow Eigenvectors:\\n\", eigvecs_tf)\n"
      ]
    },
    {
      "cell_type": "markdown",
      "metadata": {
        "id": "wcQIq93H0sZc"
      },
      "source": [
        "FM 3: Eigenvalues and Eigenvectors for Principal Component Analysis (PCA)\n",
        "\n",
        "## FM 3\n",
        "\n",
        "Eigenvalues and eigenvectors are fundamental concepts in linear algebra with numerous applications in AI and machine learning. One practical application of eigenvalues and eigenvectors is Principal Component Analysis (PCA), a technique used for dimensionality reduction. In this exercise, you will apply PCA to a dataset to reduce its dimensionality and visualize the results. This exercise will help you understand the concept of eigenvalues and eigenvectors and their application in PCA.\n",
        "\n",
        "## Task\n",
        "\n",
        "1. Load a dataset.\n",
        "2. Standardize the dataset.\n",
        "3. Compute the covariance matrix.\n",
        "4. Compute the eigenvalues and eigenvectors of the covariance matrix.\n",
        "5. Select the top k eigenvectors to form a new feature space.\n",
        "6. Transform the dataset to the new feature space.\n",
        "7. Visualize the results.\n",
        "\n",
        "## Step-by-Step Instructions\n",
        "\n",
        "### 1. Load a Dataset\n",
        "\n",
        "First, load a dataset. For simplicity, you can use the Iris dataset from the `sklearn` library.\n",
        "\n",
        "### 2. Standardize the Dataset\n",
        "\n",
        "Standardize the dataset so that each feature has a mean of 0 and a standard deviation of 1.\n",
        "\n",
        "### 3. Compute the Covariance Matrix\n",
        "\n",
        "Compute the covariance matrix of the standardized dataset.\n",
        "\n",
        "### 4. Compute the Eigenvalues and Eigenvectors\n",
        "\n",
        "Compute the eigenvalues and eigenvectors of the covariance matrix.\n",
        "\n",
        "### 5. Select Top k Eigenvectors\n",
        "\n",
        "Select the top k eigenvectors that correspond to the largest eigenvalues to form a new feature space.\n",
        "\n",
        "### 6. Transform the Dataset\n",
        "\n",
        "Transform the dataset to the new feature space using the selected eigenvectors.\n",
        "\n",
        "### 7. Visualize the Results\n",
        "\n",
        "Visualize the results using a scatter plot.\n",
        "\n",
        "## Starter Code\n",
        "\n",
        "Here is the starter code to help you get started with the exercise:\n",
        "\n",
        "```python\n",
        "import numpy as np\n",
        "import matplotlib.pyplot as plt\n",
        "from sklearn.datasets import load_iris\n",
        "from sklearn.preprocessing import StandardScaler\n",
        "\n",
        "# Step 1: Load the dataset\n",
        "data = load_iris()\n",
        "X = data.data\n",
        "y = data.target\n",
        "\n",
        "# Step 2: Standardize the dataset\n",
        "scaler = StandardScaler()\n",
        "X_standardized = scaler.fit_transform(X)\n",
        "\n",
        "# Step 3: Compute the covariance matrix\n",
        "cov_matrix = np.cov(X_standardized.T)\n",
        "\n",
        "# Step 4: Compute the eigenvalues and eigenvectors\n",
        "eigenvalues, eigenvectors = np.linalg.eig(cov_matrix)\n",
        "\n",
        "# Step 5: Select the top k eigenvectors\n",
        "k = 2  # Number of principal components to keep\n",
        "idx = np.argsort(eigenvalues)[::-1]  # Indices of eigenvalues in descending order\n",
        "eigenvectors = eigenvectors[:, idx]  # Sort eigenvectors accordingly\n",
        "top_k_eigenvectors = eigenvectors[:, :k]\n",
        "\n",
        "# Step 6: Transform the dataset\n",
        "X_pca = X_standardized.dot(top_k_eigenvectors)\n",
        "\n",
        "# Step 7: Visualize the results\n",
        "plt.figure(figsize=(8, 6))\n",
        "for target in np.unique(y):\n",
        "    plt.scatter(X_pca[y == target, 0], X_pca[y == target, 1], label=data.target_names[target])\n",
        "plt.xlabel('Principal Component 1')\n",
        "plt.ylabel('Principal Component 2')\n",
        "plt.legend()\n",
        "plt.title('PCA of Iris Dataset')\n",
        "plt.show()\n",
        "```\n",
        "\n",
        "## Instructions\n",
        "\n",
        "1. **Understand the Starter Code**: Read through the starter code to understand how PCA is applied using eigenvalues and eigenvectors.\n",
        "2. **Experiment with Different k Values**: Modify the `k` value to keep different numbers of principal components. Observe how the results change.\n",
        "3. **Visualize the Results**: Run the code to visualize the PCA results. Compare the scatter plots with different `k` values.\n",
        "4. **Analyze the Performance**: Use the scatter plots to evaluate the effectiveness of PCA in separating the different classes in the dataset.\n",
        "\n",
        "## Questions\n",
        "\n",
        "1. How does the scatter plot change as you vary the number of principal components (`k`)?\n",
        "2. What do the principal components represent in the context of the dataset?\n",
        "3. How effective is PCA in reducing the dimensionality of the Iris dataset while preserving the class separation?\n"
      ]
    },
    {
      "cell_type": "code",
      "source": [
        "import numpy as np\n",
        "import matplotlib.pyplot as plt\n",
        "from sklearn.datasets import load_iris\n",
        "from sklearn.preprocessing import StandardScaler\n",
        "\n",
        "# Step 1: Load the dataset\n",
        "data = load_iris()\n",
        "X = data.data\n",
        "y = data.target\n",
        "\n",
        "# Step 2: Standardize the dataset\n",
        "scaler = StandardScaler()\n",
        "X_standardized = scaler.fit_transform(X)\n",
        "\n",
        "# Step 3: Compute the covariance matrix\n",
        "cov_matrix = np.cov(X_standardized.T)\n",
        "\n",
        "# Step 4: Compute the eigenvalues and eigenvectors\n",
        "eigenvalues, eigenvectors = np.linalg.eig(cov_matrix)\n",
        "\n",
        "# Step 5: Select the top k eigenvectors\n",
        "k = 2  # Number of principal components to keep\n",
        "idx = np.argsort(eigenvalues)[::-1]  # Indices of eigenvalues in descending order\n",
        "eigenvectors = eigenvectors[:, idx]  # Sort eigenvectors accordingly\n",
        "top_k_eigenvectors = eigenvectors[:, :k]\n",
        "\n",
        "# Step 6: Transform the dataset\n",
        "X_pca = X_standardized.dot(top_k_eigenvectors)\n",
        "\n",
        "# Step 7: Visualize the results\n",
        "plt.figure(figsize=(8, 6))\n",
        "for target in np.unique(y):\n",
        "    plt.scatter(X_pca[y == target, 0], X_pca[y == target, 1], label=data.target_names[target])\n",
        "plt.xlabel('Principal Component 1')\n",
        "plt.ylabel('Principal Component 2')\n",
        "plt.legend()\n",
        "plt.title('PCA of Iris Dataset')\n",
        "plt.show()"
      ],
      "metadata": {
        "colab": {
          "base_uri": "https://localhost:8080/",
          "height": 564
        },
        "id": "oOYFA3uxuqSA",
        "outputId": "cb164c36-9604-4991-920f-98261b870c23"
      },
      "execution_count": 3,
      "outputs": [
        {
          "output_type": "display_data",
          "data": {
            "text/plain": [
              "<Figure size 800x600 with 1 Axes>"
            ],
            "image/png": "[encoded data removed]"
          },
          "metadata": {}
        }
      ]
    },
    {
      "cell_type": "markdown",
      "metadata": {
        "id": "sTV-2_Od1PPD"
      },
      "source": [
        "**Answer**\n",
        "\n",
        "### Answers to the Questions\n",
        "\n",
        "#### 1. How does the scatter plot change as you vary the number of principal components (k)?\n",
        "The scatter plot significantly changes as you vary the number of principal components (k). When k is set to 2, you see only the two principal dimensions that account for the majority of the data's variance. This often results in a compressed visualization of the most important information, making it easier to understand and analyze. As you reduce the number of components (e.g., k=1), the scatter plot becomes more compressed, offering less information about class separation. When you increase the number of components (e.g., k=3 or more), the scatter plot may convey more information, but a two-dimensional plot might not suffice, making visualization more complex.\n",
        "\n",
        "#### 2. What do the principal components represent in the context of the dataset?\n",
        "Principal components represent linear combinations of the original features that explain the maximum variance in the data. In the context of the Iris dataset, principal components can be combinations of petal length, petal width, sepal length, and sepal width that best separate the different classes (species of flowers). The first principal component typically accounts for the highest variance, and the second principal component accounts for the highest remaining variance orthogonal to the first component.\n",
        "\n",
        "#### 3. How effective is PCA in reducing the dimensionality of the Iris dataset while preserving the class separation?\n",
        "PCA is highly effective in reducing the dimensionality of the Iris dataset while preserving class separation. Using two principal components (k=2), it is possible to explain most of the variance in the data and achieve good class separation. This indicates that most of the important information is retained, and only noise and less important details are discarded. This is particularly valuable in practical applications because reducing dimensionality can simplify models, reduce processing time, and maintain model accuracy.\n"
      ]
    },
    {
      "cell_type": "markdown",
      "metadata": {
        "id": "g1SuBzEZJI6-"
      },
      "source": [
        "### 3.7 Applications in AI"
      ]
    },
    {
      "cell_type": "markdown",
      "metadata": {
        "id": "gMRlDs_pJLkq"
      },
      "source": [
        "Linear algebra is essential in various AI applications, including:"
      ]
    },
    {
      "cell_type": "markdown",
      "metadata": {
        "id": "KE07qlnFJO5M"
      },
      "source": [
        "#### 3.7.1 Principal Component Analysis (PCA)"
      ]
    },
    {
      "cell_type": "markdown",
      "metadata": {
        "id": "7lKsVc-KJS3y"
      },
      "source": [
        "PCA is used for dimensionality reduction in ML."
      ]
    },
    {
      "cell_type": "code",
      "execution_count": null,
      "metadata": {
        "colab": {
          "base_uri": "https://localhost:8080/"
        },
        "id": "Q8xPjQS6JVkJ",
        "outputId": "ad85b8ac-25dc-4480-bf7d-ad481bdff12c"
      },
      "outputs": [
        {
          "output_type": "stream",
          "name": "stdout",
          "text": [
            "          0         1         2\n",
            "0  0.805670  0.585354  0.868271\n",
            "1  0.205841  0.111920  0.269750\n",
            "2  0.057087  0.531170  0.936606\n",
            "3  0.039344  0.122110  0.452199\n",
            "4  0.933875  0.316156  0.507235\n",
            "Reduced data:\n",
            " [[ 4.16687802e-01 -1.80784346e-01]\n",
            " [-3.49809948e-01  4.02083384e-01]\n",
            " [ 1.15555170e-02 -1.01431220e-01]\n",
            " [-3.14282368e-01  3.73617202e-01]\n",
            " [ 2.56696254e-01  1.31274102e-01]\n",
            " [ 9.49439816e-02  2.70471190e-01]\n",
            " [ 6.62814745e-01  3.73242019e-01]\n",
            " [-4.55765100e-02 -3.92467168e-01]\n",
            " [ 9.49524264e-02 -4.25197741e-02]\n",
            " [-3.49895593e-01  4.80721842e-01]\n",
            " [ 2.58449407e-01  2.31186693e-01]\n",
            " [ 4.38103572e-01  3.25372054e-01]\n",
            " [-3.80867733e-01 -3.43330039e-01]\n",
            " [ 3.69198965e-01 -4.36241059e-01]\n",
            " [ 1.60264595e-01 -5.16645136e-02]\n",
            " [-1.87163429e-01 -4.83276939e-02]\n",
            " [ 3.32077277e-01 -2.62046493e-01]\n",
            " [-3.25994115e-01 -1.56908067e-01]\n",
            " [ 2.26775405e-01  3.30135915e-01]\n",
            " [ 6.97510167e-01  3.25179380e-01]\n",
            " [ 6.19551888e-02 -4.31483289e-01]\n",
            " [ 2.54381725e-01 -3.22211929e-01]\n",
            " [ 4.92506727e-02  1.22618558e-01]\n",
            " [ 3.38586907e-01 -3.45598311e-01]\n",
            " [-4.22633766e-01 -2.85001348e-01]\n",
            " [-8.18902116e-02  4.82968807e-01]\n",
            " [ 3.74432172e-02  5.20547514e-02]\n",
            " [-3.08950653e-01  6.51631942e-02]\n",
            " [-4.13507442e-01  3.08458499e-01]\n",
            " [ 8.75562539e-02 -2.17152605e-01]\n",
            " [ 2.29389013e-01  3.94086129e-02]\n",
            " [-3.95321291e-01  5.93863108e-02]\n",
            " [-2.04411321e-01  1.11849067e-01]\n",
            " [ 8.33280131e-02 -8.13250235e-02]\n",
            " [ 2.43282031e-01 -3.82165523e-01]\n",
            " [ 7.27198748e-02  4.69646187e-01]\n",
            " [-6.55068372e-02 -2.08461134e-01]\n",
            " [-6.03794420e-01 -3.75134650e-01]\n",
            " [-6.05299879e-02  1.54746040e-01]\n",
            " [-1.84664753e-01  2.43387649e-01]\n",
            " [-1.77655711e-01 -3.24703097e-01]\n",
            " [-1.14172750e-02 -1.59976895e-01]\n",
            " [-4.65105356e-01  1.22109801e-01]\n",
            " [-5.14221428e-01 -1.46587555e-01]\n",
            " [-3.61709462e-01 -1.79819855e-01]\n",
            " [ 3.88188000e-01  1.41885747e-01]\n",
            " [-5.99597990e-02 -3.37627432e-01]\n",
            " [-7.24329242e-05 -2.03712695e-01]\n",
            " [ 2.68779640e-01 -4.04483105e-01]\n",
            " [-8.74499186e-02  2.52826400e-01]\n",
            " [ 1.59511027e-01 -4.18119617e-01]\n",
            " [ 1.17522715e-01  1.97855589e-01]\n",
            " [-2.89533033e-01 -3.25862800e-01]\n",
            " [ 2.12322614e-01  3.45191731e-01]\n",
            " [-3.42830501e-01 -6.41289295e-02]\n",
            " [-1.67351785e-01 -3.57721537e-01]\n",
            " [-1.19061921e-01  4.40878468e-01]\n",
            " [-1.91328874e-01 -4.13045760e-02]\n",
            " [-1.28616303e-01 -1.16440965e-01]\n",
            " [ 4.60520647e-01  2.79223013e-01]\n",
            " [ 7.34659238e-02  1.54033103e-02]\n",
            " [-2.81311057e-01 -4.69825155e-01]\n",
            " [-2.62581750e-01 -2.42911330e-01]\n",
            " [-4.44473078e-01  4.57513897e-01]\n",
            " [ 1.08121272e-01  2.82538982e-01]\n",
            " [-5.25753140e-01  1.89741889e-01]\n",
            " [ 2.59890359e-01  3.54397133e-01]\n",
            " [ 7.65907948e-02 -1.10428081e-01]\n",
            " [-9.09990673e-02 -4.31401453e-02]\n",
            " [ 2.07733868e-01 -2.59586574e-01]\n",
            " [ 2.25194363e-01 -1.26825644e-01]\n",
            " [ 4.41329429e-02  3.98694619e-01]\n",
            " [ 4.32274989e-01  2.42989270e-01]\n",
            " [-5.46508382e-01  8.30323450e-03]\n",
            " [-2.29561328e-01 -2.57556217e-01]\n",
            " [ 3.44613092e-01 -3.90235180e-01]\n",
            " [-4.63184402e-01  1.33581859e-01]\n",
            " [ 2.31361607e-01 -4.79991234e-01]\n",
            " [ 2.60030966e-01 -8.35629529e-02]\n",
            " [-6.23376102e-01 -2.07743949e-01]\n",
            " [ 2.78512385e-01 -3.53128539e-01]\n",
            " [-4.87655830e-01  2.22134816e-01]\n",
            " [ 2.63418087e-01  3.22459787e-01]\n",
            " [-6.30293986e-02  1.75794452e-01]\n",
            " [-7.99170103e-02 -1.27898318e-01]\n",
            " [ 5.95394098e-01 -1.16711848e-01]\n",
            " [ 5.46793787e-01  1.80511991e-01]\n",
            " [-4.20519940e-01 -3.06990322e-01]\n",
            " [ 3.73379392e-01 -4.54652569e-01]\n",
            " [-1.59426552e-01  2.10981065e-01]\n",
            " [ 9.14559714e-02  2.70452711e-01]\n",
            " [-9.96913318e-02 -5.11822034e-01]\n",
            " [ 4.86800259e-01  2.66889522e-01]\n",
            " [ 3.01703692e-01 -5.14046961e-02]\n",
            " [ 1.68097190e-01  2.79677417e-01]\n",
            " [-1.59512276e-01  3.44735394e-01]\n",
            " [-5.26797574e-01  5.13167394e-01]\n",
            " [ 5.94814803e-01 -1.66950303e-01]\n",
            " [-5.52865677e-02  1.59603406e-01]\n",
            " [ 8.21514730e-02  3.43593980e-01]]\n"
          ]
        }
      ],
      "source": [
        "from sklearn.decomposition import PCA\n",
        "\n",
        "# Assuming data is a matrix with shape (n_samples, n_features)\n",
        "data = np.random.rand(100, 3)  # Example data\n",
        "df = pd.DataFrame(data)\n",
        "print(df.head())\n",
        "pca = PCA(n_components=2)\n",
        "reduced_data = pca.fit_transform(data)\n",
        "print(\"Reduced data:\\n\", reduced_data)"
      ]
    },
    {
      "cell_type": "markdown",
      "metadata": {
        "id": "NOfiJjEwJoLd"
      },
      "source": [
        "#### 3.7.2 Linear Regression"
      ]
    },
    {
      "cell_type": "markdown",
      "metadata": {
        "id": "1lR-HIObJvM8"
      },
      "source": [
        "Linear regression can be solved using the normal equation, which is derived from linear algebra.\n",
        "\n",
        "$\n",
        "\\theta = (\\mathbf{X}^T \\mathbf{X})^{-1} \\mathbf{X}^T \\mathbf{y}\n",
        "$"
      ]
    },
    {
      "cell_type": "code",
      "execution_count": null,
      "metadata": {
        "colab": {
          "base_uri": "https://localhost:8080/",
          "height": 489
        },
        "id": "HRD1so0gJtlF",
        "outputId": "8700ccd8-ec51-4480-de02-76b9e78c3d1c"
      },
      "outputs": [
        {
          "output_type": "stream",
          "name": "stdout",
          "text": [
            "Optimal parameters: [3. 1. 2.]\n"
          ]
        },
        {
          "output_type": "display_data",
          "data": {
            "text/plain": [
              "<Figure size 640x480 with 1 Axes>"
            ],
            "image/png": "[encoded data removed]"
          },
          "metadata": {}
        }
      ],
      "source": [
        "import numpy as np\n",
        "import matplotlib.pyplot as plt\n",
        "\n",
        "class LinearRegressionModel:\n",
        "    def __init__(self, X, y):\n",
        "        \"\"\"\n",
        "        Initialize the Linear Regression Model with feature matrix X and target vector y.\n",
        "\n",
        "        Parameters:\n",
        "        X (np.ndarray): Feature matrix\n",
        "        y (np.ndarray): Target vector\n",
        "        \"\"\"\n",
        "        self.X = X\n",
        "        self.y = y\n",
        "        self.theta_best = None\n",
        "\n",
        "    @staticmethod\n",
        "    def add_intercept(X):\n",
        "        \"\"\"\n",
        "        Add a column of ones to the feature matrix for the intercept term.\n",
        "\n",
        "        Parameters:\n",
        "        X (np.ndarray): Feature matrix\n",
        "\n",
        "        Returns:\n",
        "        np.ndarray: Feature matrix with intercept term\n",
        "        \"\"\"\n",
        "        return np.c_[np.ones((X.shape[0], 1)), X]\n",
        "\n",
        "    def compute_parameters(self):\n",
        "        \"\"\"\n",
        "        Compute the optimal parameters using the normal equation.\n",
        "\n",
        "        Returns:\n",
        "        np.ndarray: Optimal parameters\n",
        "        \"\"\"\n",
        "        X_b = self.add_intercept(self.X)\n",
        "        self.theta_best = np.linalg.inv(X_b.T.dot(X_b)).dot(X_b.T).dot(self.y)\n",
        "        return self.theta_best\n",
        "\n",
        "    def predict(self, X):\n",
        "        \"\"\"\n",
        "        Predict the target values based on the input features and optimal parameters.\n",
        "\n",
        "        Parameters:\n",
        "        X (np.ndarray): Feature matrix\n",
        "\n",
        "        Returns:\n",
        "        np.ndarray: Predicted target values\n",
        "        \"\"\"\n",
        "        X_b = self.add_intercept(X)\n",
        "        return X_b.dot(self.theta_best)\n",
        "\n",
        "    def visualize(self):\n",
        "        \"\"\"\n",
        "        Visualize the original data points and the regression line.\n",
        "        \"\"\"\n",
        "        # Generate new data points for plotting the regression line\n",
        "        X_new = np.array([[0, 0], [2, 3]])\n",
        "        y_predict = self.predict(X_new)\n",
        "\n",
        "        # Plot the original data points\n",
        "        plt.scatter(self.X[:, 1], self.y, color='blue', label='Original data')\n",
        "\n",
        "        # Plot the regression line\n",
        "        plt.plot(X_new[:, 1], y_predict, color='red', label='Regression line')\n",
        "\n",
        "        # Add labels and legend\n",
        "        plt.xlabel('Feature')\n",
        "        plt.ylabel('Target')\n",
        "        plt.title('Linear Regression')\n",
        "        plt.legend()\n",
        "        plt.show()\n",
        "\n",
        "# Assuming X is the feature matrix and y is the target vector\n",
        "X = np.array([[1, 1], [1, 2], [2, 2], [2, 3]])\n",
        "y = np.dot(X, np.array([1, 2])) + 3\n",
        "\n",
        "# Create an instance of the LinearRegressionModel class\n",
        "model = LinearRegressionModel(X, y)\n",
        "\n",
        "# Compute the optimal parameters\n",
        "theta_best = model.compute_parameters()\n",
        "print(\"Optimal parameters:\", theta_best)\n",
        "\n",
        "# Visualize the results\n",
        "model.visualize()\n"
      ]
    },
    {
      "cell_type": "markdown",
      "metadata": {
        "id": "3Z9IT60W25r8"
      },
      "source": [
        "## 4.Cost Function ( Error )"
      ]
    },
    {
      "cell_type": "markdown",
      "metadata": {
        "id": "A5umjwYrmrby"
      },
      "source": [
        "In machine learning, the cost function (or error function) measures how well a model's predictions match the actual data. Minimizing the cost function is crucial for training models. This notebook will guide you through defining and computing cost functions using TensorFlow and PyTorch."
      ]
    },
    {
      "cell_type": "markdown",
      "metadata": {
        "id": "skjXU0MemxtM"
      },
      "source": [
        "### Table of Contents\n",
        "4.1 Introduction to Cost Functions\n",
        "\n",
        "4.2 Mean Squared Error (MSE) in TensorFlow\n",
        "\n",
        "4.3 Mean Squared Error (MSE) in PyTorch\n",
        "\n",
        "4.4 Binary Cross-Entropy Loss in TensorFlow\n",
        "\n",
        "4.5 Binary Cross-Entropy Loss in PyTorch\n",
        "\n",
        "4.6 Applications in AI"
      ]
    },
    {
      "cell_type": "markdown",
      "metadata": {
        "id": "z0nxcxuPm9KB"
      },
      "source": [
        "### 4.1 Introduction to Cost Functions"
      ]
    },
    {
      "cell_type": "markdown",
      "metadata": {
        "id": "yIdcuCxmm_6P"
      },
      "source": [
        "A cost function quantifies the difference between the predicted values and the actual values. Common cost functions include Mean Squared Error (MSE) for regression tasks and Binary Cross-Entropy Loss for binary classification tasks."
      ]
    },
    {
      "cell_type": "markdown",
      "metadata": {
        "id": "tFu0BpMKnCH8"
      },
      "source": [
        "#### 4.1.1 Mean Squared Error (MSE)"
      ]
    },
    {
      "cell_type": "markdown",
      "metadata": {
        "id": "3xaJYP_ynGJB"
      },
      "source": [
        "$\n",
        "\\text{MSE} = \\frac{1}{n} \\sum_{i=1}^{n} (y_i - \\hat{y}_i)^2\n",
        "$\n"
      ]
    },
    {
      "cell_type": "markdown",
      "metadata": {
        "id": "aKp4UrMRnKlB"
      },
      "source": [
        "#### 4.1.2 Binary Cross-Entropy Loss"
      ]
    },
    {
      "cell_type": "markdown",
      "metadata": {
        "id": "SOAb36HXnQDN"
      },
      "source": [
        "$\n",
        "\\text{Binary Cross-Entropy} = -\\frac{1}{n} \\sum_{i=1}^{n} \\left( y_i \\log(\\hat{y}_i) + (1 - y_i) \\log(1 - \\hat{y}_i) \\right)\n",
        "$"
      ]
    },
    {
      "cell_type": "markdown",
      "metadata": {
        "id": "rvzPSKIknTIB"
      },
      "source": [
        "### 4.2 Mean Squared Error (MSE) in TensorFlow"
      ]
    },
    {
      "cell_type": "markdown",
      "metadata": {
        "id": "UxP-DHjinXLu"
      },
      "source": [
        "First, let's implement MSE using TensorFlow."
      ]
    },
    {
      "cell_type": "code",
      "execution_count": null,
      "metadata": {
        "colab": {
          "base_uri": "https://localhost:8080/"
        },
        "id": "oJysgth4nW4t",
        "outputId": "d229258f-6b4a-4dae-a904-ad0ce7486f69"
      },
      "outputs": [
        {
          "output_type": "stream",
          "name": "stdout",
          "text": [
            "Mean Squared Error (TensorFlow): 0.25\n"
          ]
        }
      ],
      "source": [
        "# Define the true values and predicted values\n",
        "y_true = tf.constant([1.0, 2.0, 3.0])\n",
        "y_pred = tf.constant([1.5, 2.5, 3.5])\n",
        "\n",
        "# Define the MSE function\n",
        "def mse_loss(y_true, y_pred):\n",
        "    return tf.reduce_mean(tf.square(y_true - y_pred))\n",
        "\n",
        "# Compute the MSE\n",
        "mse = mse_loss(y_true, y_pred)\n",
        "print(\"Mean Squared Error (TensorFlow):\", mse.numpy())"
      ]
    },
    {
      "cell_type": "markdown",
      "metadata": {
        "id": "V7WJU9d1nf8B"
      },
      "source": [
        "### 4.3 Mean Squared Error (MSE) in PyTorch"
      ]
    },
    {
      "cell_type": "markdown",
      "metadata": {
        "id": "v4szC1j-nk7Q"
      },
      "source": [
        "Now, let's implement MSE using PyTorch."
      ]
    },
    {
      "cell_type": "code",
      "execution_count": null,
      "metadata": {
        "colab": {
          "base_uri": "https://localhost:8080/"
        },
        "id": "q0JESHi3nn9T",
        "outputId": "6f623bff-869a-4657-92ec-f905cb8f63e4"
      },
      "outputs": [
        {
          "name": "stdout",
          "output_type": "stream",
          "text": [
            "Mean Squared Error (PyTorch): 0.25\n"
          ]
        }
      ],
      "source": [
        "# Define the true values and predicted values\n",
        "y_true = torch.tensor([1.0, 2.0, 3.0])\n",
        "y_pred = torch.tensor([1.5, 2.5, 3.5])\n",
        "\n",
        "# Define the MSE function\n",
        "def mse_loss(y_true, y_pred):\n",
        "    return torch.mean((y_true - y_pred) ** 2)\n",
        "\n",
        "# Compute the MSE\n",
        "mse = mse_loss(y_true, y_pred)\n",
        "print(\"Mean Squared Error (PyTorch):\", mse.item())"
      ]
    },
    {
      "cell_type": "markdown",
      "metadata": {
        "id": "7F59wICFnrLB"
      },
      "source": [
        "### 4.4 Binary Cross-Entropy Loss in TensorFlow"
      ]
    },
    {
      "cell_type": "markdown",
      "metadata": {
        "id": "HfsLPcSBnuFL"
      },
      "source": [
        "Next, we'll implement Binary Cross-Entropy Loss using TensorFlow."
      ]
    },
    {
      "cell_type": "code",
      "execution_count": null,
      "metadata": {
        "colab": {
          "base_uri": "https://localhost:8080/"
        },
        "id": "5ZkPl6u0nwvD",
        "outputId": "15288cbc-c043-4b16-de60-b09de580ceab"
      },
      "outputs": [
        {
          "output_type": "stream",
          "name": "stdout",
          "text": [
            "Binary Cross-Entropy Loss (TensorFlow): 0.22839285\n"
          ]
        }
      ],
      "source": [
        "# Define the true values and predicted values\n",
        "y_true = tf.constant([1.0, 0.0, 1.0])\n",
        "y_pred = tf.constant([0.9, 0.2, 0.7])\n",
        "\n",
        "# Define the Binary Cross-Entropy Loss function\n",
        "bce_loss = tf.keras.losses.BinaryCrossentropy()\n",
        "\n",
        "# Compute the Binary Cross-Entropy Loss\n",
        "bce = bce_loss(y_true, y_pred)\n",
        "print(\"Binary Cross-Entropy Loss (TensorFlow):\", bce.numpy())\n"
      ]
    },
    {
      "cell_type": "markdown",
      "metadata": {
        "id": "O_BXc-oYnzqb"
      },
      "source": [
        "### 4.5 Binary Cross-Entropy Loss in PyTorch"
      ]
    },
    {
      "cell_type": "markdown",
      "metadata": {
        "id": "oMl6nGUNn2Ni"
      },
      "source": [
        "Now, we'll implement Binary Cross-Entropy Loss using PyTorch."
      ]
    },
    {
      "cell_type": "code",
      "execution_count": null,
      "metadata": {
        "colab": {
          "base_uri": "https://localhost:8080/"
        },
        "id": "bK69ZyPIn5J2",
        "outputId": "e52744ca-6f84-4a99-d575-bcb5405a206a"
      },
      "outputs": [
        {
          "output_type": "stream",
          "name": "stdout",
          "text": [
            "Binary Cross-Entropy Loss (PyTorch): 0.22839303314685822\n"
          ]
        }
      ],
      "source": [
        "import torch.nn.functional as F\n",
        "\n",
        "# Define the true values and predicted values\n",
        "y_true = torch.tensor([1.0, 0.0, 1.0])\n",
        "y_pred = torch.tensor([0.9, 0.2, 0.7])\n",
        "\n",
        "# Define the Binary Cross-Entropy Loss function\n",
        "bce_loss = F.binary_cross_entropy\n",
        "\n",
        "# Compute the Binary Cross-Entropy Loss\n",
        "bce = bce_loss(y_pred, y_true)\n",
        "print(\"Binary Cross-Entropy Loss (PyTorch):\", bce.item())\n"
      ]
    },
    {
      "cell_type": "markdown",
      "metadata": {
        "id": "R1UNi-J_2_-g"
      },
      "source": [
        "## 5.Optimizers"
      ]
    },
    {
      "cell_type": "markdown",
      "metadata": {
        "id": "HLP8jx9tu4QV"
      },
      "source": [
        "In this notebook, we will focus on implementing and using the Stochastic Gradient Descent (SGD) and Adam optimizers with TensorFlow. These optimization techniques are crucial for training machine learning models."
      ]
    },
    {
      "cell_type": "markdown",
      "metadata": {
        "id": "PAtMfGTwvIeL"
      },
      "source": [
        "## Table of Contents\n",
        "5.1 Introduction to Optimization\n",
        "\n",
        "5.2 SGD and Adam in TensorFlow"
      ]
    },
    {
      "cell_type": "markdown",
      "metadata": {
        "id": "cqkgJnQ4vNpz"
      },
      "source": [
        "### 5.1 Introduction to Optimization"
      ]
    },
    {
      "cell_type": "markdown",
      "metadata": {
        "id": "ym6vxJ31vQqd"
      },
      "source": [
        "Optimization is the process of finding the best parameters for a given model that minimize or maximize a specific cost function. SGD and Adam are two popular optimization algorithms used in machine learning."
      ]
    },
    {
      "cell_type": "markdown",
      "metadata": {
        "id": "89sttJilvSUp"
      },
      "source": [
        "#### 5.1.1 Stochastic Gradient Descent (SGD)\n"
      ]
    },
    {
      "cell_type": "markdown",
      "metadata": {
        "id": "kYT0NyWYvWEq"
      },
      "source": [
        "SGD updates the parameters by computing the gradient of the cost function with respect to the parameters and adjusting the parameters in the opposite direction of the gradient.\n",
        "\n",
        "$\n",
        "\\theta = \\theta - \\eta \\cdot \\nabla_\\theta J(\\theta)\n",
        "$"
      ]
    },
    {
      "cell_type": "markdown",
      "metadata": {
        "id": "pKQlF6gpvaNP"
      },
      "source": [
        "#### 5.1.2 Adam Optimizer"
      ]
    },
    {
      "cell_type": "markdown",
      "metadata": {
        "id": "4EGwMvyQvdIb"
      },
      "source": [
        "Adam is an adaptive learning rate optimization algorithm that computes adaptive learning rates for each parameter. It combines the advantages of two other extensions of SGD: AdaGrad and RMSProp."
      ]
    },
    {
      "cell_type": "markdown",
      "metadata": {
        "id": "P8jQRVh7vf7O"
      },
      "source": [
        "### 5.2 SGD and Adam in TensorFlow"
      ]
    },
    {
      "cell_type": "markdown",
      "metadata": {
        "id": "E2CASU_Bvi2V"
      },
      "source": [
        "TensorFlow provides built-in optimizers for SGD and Adam, making it straightforward to use these algorithms for training machine learning models."
      ]
    },
    {
      "cell_type": "markdown",
      "metadata": {
        "id": "sI-TgHrWvkRW"
      },
      "source": [
        "#### 5.2.1 Stochastic Gradient Descent (SGD) in TensorFlow"
      ]
    },
    {
      "cell_type": "markdown",
      "metadata": {
        "id": "aiSDAV59vncc"
      },
      "source": [
        "Let's define a simple linear regression model and optimize it using SGD."
      ]
    },
    {
      "cell_type": "code",
      "execution_count": null,
      "metadata": {
        "colab": {
          "base_uri": "https://localhost:8080/",
          "height": 623
        },
        "id": "invoE5KevtEG",
        "outputId": "6f78b20f-6c35-4dc9-9808-143ee86ad16e"
      },
      "outputs": [
        {
          "output_type": "stream",
          "name": "stdout",
          "text": [
            "Epoch 0: Loss = 18.757080078125\n",
            "Epoch 10: Loss = 11.379223823547363\n",
            "Epoch 20: Loss = 6.913081169128418\n",
            "Epoch 30: Loss = 4.209307670593262\n",
            "Epoch 40: Loss = 2.572249412536621\n",
            "Epoch 50: Loss = 1.580851435661316\n",
            "Epoch 60: Loss = 0.9802625775337219\n",
            "Epoch 70: Loss = 0.6162307858467102\n",
            "Epoch 80: Loss = 0.3953922688961029\n",
            "Epoch 90: Loss = 0.2612367868423462\n"
          ]
        },
        {
          "output_type": "display_data",
          "data": {
            "text/plain": [
              "<Figure size 640x480 with 1 Axes>"
            ],
            "image/png": "[encoded data removed]"
          },
          "metadata": {}
        }
      ],
      "source": [
        "# Generate synthetic data\n",
        "np.random.seed(0)\n",
        "X = np.random.rand(100, 1)\n",
        "y = 2 * X + 1 + 0.1 * np.random.randn(100, 1)\n",
        "\n",
        "# Define a simple linear regression model\n",
        "class LinearModel(tf.Module):\n",
        "    def __init__(self):\n",
        "        self.w = tf.Variable(tf.random.normal([1]))\n",
        "        self.b = tf.Variable(tf.random.normal([1]))\n",
        "\n",
        "    def __call__(self, x):\n",
        "        return self.w * x + self.b\n",
        "\n",
        "# Define the mean squared error loss function\n",
        "def mse_loss(y_true, y_pred):\n",
        "    return tf.reduce_mean(tf.square(y_true - y_pred))\n",
        "\n",
        "# Define the training function\n",
        "def train_sgd(model, X, y, learning_rate, num_epochs):\n",
        "    optimizer = tf.optimizers.SGD(learning_rate)\n",
        "\n",
        "    for epoch in range(num_epochs):\n",
        "        with tf.GradientTape() as tape:\n",
        "            y_pred = model(X)\n",
        "            loss = mse_loss(y, y_pred)\n",
        "\n",
        "        gradients = tape.gradient(loss, [model.w, model.b])\n",
        "        optimizer.apply_gradients(zip(gradients, [model.w, model.b]))\n",
        "\n",
        "        if epoch % 10 == 0:\n",
        "            print(f\"Epoch {epoch}: Loss = {loss.numpy()}\")\n",
        "\n",
        "    return model\n",
        "\n",
        "# Instantiate the model\n",
        "model = LinearModel()\n",
        "\n",
        "# Train the model using SGD\n",
        "trained_model_sgd = train_sgd(model, X, y, learning_rate=0.01, num_epochs=100)\n",
        "\n",
        "# Plot the results\n",
        "plt.scatter(X, y, color='blue', label='Data')\n",
        "plt.plot(X, trained_model_sgd(X), color='red', label='Fitted line (SGD)')\n",
        "plt.xlabel('Feature')\n",
        "plt.ylabel('Target')\n",
        "plt.legend()\n",
        "plt.show()\n"
      ]
    },
    {
      "cell_type": "markdown",
      "metadata": {
        "id": "SUK21pS-vv-4"
      },
      "source": [
        "#### 5.2.2 Adam in TensorFlow"
      ]
    },
    {
      "cell_type": "markdown",
      "metadata": {
        "id": "pDoL4uagvyam"
      },
      "source": [
        "Now, let's optimize the same linear regression model using the Adam optimizer."
      ]
    },
    {
      "cell_type": "markdown",
      "metadata": {
        "id": "FiL41-2Lv363"
      },
      "source": []
    },
    {
      "cell_type": "code",
      "execution_count": null,
      "metadata": {
        "colab": {
          "base_uri": "https://localhost:8080/",
          "height": 623
        },
        "id": "9O7SMf-kv4lG",
        "outputId": "b245283a-9cb3-443a-e363-bf43e0a8e900"
      },
      "outputs": [
        {
          "output_type": "stream",
          "name": "stdout",
          "text": [
            "Epoch 0: Loss = 0.7073449492454529\n",
            "Epoch 10: Loss = 0.5168801546096802\n",
            "Epoch 20: Loss = 0.3766971230506897\n",
            "Epoch 30: Loss = 0.28456252813339233\n",
            "Epoch 40: Loss = 0.231010302901268\n",
            "Epoch 50: Loss = 0.20283666253089905\n",
            "Epoch 60: Loss = 0.1878092885017395\n",
            "Epoch 70: Loss = 0.17777878046035767\n",
            "Epoch 80: Loss = 0.1689079850912094\n",
            "Epoch 90: Loss = 0.16007483005523682\n"
          ]
        },
        {
          "output_type": "display_data",
          "data": {
            "text/plain": [
              "<Figure size 640x480 with 1 Axes>"
            ],
            "image/png": "[encoded data removed]"
          },
          "metadata": {}
        }
      ],
      "source": [
        "# Define the training function\n",
        "def train_adam(model, X, y, learning_rate, num_epochs):\n",
        "    optimizer = tf.optimizers.Adam(learning_rate)\n",
        "\n",
        "    for epoch in range(num_epochs):\n",
        "        with tf.GradientTape() as tape:\n",
        "            y_pred = model(X)\n",
        "            loss = mse_loss(y, y_pred)\n",
        "\n",
        "        gradients = tape.gradient(loss, [model.w, model.b])\n",
        "        optimizer.apply_gradients(zip(gradients, [model.w, model.b]))\n",
        "\n",
        "        if epoch % 10 == 0:\n",
        "            print(f\"Epoch {epoch}: Loss = {loss.numpy()}\")\n",
        "\n",
        "    return model\n",
        "\n",
        "# Instantiate the model\n",
        "model = LinearModel()\n",
        "\n",
        "# Train the model using Adam\n",
        "trained_model_adam = train_adam(model, X, y, learning_rate=0.01, num_epochs=100)\n",
        "\n",
        "# Plot the results\n",
        "plt.scatter(X, y, color='blue', label='Data')\n",
        "plt.plot(X, trained_model_adam(X), color='green', label='Fitted line (Adam)')\n",
        "plt.xlabel('Feature')\n",
        "plt.ylabel('Target')\n",
        "plt.legend()\n",
        "plt.show()"
      ]
    }
  ],
  "metadata": {
    "colab": {
      "collapsed_sections": [
        "xh7hyka9Eswd",
        "S51su6c7FuXU",
        "PRPmGkHaTMHN"
      ],
      "provenance": [],
      "toc_visible": true
    },
    "kernelspec": {
      "display_name": "Python 3",
      "name": "python3"
    },
    "language_info": {
      "codemirror_mode": {
        "name": "ipython",
        "version": 3
      },
      "file_extension": ".py",
      "mimetype": "text/x-python",
      "name": "python",
      "nbconvert_exporter": "python",
      "pygments_lexer": "ipython3",
      "version": "3.11.5"
    }
  },
  "nbformat": 4,
  "nbformat_minor": 0
}